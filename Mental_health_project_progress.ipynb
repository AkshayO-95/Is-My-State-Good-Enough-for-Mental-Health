{
 "cells": [
  {
   "cell_type": "markdown",
   "metadata": {},
   "source": [
    "# Is Your State Good Enough for your Mental Health ?- Intermediate Progress\n",
    "\n",
    "*Project Members : Akshay Oza (aoza) and Mansi Panchmia (mpancham)*\n",
    "\n",
    "*Data Science and Big Data: Fall 2020*"
   ]
  },
  {
   "cell_type": "raw",
   "metadata": {},
   "source": [
    "#The current animation plot might appear static as it requires plotlywidget to be installed for the plotly plots to render on jupyter lab\n",
    "#Install the following packages and jupyter-lab extensions in order for plotly plots to render:\n",
    "!pip install plotly\n",
    "!conda install -c conda-forge nodejs\n",
    "!pip install jupyterlab \"ipywidgets==7.5\"\n",
    "!jupyter labextension install jupyterlab-plotly@4.11.0"
   ]
  },
  {
   "cell_type": "markdown",
   "metadata": {},
   "source": [
    "**This file contains code for pre-processing and one data visualisation - a python animation exploring our first of three primary questions. Three datasets are pre-processed - one primary CDC mental health data and two complementary datasets - well-being index of individual states and access to mental health across states - both scraped from pdf files**\n",
    "\n",
    "**First part of the notebook focusses on data pre-processing and second part focusses on data exploration using visualisation.**\n"
   ]
  },
  {
   "cell_type": "markdown",
   "metadata": {},
   "source": [
    "# Part 1 - Preprocessing"
   ]
  },
  {
   "cell_type": "markdown",
   "metadata": {},
   "source": [
    "## CDC Mental Health Data"
   ]
  },
  {
   "cell_type": "markdown",
   "metadata": {},
   "source": [
    "**Primary dataset - CDC Mental Health Data initially containing 9615 rows and 35 columns. Reason for deleting any column is listed as a comment alongside code.**"
   ]
  },
  {
   "cell_type": "code",
   "execution_count": 1,
   "metadata": {
    "collapsed": false,
    "jupyter": {
     "outputs_hidden": false
    }
   },
   "outputs": [],
   "source": [
    "import pandas as pd\n",
    "import numpy as np"
   ]
  },
  {
   "cell_type": "code",
   "execution_count": 2,
   "metadata": {
    "collapsed": false,
    "jupyter": {
     "outputs_hidden": false
    }
   },
   "outputs": [],
   "source": [
    "df = pd.read_csv(\"U.S._Chronic_Disease_Indicators__Mental_Health.csv\")"
   ]
  },
  {
   "cell_type": "code",
   "execution_count": 3,
   "metadata": {
    "collapsed": false,
    "jupyter": {
     "outputs_hidden": false
    }
   },
   "outputs": [
    {
     "data": {
      "text/html": [
       "<div>\n",
       "<style scoped>\n",
       "    .dataframe tbody tr th:only-of-type {\n",
       "        vertical-align: middle;\n",
       "    }\n",
       "\n",
       "    .dataframe tbody tr th {\n",
       "        vertical-align: top;\n",
       "    }\n",
       "\n",
       "    .dataframe thead th {\n",
       "        text-align: right;\n",
       "    }\n",
       "</style>\n",
       "<table border=\"1\" class=\"dataframe\">\n",
       "  <thead>\n",
       "    <tr style=\"text-align: right;\">\n",
       "      <th></th>\n",
       "      <th>YearStart</th>\n",
       "      <th>YearEnd</th>\n",
       "      <th>LocationAbbr</th>\n",
       "      <th>LocationDesc</th>\n",
       "      <th>DataSource</th>\n",
       "      <th>Topic</th>\n",
       "      <th>Question</th>\n",
       "      <th>Response</th>\n",
       "      <th>DataValueUnit</th>\n",
       "      <th>DataValueType</th>\n",
       "      <th>DataValue</th>\n",
       "      <th>DataValueAlt</th>\n",
       "      <th>DataValueFootnoteSymbol</th>\n",
       "      <th>DatavalueFootnote</th>\n",
       "      <th>LowConfidenceLimit</th>\n",
       "      <th>HighConfidenceLimit</th>\n",
       "      <th>StratificationCategory1</th>\n",
       "      <th>Stratification1</th>\n",
       "      <th>StratificationCategory2</th>\n",
       "      <th>Stratification2</th>\n",
       "      <th>StratificationCategory3</th>\n",
       "      <th>Stratification3</th>\n",
       "      <th>GeoLocation</th>\n",
       "      <th>ResponseID</th>\n",
       "      <th>LocationID</th>\n",
       "      <th>TopicID</th>\n",
       "      <th>QuestionID</th>\n",
       "      <th>DataValueTypeID</th>\n",
       "      <th>StratificationCategoryID1</th>\n",
       "      <th>StratificationID1</th>\n",
       "      <th>StratificationCategoryID2</th>\n",
       "      <th>StratificationID2</th>\n",
       "      <th>StratificationCategoryID3</th>\n",
       "      <th>StratificationID3</th>\n",
       "    </tr>\n",
       "  </thead>\n",
       "  <tbody>\n",
       "    <tr>\n",
       "      <th>0</th>\n",
       "      <td>2009</td>\n",
       "      <td>2011</td>\n",
       "      <td>SC</td>\n",
       "      <td>South Carolina</td>\n",
       "      <td>PRAMS</td>\n",
       "      <td>Mental Health</td>\n",
       "      <td>Postpartum depressive symptoms</td>\n",
       "      <td>NaN</td>\n",
       "      <td>%</td>\n",
       "      <td>Crude Prevalence</td>\n",
       "      <td>NaN</td>\n",
       "      <td>NaN</td>\n",
       "      <td>-</td>\n",
       "      <td>No data available</td>\n",
       "      <td>NaN</td>\n",
       "      <td>NaN</td>\n",
       "      <td>Overall</td>\n",
       "      <td>Overall</td>\n",
       "      <td>NaN</td>\n",
       "      <td>NaN</td>\n",
       "      <td>NaN</td>\n",
       "      <td>NaN</td>\n",
       "      <td>(33.998821303000454, -81.04537120699968)</td>\n",
       "      <td>NaN</td>\n",
       "      <td>45</td>\n",
       "      <td>MTH</td>\n",
       "      <td>MTH3_0</td>\n",
       "      <td>CRDPREV</td>\n",
       "      <td>OVERALL</td>\n",
       "      <td>OVR</td>\n",
       "      <td>NaN</td>\n",
       "      <td>NaN</td>\n",
       "      <td>NaN</td>\n",
       "      <td>NaN</td>\n",
       "    </tr>\n",
       "    <tr>\n",
       "      <th>1</th>\n",
       "      <td>2009</td>\n",
       "      <td>2011</td>\n",
       "      <td>PR</td>\n",
       "      <td>Puerto Rico</td>\n",
       "      <td>PRAMS</td>\n",
       "      <td>Mental Health</td>\n",
       "      <td>Postpartum depressive symptoms</td>\n",
       "      <td>NaN</td>\n",
       "      <td>%</td>\n",
       "      <td>Crude Prevalence</td>\n",
       "      <td>NaN</td>\n",
       "      <td>NaN</td>\n",
       "      <td>-</td>\n",
       "      <td>No data available</td>\n",
       "      <td>NaN</td>\n",
       "      <td>NaN</td>\n",
       "      <td>Overall</td>\n",
       "      <td>Overall</td>\n",
       "      <td>NaN</td>\n",
       "      <td>NaN</td>\n",
       "      <td>NaN</td>\n",
       "      <td>NaN</td>\n",
       "      <td>(18.220833, -66.590149)</td>\n",
       "      <td>NaN</td>\n",
       "      <td>72</td>\n",
       "      <td>MTH</td>\n",
       "      <td>MTH3_0</td>\n",
       "      <td>CRDPREV</td>\n",
       "      <td>OVERALL</td>\n",
       "      <td>OVR</td>\n",
       "      <td>NaN</td>\n",
       "      <td>NaN</td>\n",
       "      <td>NaN</td>\n",
       "      <td>NaN</td>\n",
       "    </tr>\n",
       "    <tr>\n",
       "      <th>2</th>\n",
       "      <td>2009</td>\n",
       "      <td>2011</td>\n",
       "      <td>GU</td>\n",
       "      <td>Guam</td>\n",
       "      <td>PRAMS</td>\n",
       "      <td>Mental Health</td>\n",
       "      <td>Postpartum depressive symptoms</td>\n",
       "      <td>NaN</td>\n",
       "      <td>%</td>\n",
       "      <td>Crude Prevalence</td>\n",
       "      <td>NaN</td>\n",
       "      <td>NaN</td>\n",
       "      <td>-</td>\n",
       "      <td>No data available</td>\n",
       "      <td>NaN</td>\n",
       "      <td>NaN</td>\n",
       "      <td>Overall</td>\n",
       "      <td>Overall</td>\n",
       "      <td>NaN</td>\n",
       "      <td>NaN</td>\n",
       "      <td>NaN</td>\n",
       "      <td>NaN</td>\n",
       "      <td>(13.444304, 144.793731)</td>\n",
       "      <td>NaN</td>\n",
       "      <td>66</td>\n",
       "      <td>MTH</td>\n",
       "      <td>MTH3_0</td>\n",
       "      <td>CRDPREV</td>\n",
       "      <td>OVERALL</td>\n",
       "      <td>OVR</td>\n",
       "      <td>NaN</td>\n",
       "      <td>NaN</td>\n",
       "      <td>NaN</td>\n",
       "      <td>NaN</td>\n",
       "    </tr>\n",
       "    <tr>\n",
       "      <th>3</th>\n",
       "      <td>2009</td>\n",
       "      <td>2011</td>\n",
       "      <td>MA</td>\n",
       "      <td>Massachusetts</td>\n",
       "      <td>PRAMS</td>\n",
       "      <td>Mental Health</td>\n",
       "      <td>Postpartum depressive symptoms</td>\n",
       "      <td>NaN</td>\n",
       "      <td>%</td>\n",
       "      <td>Crude Prevalence</td>\n",
       "      <td>NaN</td>\n",
       "      <td>NaN</td>\n",
       "      <td>-</td>\n",
       "      <td>No data available</td>\n",
       "      <td>NaN</td>\n",
       "      <td>NaN</td>\n",
       "      <td>Overall</td>\n",
       "      <td>Overall</td>\n",
       "      <td>NaN</td>\n",
       "      <td>NaN</td>\n",
       "      <td>NaN</td>\n",
       "      <td>NaN</td>\n",
       "      <td>(42.27687047000046, -72.08269067499964)</td>\n",
       "      <td>NaN</td>\n",
       "      <td>25</td>\n",
       "      <td>MTH</td>\n",
       "      <td>MTH3_0</td>\n",
       "      <td>CRDPREV</td>\n",
       "      <td>OVERALL</td>\n",
       "      <td>OVR</td>\n",
       "      <td>NaN</td>\n",
       "      <td>NaN</td>\n",
       "      <td>NaN</td>\n",
       "      <td>NaN</td>\n",
       "    </tr>\n",
       "    <tr>\n",
       "      <th>4</th>\n",
       "      <td>2009</td>\n",
       "      <td>2011</td>\n",
       "      <td>IN</td>\n",
       "      <td>Indiana</td>\n",
       "      <td>PRAMS</td>\n",
       "      <td>Mental Health</td>\n",
       "      <td>Postpartum depressive symptoms</td>\n",
       "      <td>NaN</td>\n",
       "      <td>%</td>\n",
       "      <td>Crude Prevalence</td>\n",
       "      <td>NaN</td>\n",
       "      <td>NaN</td>\n",
       "      <td>-</td>\n",
       "      <td>No data available</td>\n",
       "      <td>NaN</td>\n",
       "      <td>NaN</td>\n",
       "      <td>Overall</td>\n",
       "      <td>Overall</td>\n",
       "      <td>NaN</td>\n",
       "      <td>NaN</td>\n",
       "      <td>NaN</td>\n",
       "      <td>NaN</td>\n",
       "      <td>(39.766910452000445, -86.14996019399968)</td>\n",
       "      <td>NaN</td>\n",
       "      <td>18</td>\n",
       "      <td>MTH</td>\n",
       "      <td>MTH3_0</td>\n",
       "      <td>CRDPREV</td>\n",
       "      <td>OVERALL</td>\n",
       "      <td>OVR</td>\n",
       "      <td>NaN</td>\n",
       "      <td>NaN</td>\n",
       "      <td>NaN</td>\n",
       "      <td>NaN</td>\n",
       "    </tr>\n",
       "    <tr>\n",
       "      <th>...</th>\n",
       "      <td>...</td>\n",
       "      <td>...</td>\n",
       "      <td>...</td>\n",
       "      <td>...</td>\n",
       "      <td>...</td>\n",
       "      <td>...</td>\n",
       "      <td>...</td>\n",
       "      <td>...</td>\n",
       "      <td>...</td>\n",
       "      <td>...</td>\n",
       "      <td>...</td>\n",
       "      <td>...</td>\n",
       "      <td>...</td>\n",
       "      <td>...</td>\n",
       "      <td>...</td>\n",
       "      <td>...</td>\n",
       "      <td>...</td>\n",
       "      <td>...</td>\n",
       "      <td>...</td>\n",
       "      <td>...</td>\n",
       "      <td>...</td>\n",
       "      <td>...</td>\n",
       "      <td>...</td>\n",
       "      <td>...</td>\n",
       "      <td>...</td>\n",
       "      <td>...</td>\n",
       "      <td>...</td>\n",
       "      <td>...</td>\n",
       "      <td>...</td>\n",
       "      <td>...</td>\n",
       "      <td>...</td>\n",
       "      <td>...</td>\n",
       "      <td>...</td>\n",
       "      <td>...</td>\n",
       "    </tr>\n",
       "    <tr>\n",
       "      <th>9610</th>\n",
       "      <td>2015</td>\n",
       "      <td>2015</td>\n",
       "      <td>MO</td>\n",
       "      <td>Missouri</td>\n",
       "      <td>BRFSS</td>\n",
       "      <td>Mental Health</td>\n",
       "      <td>At least 14 recent mentally unhealthy days amo...</td>\n",
       "      <td>NaN</td>\n",
       "      <td>%</td>\n",
       "      <td>Crude Prevalence</td>\n",
       "      <td>18.9</td>\n",
       "      <td>18.9</td>\n",
       "      <td>NaN</td>\n",
       "      <td>NaN</td>\n",
       "      <td>15.7</td>\n",
       "      <td>22.6</td>\n",
       "      <td>Overall</td>\n",
       "      <td>Overall</td>\n",
       "      <td>NaN</td>\n",
       "      <td>NaN</td>\n",
       "      <td>NaN</td>\n",
       "      <td>NaN</td>\n",
       "      <td>(38.635790776000476, -92.56630005299968)</td>\n",
       "      <td>NaN</td>\n",
       "      <td>29</td>\n",
       "      <td>MTH</td>\n",
       "      <td>MTH2_0</td>\n",
       "      <td>CRDPREV</td>\n",
       "      <td>OVERALL</td>\n",
       "      <td>OVR</td>\n",
       "      <td>NaN</td>\n",
       "      <td>NaN</td>\n",
       "      <td>NaN</td>\n",
       "      <td>NaN</td>\n",
       "    </tr>\n",
       "    <tr>\n",
       "      <th>9611</th>\n",
       "      <td>2015</td>\n",
       "      <td>2015</td>\n",
       "      <td>RI</td>\n",
       "      <td>Rhode Island</td>\n",
       "      <td>BRFSS</td>\n",
       "      <td>Mental Health</td>\n",
       "      <td>Recent mentally unhealthy days among adults ag...</td>\n",
       "      <td>NaN</td>\n",
       "      <td>Number</td>\n",
       "      <td>Age-adjusted Mean</td>\n",
       "      <td>4.2</td>\n",
       "      <td>4.2</td>\n",
       "      <td>NaN</td>\n",
       "      <td>NaN</td>\n",
       "      <td>3.8</td>\n",
       "      <td>4.6</td>\n",
       "      <td>Race/Ethnicity</td>\n",
       "      <td>White, non-Hispanic</td>\n",
       "      <td>NaN</td>\n",
       "      <td>NaN</td>\n",
       "      <td>NaN</td>\n",
       "      <td>NaN</td>\n",
       "      <td>(41.70828019300046, -71.52247031399963)</td>\n",
       "      <td>NaN</td>\n",
       "      <td>44</td>\n",
       "      <td>MTH</td>\n",
       "      <td>MTH1_0</td>\n",
       "      <td>AGEADJMEAN</td>\n",
       "      <td>RACE</td>\n",
       "      <td>WHT</td>\n",
       "      <td>NaN</td>\n",
       "      <td>NaN</td>\n",
       "      <td>NaN</td>\n",
       "      <td>NaN</td>\n",
       "    </tr>\n",
       "    <tr>\n",
       "      <th>9612</th>\n",
       "      <td>2015</td>\n",
       "      <td>2015</td>\n",
       "      <td>AR</td>\n",
       "      <td>Arkansas</td>\n",
       "      <td>BRFSS</td>\n",
       "      <td>Mental Health</td>\n",
       "      <td>Recent mentally unhealthy days among adults ag...</td>\n",
       "      <td>NaN</td>\n",
       "      <td>Number</td>\n",
       "      <td>Age-adjusted Mean</td>\n",
       "      <td>5.0</td>\n",
       "      <td>5.0</td>\n",
       "      <td>NaN</td>\n",
       "      <td>NaN</td>\n",
       "      <td>3.8</td>\n",
       "      <td>6.2</td>\n",
       "      <td>Race/Ethnicity</td>\n",
       "      <td>Black, non-Hispanic</td>\n",
       "      <td>NaN</td>\n",
       "      <td>NaN</td>\n",
       "      <td>NaN</td>\n",
       "      <td>NaN</td>\n",
       "      <td>(34.74865012400045, -92.27449074299966)</td>\n",
       "      <td>NaN</td>\n",
       "      <td>5</td>\n",
       "      <td>MTH</td>\n",
       "      <td>MTH1_0</td>\n",
       "      <td>AGEADJMEAN</td>\n",
       "      <td>RACE</td>\n",
       "      <td>BLK</td>\n",
       "      <td>NaN</td>\n",
       "      <td>NaN</td>\n",
       "      <td>NaN</td>\n",
       "      <td>NaN</td>\n",
       "    </tr>\n",
       "    <tr>\n",
       "      <th>9613</th>\n",
       "      <td>2015</td>\n",
       "      <td>2015</td>\n",
       "      <td>HI</td>\n",
       "      <td>Hawaii</td>\n",
       "      <td>BRFSS</td>\n",
       "      <td>Mental Health</td>\n",
       "      <td>Recent mentally unhealthy days among adults ag...</td>\n",
       "      <td>NaN</td>\n",
       "      <td>Number</td>\n",
       "      <td>Age-adjusted Mean</td>\n",
       "      <td>2.2</td>\n",
       "      <td>2.2</td>\n",
       "      <td>NaN</td>\n",
       "      <td>NaN</td>\n",
       "      <td>1.9</td>\n",
       "      <td>2.6</td>\n",
       "      <td>Race/Ethnicity</td>\n",
       "      <td>Other, non-Hispanic</td>\n",
       "      <td>NaN</td>\n",
       "      <td>NaN</td>\n",
       "      <td>NaN</td>\n",
       "      <td>NaN</td>\n",
       "      <td>(21.304850435000446, -157.85774940299973)</td>\n",
       "      <td>NaN</td>\n",
       "      <td>15</td>\n",
       "      <td>MTH</td>\n",
       "      <td>MTH1_0</td>\n",
       "      <td>AGEADJMEAN</td>\n",
       "      <td>RACE</td>\n",
       "      <td>OTH</td>\n",
       "      <td>NaN</td>\n",
       "      <td>NaN</td>\n",
       "      <td>NaN</td>\n",
       "      <td>NaN</td>\n",
       "    </tr>\n",
       "    <tr>\n",
       "      <th>9614</th>\n",
       "      <td>2015</td>\n",
       "      <td>2015</td>\n",
       "      <td>AR</td>\n",
       "      <td>Arkansas</td>\n",
       "      <td>BRFSS</td>\n",
       "      <td>Mental Health</td>\n",
       "      <td>Recent mentally unhealthy days among adults ag...</td>\n",
       "      <td>NaN</td>\n",
       "      <td>Number</td>\n",
       "      <td>Mean</td>\n",
       "      <td>5.8</td>\n",
       "      <td>5.8</td>\n",
       "      <td>NaN</td>\n",
       "      <td>NaN</td>\n",
       "      <td>2.6</td>\n",
       "      <td>9.1</td>\n",
       "      <td>Race/Ethnicity</td>\n",
       "      <td>Multiracial, non-Hispanic</td>\n",
       "      <td>NaN</td>\n",
       "      <td>NaN</td>\n",
       "      <td>NaN</td>\n",
       "      <td>NaN</td>\n",
       "      <td>(34.74865012400045, -92.27449074299966)</td>\n",
       "      <td>NaN</td>\n",
       "      <td>5</td>\n",
       "      <td>MTH</td>\n",
       "      <td>MTH1_0</td>\n",
       "      <td>MEAN</td>\n",
       "      <td>RACE</td>\n",
       "      <td>MRC</td>\n",
       "      <td>NaN</td>\n",
       "      <td>NaN</td>\n",
       "      <td>NaN</td>\n",
       "      <td>NaN</td>\n",
       "    </tr>\n",
       "  </tbody>\n",
       "</table>\n",
       "<p>9615 rows × 34 columns</p>\n",
       "</div>"
      ],
      "text/plain": [
       "      YearStart  YearEnd LocationAbbr    LocationDesc DataSource  \\\n",
       "0          2009     2011           SC  South Carolina      PRAMS   \n",
       "1          2009     2011           PR     Puerto Rico      PRAMS   \n",
       "2          2009     2011           GU            Guam      PRAMS   \n",
       "3          2009     2011           MA   Massachusetts      PRAMS   \n",
       "4          2009     2011           IN         Indiana      PRAMS   \n",
       "...         ...      ...          ...             ...        ...   \n",
       "9610       2015     2015           MO        Missouri      BRFSS   \n",
       "9611       2015     2015           RI    Rhode Island      BRFSS   \n",
       "9612       2015     2015           AR        Arkansas      BRFSS   \n",
       "9613       2015     2015           HI          Hawaii      BRFSS   \n",
       "9614       2015     2015           AR        Arkansas      BRFSS   \n",
       "\n",
       "              Topic                                           Question  \\\n",
       "0     Mental Health                     Postpartum depressive symptoms   \n",
       "1     Mental Health                     Postpartum depressive symptoms   \n",
       "2     Mental Health                     Postpartum depressive symptoms   \n",
       "3     Mental Health                     Postpartum depressive symptoms   \n",
       "4     Mental Health                     Postpartum depressive symptoms   \n",
       "...             ...                                                ...   \n",
       "9610  Mental Health  At least 14 recent mentally unhealthy days amo...   \n",
       "9611  Mental Health  Recent mentally unhealthy days among adults ag...   \n",
       "9612  Mental Health  Recent mentally unhealthy days among adults ag...   \n",
       "9613  Mental Health  Recent mentally unhealthy days among adults ag...   \n",
       "9614  Mental Health  Recent mentally unhealthy days among adults ag...   \n",
       "\n",
       "      Response DataValueUnit      DataValueType  DataValue  DataValueAlt  \\\n",
       "0          NaN             %   Crude Prevalence        NaN           NaN   \n",
       "1          NaN             %   Crude Prevalence        NaN           NaN   \n",
       "2          NaN             %   Crude Prevalence        NaN           NaN   \n",
       "3          NaN             %   Crude Prevalence        NaN           NaN   \n",
       "4          NaN             %   Crude Prevalence        NaN           NaN   \n",
       "...        ...           ...                ...        ...           ...   \n",
       "9610       NaN             %   Crude Prevalence       18.9          18.9   \n",
       "9611       NaN        Number  Age-adjusted Mean        4.2           4.2   \n",
       "9612       NaN        Number  Age-adjusted Mean        5.0           5.0   \n",
       "9613       NaN        Number  Age-adjusted Mean        2.2           2.2   \n",
       "9614       NaN        Number               Mean        5.8           5.8   \n",
       "\n",
       "     DataValueFootnoteSymbol  DatavalueFootnote  LowConfidenceLimit  \\\n",
       "0                          -  No data available                 NaN   \n",
       "1                          -  No data available                 NaN   \n",
       "2                          -  No data available                 NaN   \n",
       "3                          -  No data available                 NaN   \n",
       "4                          -  No data available                 NaN   \n",
       "...                      ...                ...                 ...   \n",
       "9610                     NaN                NaN                15.7   \n",
       "9611                     NaN                NaN                 3.8   \n",
       "9612                     NaN                NaN                 3.8   \n",
       "9613                     NaN                NaN                 1.9   \n",
       "9614                     NaN                NaN                 2.6   \n",
       "\n",
       "      HighConfidenceLimit StratificationCategory1            Stratification1  \\\n",
       "0                     NaN                 Overall                    Overall   \n",
       "1                     NaN                 Overall                    Overall   \n",
       "2                     NaN                 Overall                    Overall   \n",
       "3                     NaN                 Overall                    Overall   \n",
       "4                     NaN                 Overall                    Overall   \n",
       "...                   ...                     ...                        ...   \n",
       "9610                 22.6                 Overall                    Overall   \n",
       "9611                  4.6          Race/Ethnicity        White, non-Hispanic   \n",
       "9612                  6.2          Race/Ethnicity        Black, non-Hispanic   \n",
       "9613                  2.6          Race/Ethnicity        Other, non-Hispanic   \n",
       "9614                  9.1          Race/Ethnicity  Multiracial, non-Hispanic   \n",
       "\n",
       "      StratificationCategory2  Stratification2  StratificationCategory3  \\\n",
       "0                         NaN              NaN                      NaN   \n",
       "1                         NaN              NaN                      NaN   \n",
       "2                         NaN              NaN                      NaN   \n",
       "3                         NaN              NaN                      NaN   \n",
       "4                         NaN              NaN                      NaN   \n",
       "...                       ...              ...                      ...   \n",
       "9610                      NaN              NaN                      NaN   \n",
       "9611                      NaN              NaN                      NaN   \n",
       "9612                      NaN              NaN                      NaN   \n",
       "9613                      NaN              NaN                      NaN   \n",
       "9614                      NaN              NaN                      NaN   \n",
       "\n",
       "      Stratification3                                GeoLocation  ResponseID  \\\n",
       "0                 NaN   (33.998821303000454, -81.04537120699968)         NaN   \n",
       "1                 NaN                    (18.220833, -66.590149)         NaN   \n",
       "2                 NaN                    (13.444304, 144.793731)         NaN   \n",
       "3                 NaN    (42.27687047000046, -72.08269067499964)         NaN   \n",
       "4                 NaN   (39.766910452000445, -86.14996019399968)         NaN   \n",
       "...               ...                                        ...         ...   \n",
       "9610              NaN   (38.635790776000476, -92.56630005299968)         NaN   \n",
       "9611              NaN    (41.70828019300046, -71.52247031399963)         NaN   \n",
       "9612              NaN    (34.74865012400045, -92.27449074299966)         NaN   \n",
       "9613              NaN  (21.304850435000446, -157.85774940299973)         NaN   \n",
       "9614              NaN    (34.74865012400045, -92.27449074299966)         NaN   \n",
       "\n",
       "      LocationID TopicID QuestionID DataValueTypeID StratificationCategoryID1  \\\n",
       "0             45     MTH     MTH3_0         CRDPREV                   OVERALL   \n",
       "1             72     MTH     MTH3_0         CRDPREV                   OVERALL   \n",
       "2             66     MTH     MTH3_0         CRDPREV                   OVERALL   \n",
       "3             25     MTH     MTH3_0         CRDPREV                   OVERALL   \n",
       "4             18     MTH     MTH3_0         CRDPREV                   OVERALL   \n",
       "...          ...     ...        ...             ...                       ...   \n",
       "9610          29     MTH     MTH2_0         CRDPREV                   OVERALL   \n",
       "9611          44     MTH     MTH1_0      AGEADJMEAN                      RACE   \n",
       "9612           5     MTH     MTH1_0      AGEADJMEAN                      RACE   \n",
       "9613          15     MTH     MTH1_0      AGEADJMEAN                      RACE   \n",
       "9614           5     MTH     MTH1_0            MEAN                      RACE   \n",
       "\n",
       "     StratificationID1  StratificationCategoryID2  StratificationID2  \\\n",
       "0                  OVR                        NaN                NaN   \n",
       "1                  OVR                        NaN                NaN   \n",
       "2                  OVR                        NaN                NaN   \n",
       "3                  OVR                        NaN                NaN   \n",
       "4                  OVR                        NaN                NaN   \n",
       "...                ...                        ...                ...   \n",
       "9610               OVR                        NaN                NaN   \n",
       "9611               WHT                        NaN                NaN   \n",
       "9612               BLK                        NaN                NaN   \n",
       "9613               OTH                        NaN                NaN   \n",
       "9614               MRC                        NaN                NaN   \n",
       "\n",
       "      StratificationCategoryID3  StratificationID3  \n",
       "0                           NaN                NaN  \n",
       "1                           NaN                NaN  \n",
       "2                           NaN                NaN  \n",
       "3                           NaN                NaN  \n",
       "4                           NaN                NaN  \n",
       "...                         ...                ...  \n",
       "9610                        NaN                NaN  \n",
       "9611                        NaN                NaN  \n",
       "9612                        NaN                NaN  \n",
       "9613                        NaN                NaN  \n",
       "9614                        NaN                NaN  \n",
       "\n",
       "[9615 rows x 34 columns]"
      ]
     },
     "execution_count": 3,
     "metadata": {},
     "output_type": "execute_result"
    }
   ],
   "source": [
    "pd.set_option('display.max_columns', None)\n",
    "df"
   ]
  },
  {
   "cell_type": "code",
   "execution_count": 4,
   "metadata": {
    "collapsed": false,
    "jupyter": {
     "outputs_hidden": false
    }
   },
   "outputs": [],
   "source": [
    "del df['DataSource']  ## Not relevant to our analysis"
   ]
  },
  {
   "cell_type": "code",
   "execution_count": 5,
   "metadata": {
    "collapsed": false,
    "jupyter": {
     "outputs_hidden": false
    }
   },
   "outputs": [],
   "source": [
    "del df['Response']  ## Not relevant to our analysis\n",
    "del df['DataValueUnit']  ## Not relevant to our analysis"
   ]
  },
  {
   "cell_type": "code",
   "execution_count": 6,
   "metadata": {
    "collapsed": false,
    "jupyter": {
     "outputs_hidden": false
    }
   },
   "outputs": [],
   "source": [
    "del df['DataValueFootnoteSymbol'] ## Not relevant to our analysis\n",
    "del df['DatavalueFootnote'] ## Not relevant to our analysis\n",
    "del df['DataValueAlt'] ## Same as 'DataValue'\n",
    "del df['Topic'] ## All values 'Mental Health'\n",
    "del df['StratificationCategory2'] ## All nan values\n",
    "del df['Stratification2'] ## All nan values\n",
    "del df['StratificationCategory3'] ## All nan values\n",
    "del df['ResponseID'] ## All nan values\n",
    "del df['TopicID'] ## All topic IDS - mental health; probably this dataset was filtered from a bigger table using this column\n",
    "del df['Stratification3'] ## All nan values\n",
    "## Deleting IDs of the deleted rows\n",
    "del df['StratificationID3']\n",
    "del df['StratificationCategoryID3']\n",
    "del df['StratificationCategoryID2']\n",
    "\n"
   ]
  },
  {
   "cell_type": "code",
   "execution_count": 7,
   "metadata": {
    "collapsed": false,
    "jupyter": {
     "outputs_hidden": false
    }
   },
   "outputs": [],
   "source": [
    "del df['DataValueType'] ## meaning conveyed in 'DataValueTypeID'\n",
    "del df['StratificationCategory1'] ## meaning conveyed in 'StratificationCategoryID1'"
   ]
  },
  {
   "cell_type": "code",
   "execution_count": 8,
   "metadata": {
    "collapsed": false,
    "jupyter": {
     "outputs_hidden": false
    }
   },
   "outputs": [],
   "source": [
    "del df['StratificationID2']"
   ]
  },
  {
   "cell_type": "code",
   "execution_count": 9,
   "metadata": {
    "collapsed": false,
    "jupyter": {
     "outputs_hidden": false
    }
   },
   "outputs": [
    {
     "data": {
      "text/plain": [
       "Index(['YearStart', 'YearEnd', 'LocationAbbr', 'LocationDesc', 'Question',\n",
       "       'DataValue', 'LowConfidenceLimit', 'HighConfidenceLimit',\n",
       "       'Stratification1', 'GeoLocation', 'LocationID', 'QuestionID',\n",
       "       'DataValueTypeID', 'StratificationCategoryID1', 'StratificationID1'],\n",
       "      dtype='object')"
      ]
     },
     "execution_count": 9,
     "metadata": {},
     "output_type": "execute_result"
    }
   ],
   "source": [
    "df.columns"
   ]
  },
  {
   "cell_type": "code",
   "execution_count": 10,
   "metadata": {
    "collapsed": false,
    "jupyter": {
     "outputs_hidden": false
    }
   },
   "outputs": [
    {
     "name": "stdout",
     "output_type": "stream",
     "text": [
      "[1, 2, 4, 5, 6, 8, 9, 10, 11, 12, 13, 15, 16, 17, 18, 19, 20, 21, 22, 23, 24, 25, 26, 27, 28, 29, 30, 31, 32, 33, 34, 35, 36, 37, 38, 39, 40, 41, 42, 44, 45, 46, 47, 48, 49, 50, 51, 53, 54, 55, 56, 59, 66, 72, 78]\n"
     ]
    }
   ],
   "source": [
    "a = df['LocationID'].unique()\n",
    "print(sorted(a))"
   ]
  },
  {
   "cell_type": "markdown",
   "metadata": {},
   "source": [
    "**Creating new columns of gender and race by transposing the column of `Stratification1`**"
   ]
  },
  {
   "cell_type": "code",
   "execution_count": 11,
   "metadata": {
    "collapsed": false,
    "jupyter": {
     "outputs_hidden": false
    }
   },
   "outputs": [],
   "source": [
    "pt=df.pivot_table(values='Stratification1',columns='StratificationCategoryID1', index=['YearStart', 'YearEnd', 'LocationAbbr', 'LocationDesc', 'Question',\n",
    "       'DataValue','GeoLocation', 'LocationID',\n",
    "       'QuestionID', 'DataValueTypeID', 'LowConfidenceLimit', 'HighConfidenceLimit'], aggfunc='first')"
   ]
  },
  {
   "cell_type": "code",
   "execution_count": 12,
   "metadata": {
    "collapsed": false,
    "jupyter": {
     "outputs_hidden": false
    }
   },
   "outputs": [],
   "source": [
    "pt = pt.reset_index()"
   ]
  },
  {
   "cell_type": "code",
   "execution_count": 13,
   "metadata": {
    "collapsed": false,
    "jupyter": {
     "outputs_hidden": false
    }
   },
   "outputs": [
    {
     "data": {
      "text/plain": [
       "array([nan, 'Male', 'Female'], dtype=object)"
      ]
     },
     "execution_count": 13,
     "metadata": {},
     "output_type": "execute_result"
    }
   ],
   "source": [
    "pt['GENDER'].unique()"
   ]
  },
  {
   "cell_type": "code",
   "execution_count": 14,
   "metadata": {
    "collapsed": false,
    "jupyter": {
     "outputs_hidden": false
    }
   },
   "outputs": [
    {
     "data": {
      "text/plain": [
       "array(['Postpartum depressive symptoms',\n",
       "       'At least 14 recent mentally unhealthy days among women aged 18-44 years',\n",
       "       'Recent mentally unhealthy days among adults aged >= 18 years'],\n",
       "      dtype=object)"
      ]
     },
     "execution_count": 14,
     "metadata": {},
     "output_type": "execute_result"
    }
   ],
   "source": [
    "pt['Question'].unique()"
   ]
  },
  {
   "cell_type": "markdown",
   "metadata": {},
   "source": [
    "**Three types of questions asked - postpartum depressive symptoms is deleted due to lack of sufficient data - data on this mental health concern not collected consistently in this dataset.** "
   ]
  },
  {
   "cell_type": "code",
   "execution_count": 15,
   "metadata": {
    "collapsed": false,
    "jupyter": {
     "outputs_hidden": false
    }
   },
   "outputs": [],
   "source": [
    "### Removing postpartum depressive symptoms due to lack of data\n",
    "pt = pt[pt.Question != 'Postpartum depressive symptoms']"
   ]
  },
  {
   "cell_type": "code",
   "execution_count": 16,
   "metadata": {
    "collapsed": false,
    "jupyter": {
     "outputs_hidden": false
    },
    "scrolled": true
   },
   "outputs": [
    {
     "data": {
      "text/html": [
       "<div>\n",
       "<style scoped>\n",
       "    .dataframe tbody tr th:only-of-type {\n",
       "        vertical-align: middle;\n",
       "    }\n",
       "\n",
       "    .dataframe tbody tr th {\n",
       "        vertical-align: top;\n",
       "    }\n",
       "\n",
       "    .dataframe thead th {\n",
       "        text-align: right;\n",
       "    }\n",
       "</style>\n",
       "<table border=\"1\" class=\"dataframe\">\n",
       "  <thead>\n",
       "    <tr style=\"text-align: right;\">\n",
       "      <th>StratificationCategoryID1</th>\n",
       "      <th>YearStart</th>\n",
       "      <th>YearEnd</th>\n",
       "      <th>LocationAbbr</th>\n",
       "      <th>LocationDesc</th>\n",
       "      <th>Question</th>\n",
       "      <th>DataValue</th>\n",
       "      <th>GeoLocation</th>\n",
       "      <th>LocationID</th>\n",
       "      <th>QuestionID</th>\n",
       "      <th>DataValueTypeID</th>\n",
       "      <th>LowConfidenceLimit</th>\n",
       "      <th>HighConfidenceLimit</th>\n",
       "      <th>GENDER</th>\n",
       "      <th>OVERALL</th>\n",
       "      <th>RACE</th>\n",
       "    </tr>\n",
       "  </thead>\n",
       "  <tbody>\n",
       "    <tr>\n",
       "      <th>23</th>\n",
       "      <td>2011</td>\n",
       "      <td>2011</td>\n",
       "      <td>AR</td>\n",
       "      <td>Arkansas</td>\n",
       "      <td>At least 14 recent mentally unhealthy days amo...</td>\n",
       "      <td>23.6</td>\n",
       "      <td>(34.74865012400045, -92.27449074299966)</td>\n",
       "      <td>5</td>\n",
       "      <td>MTH2_0</td>\n",
       "      <td>CRDPREV</td>\n",
       "      <td>19.1</td>\n",
       "      <td>28.7</td>\n",
       "      <td>NaN</td>\n",
       "      <td>Overall</td>\n",
       "      <td>NaN</td>\n",
       "    </tr>\n",
       "    <tr>\n",
       "      <th>24</th>\n",
       "      <td>2011</td>\n",
       "      <td>2011</td>\n",
       "      <td>AR</td>\n",
       "      <td>Arkansas</td>\n",
       "      <td>At least 14 recent mentally unhealthy days amo...</td>\n",
       "      <td>23.8</td>\n",
       "      <td>(34.74865012400045, -92.27449074299966)</td>\n",
       "      <td>5</td>\n",
       "      <td>MTH2_0</td>\n",
       "      <td>CRDPREV</td>\n",
       "      <td>18.7</td>\n",
       "      <td>29.7</td>\n",
       "      <td>NaN</td>\n",
       "      <td>NaN</td>\n",
       "      <td>White, non-Hispanic</td>\n",
       "    </tr>\n",
       "    <tr>\n",
       "      <th>25</th>\n",
       "      <td>2011</td>\n",
       "      <td>2011</td>\n",
       "      <td>AR</td>\n",
       "      <td>Arkansas</td>\n",
       "      <td>At least 14 recent mentally unhealthy days amo...</td>\n",
       "      <td>29.9</td>\n",
       "      <td>(34.74865012400045, -92.27449074299966)</td>\n",
       "      <td>5</td>\n",
       "      <td>MTH2_0</td>\n",
       "      <td>CRDPREV</td>\n",
       "      <td>18.1</td>\n",
       "      <td>45.1</td>\n",
       "      <td>NaN</td>\n",
       "      <td>NaN</td>\n",
       "      <td>Black, non-Hispanic</td>\n",
       "    </tr>\n",
       "    <tr>\n",
       "      <th>26</th>\n",
       "      <td>2011</td>\n",
       "      <td>2011</td>\n",
       "      <td>AR</td>\n",
       "      <td>Arkansas</td>\n",
       "      <td>Recent mentally unhealthy days among adults ag...</td>\n",
       "      <td>3.7</td>\n",
       "      <td>(34.74865012400045, -92.27449074299966)</td>\n",
       "      <td>5</td>\n",
       "      <td>MTH1_0</td>\n",
       "      <td>AGEADJMEAN</td>\n",
       "      <td>1.9</td>\n",
       "      <td>5.5</td>\n",
       "      <td>NaN</td>\n",
       "      <td>NaN</td>\n",
       "      <td>Hispanic</td>\n",
       "    </tr>\n",
       "    <tr>\n",
       "      <th>27</th>\n",
       "      <td>2011</td>\n",
       "      <td>2011</td>\n",
       "      <td>AR</td>\n",
       "      <td>Arkansas</td>\n",
       "      <td>Recent mentally unhealthy days among adults ag...</td>\n",
       "      <td>3.9</td>\n",
       "      <td>(34.74865012400045, -92.27449074299966)</td>\n",
       "      <td>5</td>\n",
       "      <td>MTH1_0</td>\n",
       "      <td>MEAN</td>\n",
       "      <td>2.0</td>\n",
       "      <td>5.7</td>\n",
       "      <td>NaN</td>\n",
       "      <td>NaN</td>\n",
       "      <td>Hispanic</td>\n",
       "    </tr>\n",
       "    <tr>\n",
       "      <th>...</th>\n",
       "      <td>...</td>\n",
       "      <td>...</td>\n",
       "      <td>...</td>\n",
       "      <td>...</td>\n",
       "      <td>...</td>\n",
       "      <td>...</td>\n",
       "      <td>...</td>\n",
       "      <td>...</td>\n",
       "      <td>...</td>\n",
       "      <td>...</td>\n",
       "      <td>...</td>\n",
       "      <td>...</td>\n",
       "      <td>...</td>\n",
       "      <td>...</td>\n",
       "      <td>...</td>\n",
       "    </tr>\n",
       "    <tr>\n",
       "      <th>7473</th>\n",
       "      <td>2018</td>\n",
       "      <td>2018</td>\n",
       "      <td>VA</td>\n",
       "      <td>Virginia</td>\n",
       "      <td>Recent mentally unhealthy days among adults ag...</td>\n",
       "      <td>4.3</td>\n",
       "      <td>(37.54268067400045, -78.45789046299967)</td>\n",
       "      <td>51</td>\n",
       "      <td>MTH1_0</td>\n",
       "      <td>AGEADJMEAN</td>\n",
       "      <td>4.0</td>\n",
       "      <td>4.6</td>\n",
       "      <td>NaN</td>\n",
       "      <td>NaN</td>\n",
       "      <td>White, non-Hispanic</td>\n",
       "    </tr>\n",
       "    <tr>\n",
       "      <th>7474</th>\n",
       "      <td>2018</td>\n",
       "      <td>2018</td>\n",
       "      <td>VA</td>\n",
       "      <td>Virginia</td>\n",
       "      <td>Recent mentally unhealthy days among adults ag...</td>\n",
       "      <td>4.5</td>\n",
       "      <td>(37.54268067400045, -78.45789046299967)</td>\n",
       "      <td>51</td>\n",
       "      <td>MTH1_0</td>\n",
       "      <td>MEAN</td>\n",
       "      <td>4.2</td>\n",
       "      <td>4.8</td>\n",
       "      <td>Female</td>\n",
       "      <td>NaN</td>\n",
       "      <td>NaN</td>\n",
       "    </tr>\n",
       "    <tr>\n",
       "      <th>7475</th>\n",
       "      <td>2018</td>\n",
       "      <td>2018</td>\n",
       "      <td>VA</td>\n",
       "      <td>Virginia</td>\n",
       "      <td>Recent mentally unhealthy days among adults ag...</td>\n",
       "      <td>4.7</td>\n",
       "      <td>(37.54268067400045, -78.45789046299967)</td>\n",
       "      <td>51</td>\n",
       "      <td>MTH1_0</td>\n",
       "      <td>AGEADJMEAN</td>\n",
       "      <td>4.4</td>\n",
       "      <td>5.0</td>\n",
       "      <td>Female</td>\n",
       "      <td>NaN</td>\n",
       "      <td>NaN</td>\n",
       "    </tr>\n",
       "    <tr>\n",
       "      <th>7476</th>\n",
       "      <td>2018</td>\n",
       "      <td>2018</td>\n",
       "      <td>VA</td>\n",
       "      <td>Virginia</td>\n",
       "      <td>Recent mentally unhealthy days among adults ag...</td>\n",
       "      <td>6.8</td>\n",
       "      <td>(37.54268067400045, -78.45789046299967)</td>\n",
       "      <td>51</td>\n",
       "      <td>MTH1_0</td>\n",
       "      <td>AGEADJMEAN</td>\n",
       "      <td>4.8</td>\n",
       "      <td>8.9</td>\n",
       "      <td>NaN</td>\n",
       "      <td>NaN</td>\n",
       "      <td>Multiracial, non-Hispanic</td>\n",
       "    </tr>\n",
       "    <tr>\n",
       "      <th>7477</th>\n",
       "      <td>2018</td>\n",
       "      <td>2018</td>\n",
       "      <td>VA</td>\n",
       "      <td>Virginia</td>\n",
       "      <td>Recent mentally unhealthy days among adults ag...</td>\n",
       "      <td>8.3</td>\n",
       "      <td>(37.54268067400045, -78.45789046299967)</td>\n",
       "      <td>51</td>\n",
       "      <td>MTH1_0</td>\n",
       "      <td>MEAN</td>\n",
       "      <td>5.9</td>\n",
       "      <td>10.7</td>\n",
       "      <td>NaN</td>\n",
       "      <td>NaN</td>\n",
       "      <td>Multiracial, non-Hispanic</td>\n",
       "    </tr>\n",
       "  </tbody>\n",
       "</table>\n",
       "<p>7455 rows × 15 columns</p>\n",
       "</div>"
      ],
      "text/plain": [
       "StratificationCategoryID1  YearStart  YearEnd LocationAbbr LocationDesc  \\\n",
       "23                              2011     2011           AR     Arkansas   \n",
       "24                              2011     2011           AR     Arkansas   \n",
       "25                              2011     2011           AR     Arkansas   \n",
       "26                              2011     2011           AR     Arkansas   \n",
       "27                              2011     2011           AR     Arkansas   \n",
       "...                              ...      ...          ...          ...   \n",
       "7473                            2018     2018           VA     Virginia   \n",
       "7474                            2018     2018           VA     Virginia   \n",
       "7475                            2018     2018           VA     Virginia   \n",
       "7476                            2018     2018           VA     Virginia   \n",
       "7477                            2018     2018           VA     Virginia   \n",
       "\n",
       "StratificationCategoryID1                                           Question  \\\n",
       "23                         At least 14 recent mentally unhealthy days amo...   \n",
       "24                         At least 14 recent mentally unhealthy days amo...   \n",
       "25                         At least 14 recent mentally unhealthy days amo...   \n",
       "26                         Recent mentally unhealthy days among adults ag...   \n",
       "27                         Recent mentally unhealthy days among adults ag...   \n",
       "...                                                                      ...   \n",
       "7473                       Recent mentally unhealthy days among adults ag...   \n",
       "7474                       Recent mentally unhealthy days among adults ag...   \n",
       "7475                       Recent mentally unhealthy days among adults ag...   \n",
       "7476                       Recent mentally unhealthy days among adults ag...   \n",
       "7477                       Recent mentally unhealthy days among adults ag...   \n",
       "\n",
       "StratificationCategoryID1  DataValue                              GeoLocation  \\\n",
       "23                              23.6  (34.74865012400045, -92.27449074299966)   \n",
       "24                              23.8  (34.74865012400045, -92.27449074299966)   \n",
       "25                              29.9  (34.74865012400045, -92.27449074299966)   \n",
       "26                               3.7  (34.74865012400045, -92.27449074299966)   \n",
       "27                               3.9  (34.74865012400045, -92.27449074299966)   \n",
       "...                              ...                                      ...   \n",
       "7473                             4.3  (37.54268067400045, -78.45789046299967)   \n",
       "7474                             4.5  (37.54268067400045, -78.45789046299967)   \n",
       "7475                             4.7  (37.54268067400045, -78.45789046299967)   \n",
       "7476                             6.8  (37.54268067400045, -78.45789046299967)   \n",
       "7477                             8.3  (37.54268067400045, -78.45789046299967)   \n",
       "\n",
       "StratificationCategoryID1  LocationID QuestionID DataValueTypeID  \\\n",
       "23                                  5     MTH2_0         CRDPREV   \n",
       "24                                  5     MTH2_0         CRDPREV   \n",
       "25                                  5     MTH2_0         CRDPREV   \n",
       "26                                  5     MTH1_0      AGEADJMEAN   \n",
       "27                                  5     MTH1_0            MEAN   \n",
       "...                               ...        ...             ...   \n",
       "7473                               51     MTH1_0      AGEADJMEAN   \n",
       "7474                               51     MTH1_0            MEAN   \n",
       "7475                               51     MTH1_0      AGEADJMEAN   \n",
       "7476                               51     MTH1_0      AGEADJMEAN   \n",
       "7477                               51     MTH1_0            MEAN   \n",
       "\n",
       "StratificationCategoryID1  LowConfidenceLimit  HighConfidenceLimit  GENDER  \\\n",
       "23                                       19.1                 28.7     NaN   \n",
       "24                                       18.7                 29.7     NaN   \n",
       "25                                       18.1                 45.1     NaN   \n",
       "26                                        1.9                  5.5     NaN   \n",
       "27                                        2.0                  5.7     NaN   \n",
       "...                                       ...                  ...     ...   \n",
       "7473                                      4.0                  4.6     NaN   \n",
       "7474                                      4.2                  4.8  Female   \n",
       "7475                                      4.4                  5.0  Female   \n",
       "7476                                      4.8                  8.9     NaN   \n",
       "7477                                      5.9                 10.7     NaN   \n",
       "\n",
       "StratificationCategoryID1  OVERALL                       RACE  \n",
       "23                         Overall                        NaN  \n",
       "24                             NaN        White, non-Hispanic  \n",
       "25                             NaN        Black, non-Hispanic  \n",
       "26                             NaN                   Hispanic  \n",
       "27                             NaN                   Hispanic  \n",
       "...                            ...                        ...  \n",
       "7473                           NaN        White, non-Hispanic  \n",
       "7474                           NaN                        NaN  \n",
       "7475                           NaN                        NaN  \n",
       "7476                           NaN  Multiracial, non-Hispanic  \n",
       "7477                           NaN  Multiracial, non-Hispanic  \n",
       "\n",
       "[7455 rows x 15 columns]"
      ]
     },
     "execution_count": 16,
     "metadata": {},
     "output_type": "execute_result"
    }
   ],
   "source": [
    "pt"
   ]
  },
  {
   "cell_type": "code",
   "execution_count": 17,
   "metadata": {
    "collapsed": false,
    "jupyter": {
     "outputs_hidden": false
    }
   },
   "outputs": [
    {
     "data": {
      "text/plain": [
       "array([nan, 'Male', 'Female'], dtype=object)"
      ]
     },
     "execution_count": 17,
     "metadata": {},
     "output_type": "execute_result"
    }
   ],
   "source": [
    "pt['GENDER'].unique()"
   ]
  },
  {
   "cell_type": "code",
   "execution_count": 18,
   "metadata": {
    "collapsed": false,
    "jupyter": {
     "outputs_hidden": false
    }
   },
   "outputs": [
    {
     "data": {
      "text/html": [
       "<div>\n",
       "<style scoped>\n",
       "    .dataframe tbody tr th:only-of-type {\n",
       "        vertical-align: middle;\n",
       "    }\n",
       "\n",
       "    .dataframe tbody tr th {\n",
       "        vertical-align: top;\n",
       "    }\n",
       "\n",
       "    .dataframe thead th {\n",
       "        text-align: right;\n",
       "    }\n",
       "</style>\n",
       "<table border=\"1\" class=\"dataframe\">\n",
       "  <thead>\n",
       "    <tr style=\"text-align: right;\">\n",
       "      <th>StratificationCategoryID1</th>\n",
       "      <th>YearStart</th>\n",
       "      <th>YearEnd</th>\n",
       "      <th>LocationAbbr</th>\n",
       "      <th>LocationDesc</th>\n",
       "      <th>Question</th>\n",
       "      <th>DataValue</th>\n",
       "      <th>GeoLocation</th>\n",
       "      <th>LocationID</th>\n",
       "      <th>QuestionID</th>\n",
       "      <th>DataValueTypeID</th>\n",
       "      <th>LowConfidenceLimit</th>\n",
       "      <th>HighConfidenceLimit</th>\n",
       "      <th>GENDER</th>\n",
       "      <th>OVERALL</th>\n",
       "      <th>RACE</th>\n",
       "    </tr>\n",
       "  </thead>\n",
       "  <tbody>\n",
       "    <tr>\n",
       "      <th>23</th>\n",
       "      <td>2011</td>\n",
       "      <td>2011</td>\n",
       "      <td>AR</td>\n",
       "      <td>Arkansas</td>\n",
       "      <td>At least 14 recent mentally unhealthy days amo...</td>\n",
       "      <td>23.6</td>\n",
       "      <td>(34.74865012400045, -92.27449074299966)</td>\n",
       "      <td>5</td>\n",
       "      <td>MTH2_0</td>\n",
       "      <td>CRDPREV</td>\n",
       "      <td>19.1</td>\n",
       "      <td>28.7</td>\n",
       "      <td>NaN</td>\n",
       "      <td>Overall</td>\n",
       "      <td>NaN</td>\n",
       "    </tr>\n",
       "    <tr>\n",
       "      <th>24</th>\n",
       "      <td>2011</td>\n",
       "      <td>2011</td>\n",
       "      <td>AR</td>\n",
       "      <td>Arkansas</td>\n",
       "      <td>At least 14 recent mentally unhealthy days amo...</td>\n",
       "      <td>23.8</td>\n",
       "      <td>(34.74865012400045, -92.27449074299966)</td>\n",
       "      <td>5</td>\n",
       "      <td>MTH2_0</td>\n",
       "      <td>CRDPREV</td>\n",
       "      <td>18.7</td>\n",
       "      <td>29.7</td>\n",
       "      <td>NaN</td>\n",
       "      <td>NaN</td>\n",
       "      <td>White, non-Hispanic</td>\n",
       "    </tr>\n",
       "    <tr>\n",
       "      <th>25</th>\n",
       "      <td>2011</td>\n",
       "      <td>2011</td>\n",
       "      <td>AR</td>\n",
       "      <td>Arkansas</td>\n",
       "      <td>At least 14 recent mentally unhealthy days amo...</td>\n",
       "      <td>29.9</td>\n",
       "      <td>(34.74865012400045, -92.27449074299966)</td>\n",
       "      <td>5</td>\n",
       "      <td>MTH2_0</td>\n",
       "      <td>CRDPREV</td>\n",
       "      <td>18.1</td>\n",
       "      <td>45.1</td>\n",
       "      <td>NaN</td>\n",
       "      <td>NaN</td>\n",
       "      <td>Black, non-Hispanic</td>\n",
       "    </tr>\n",
       "    <tr>\n",
       "      <th>42</th>\n",
       "      <td>2011</td>\n",
       "      <td>2011</td>\n",
       "      <td>CO</td>\n",
       "      <td>Colorado</td>\n",
       "      <td>At least 14 recent mentally unhealthy days amo...</td>\n",
       "      <td>12.0</td>\n",
       "      <td>(38.843840757000464, -106.13361092099967)</td>\n",
       "      <td>8</td>\n",
       "      <td>MTH2_0</td>\n",
       "      <td>CRDPREV</td>\n",
       "      <td>8.1</td>\n",
       "      <td>17.3</td>\n",
       "      <td>NaN</td>\n",
       "      <td>NaN</td>\n",
       "      <td>Hispanic</td>\n",
       "    </tr>\n",
       "    <tr>\n",
       "      <th>43</th>\n",
       "      <td>2011</td>\n",
       "      <td>2011</td>\n",
       "      <td>CO</td>\n",
       "      <td>Colorado</td>\n",
       "      <td>At least 14 recent mentally unhealthy days amo...</td>\n",
       "      <td>13.7</td>\n",
       "      <td>(38.843840757000464, -106.13361092099967)</td>\n",
       "      <td>8</td>\n",
       "      <td>MTH2_0</td>\n",
       "      <td>CRDPREV</td>\n",
       "      <td>11.8</td>\n",
       "      <td>15.9</td>\n",
       "      <td>NaN</td>\n",
       "      <td>Overall</td>\n",
       "      <td>NaN</td>\n",
       "    </tr>\n",
       "    <tr>\n",
       "      <th>...</th>\n",
       "      <td>...</td>\n",
       "      <td>...</td>\n",
       "      <td>...</td>\n",
       "      <td>...</td>\n",
       "      <td>...</td>\n",
       "      <td>...</td>\n",
       "      <td>...</td>\n",
       "      <td>...</td>\n",
       "      <td>...</td>\n",
       "      <td>...</td>\n",
       "      <td>...</td>\n",
       "      <td>...</td>\n",
       "      <td>...</td>\n",
       "      <td>...</td>\n",
       "      <td>...</td>\n",
       "    </tr>\n",
       "    <tr>\n",
       "      <th>7457</th>\n",
       "      <td>2018</td>\n",
       "      <td>2018</td>\n",
       "      <td>VA</td>\n",
       "      <td>Virginia</td>\n",
       "      <td>At least 14 recent mentally unhealthy days amo...</td>\n",
       "      <td>9.9</td>\n",
       "      <td>(37.54268067400045, -78.45789046299967)</td>\n",
       "      <td>51</td>\n",
       "      <td>MTH2_0</td>\n",
       "      <td>CRDPREV</td>\n",
       "      <td>6.6</td>\n",
       "      <td>14.4</td>\n",
       "      <td>NaN</td>\n",
       "      <td>NaN</td>\n",
       "      <td>Hispanic</td>\n",
       "    </tr>\n",
       "    <tr>\n",
       "      <th>7458</th>\n",
       "      <td>2018</td>\n",
       "      <td>2018</td>\n",
       "      <td>VA</td>\n",
       "      <td>Virginia</td>\n",
       "      <td>At least 14 recent mentally unhealthy days amo...</td>\n",
       "      <td>15.4</td>\n",
       "      <td>(37.54268067400045, -78.45789046299967)</td>\n",
       "      <td>51</td>\n",
       "      <td>MTH2_0</td>\n",
       "      <td>CRDPREV</td>\n",
       "      <td>12.0</td>\n",
       "      <td>19.6</td>\n",
       "      <td>NaN</td>\n",
       "      <td>NaN</td>\n",
       "      <td>Black, non-Hispanic</td>\n",
       "    </tr>\n",
       "    <tr>\n",
       "      <th>7459</th>\n",
       "      <td>2018</td>\n",
       "      <td>2018</td>\n",
       "      <td>VA</td>\n",
       "      <td>Virginia</td>\n",
       "      <td>At least 14 recent mentally unhealthy days amo...</td>\n",
       "      <td>16.9</td>\n",
       "      <td>(37.54268067400045, -78.45789046299967)</td>\n",
       "      <td>51</td>\n",
       "      <td>MTH2_0</td>\n",
       "      <td>CRDPREV</td>\n",
       "      <td>14.9</td>\n",
       "      <td>19.2</td>\n",
       "      <td>NaN</td>\n",
       "      <td>NaN</td>\n",
       "      <td>White, non-Hispanic</td>\n",
       "    </tr>\n",
       "    <tr>\n",
       "      <th>7460</th>\n",
       "      <td>2018</td>\n",
       "      <td>2018</td>\n",
       "      <td>VA</td>\n",
       "      <td>Virginia</td>\n",
       "      <td>At least 14 recent mentally unhealthy days amo...</td>\n",
       "      <td>17.4</td>\n",
       "      <td>(37.54268067400045, -78.45789046299967)</td>\n",
       "      <td>51</td>\n",
       "      <td>MTH2_0</td>\n",
       "      <td>CRDPREV</td>\n",
       "      <td>15.2</td>\n",
       "      <td>19.9</td>\n",
       "      <td>NaN</td>\n",
       "      <td>Overall</td>\n",
       "      <td>NaN</td>\n",
       "    </tr>\n",
       "    <tr>\n",
       "      <th>7461</th>\n",
       "      <td>2018</td>\n",
       "      <td>2018</td>\n",
       "      <td>VA</td>\n",
       "      <td>Virginia</td>\n",
       "      <td>At least 14 recent mentally unhealthy days amo...</td>\n",
       "      <td>35.1</td>\n",
       "      <td>(37.54268067400045, -78.45789046299967)</td>\n",
       "      <td>51</td>\n",
       "      <td>MTH2_0</td>\n",
       "      <td>CRDPREV</td>\n",
       "      <td>22.4</td>\n",
       "      <td>50.3</td>\n",
       "      <td>NaN</td>\n",
       "      <td>NaN</td>\n",
       "      <td>Multiracial, non-Hispanic</td>\n",
       "    </tr>\n",
       "  </tbody>\n",
       "</table>\n",
       "<p>1447 rows × 15 columns</p>\n",
       "</div>"
      ],
      "text/plain": [
       "StratificationCategoryID1  YearStart  YearEnd LocationAbbr LocationDesc  \\\n",
       "23                              2011     2011           AR     Arkansas   \n",
       "24                              2011     2011           AR     Arkansas   \n",
       "25                              2011     2011           AR     Arkansas   \n",
       "42                              2011     2011           CO     Colorado   \n",
       "43                              2011     2011           CO     Colorado   \n",
       "...                              ...      ...          ...          ...   \n",
       "7457                            2018     2018           VA     Virginia   \n",
       "7458                            2018     2018           VA     Virginia   \n",
       "7459                            2018     2018           VA     Virginia   \n",
       "7460                            2018     2018           VA     Virginia   \n",
       "7461                            2018     2018           VA     Virginia   \n",
       "\n",
       "StratificationCategoryID1                                           Question  \\\n",
       "23                         At least 14 recent mentally unhealthy days amo...   \n",
       "24                         At least 14 recent mentally unhealthy days amo...   \n",
       "25                         At least 14 recent mentally unhealthy days amo...   \n",
       "42                         At least 14 recent mentally unhealthy days amo...   \n",
       "43                         At least 14 recent mentally unhealthy days amo...   \n",
       "...                                                                      ...   \n",
       "7457                       At least 14 recent mentally unhealthy days amo...   \n",
       "7458                       At least 14 recent mentally unhealthy days amo...   \n",
       "7459                       At least 14 recent mentally unhealthy days amo...   \n",
       "7460                       At least 14 recent mentally unhealthy days amo...   \n",
       "7461                       At least 14 recent mentally unhealthy days amo...   \n",
       "\n",
       "StratificationCategoryID1  DataValue  \\\n",
       "23                              23.6   \n",
       "24                              23.8   \n",
       "25                              29.9   \n",
       "42                              12.0   \n",
       "43                              13.7   \n",
       "...                              ...   \n",
       "7457                             9.9   \n",
       "7458                            15.4   \n",
       "7459                            16.9   \n",
       "7460                            17.4   \n",
       "7461                            35.1   \n",
       "\n",
       "StratificationCategoryID1                                GeoLocation  \\\n",
       "23                           (34.74865012400045, -92.27449074299966)   \n",
       "24                           (34.74865012400045, -92.27449074299966)   \n",
       "25                           (34.74865012400045, -92.27449074299966)   \n",
       "42                         (38.843840757000464, -106.13361092099967)   \n",
       "43                         (38.843840757000464, -106.13361092099967)   \n",
       "...                                                              ...   \n",
       "7457                         (37.54268067400045, -78.45789046299967)   \n",
       "7458                         (37.54268067400045, -78.45789046299967)   \n",
       "7459                         (37.54268067400045, -78.45789046299967)   \n",
       "7460                         (37.54268067400045, -78.45789046299967)   \n",
       "7461                         (37.54268067400045, -78.45789046299967)   \n",
       "\n",
       "StratificationCategoryID1  LocationID QuestionID DataValueTypeID  \\\n",
       "23                                  5     MTH2_0         CRDPREV   \n",
       "24                                  5     MTH2_0         CRDPREV   \n",
       "25                                  5     MTH2_0         CRDPREV   \n",
       "42                                  8     MTH2_0         CRDPREV   \n",
       "43                                  8     MTH2_0         CRDPREV   \n",
       "...                               ...        ...             ...   \n",
       "7457                               51     MTH2_0         CRDPREV   \n",
       "7458                               51     MTH2_0         CRDPREV   \n",
       "7459                               51     MTH2_0         CRDPREV   \n",
       "7460                               51     MTH2_0         CRDPREV   \n",
       "7461                               51     MTH2_0         CRDPREV   \n",
       "\n",
       "StratificationCategoryID1  LowConfidenceLimit  HighConfidenceLimit GENDER  \\\n",
       "23                                       19.1                 28.7    NaN   \n",
       "24                                       18.7                 29.7    NaN   \n",
       "25                                       18.1                 45.1    NaN   \n",
       "42                                        8.1                 17.3    NaN   \n",
       "43                                       11.8                 15.9    NaN   \n",
       "...                                       ...                  ...    ...   \n",
       "7457                                      6.6                 14.4    NaN   \n",
       "7458                                     12.0                 19.6    NaN   \n",
       "7459                                     14.9                 19.2    NaN   \n",
       "7460                                     15.2                 19.9    NaN   \n",
       "7461                                     22.4                 50.3    NaN   \n",
       "\n",
       "StratificationCategoryID1  OVERALL                       RACE  \n",
       "23                         Overall                        NaN  \n",
       "24                             NaN        White, non-Hispanic  \n",
       "25                             NaN        Black, non-Hispanic  \n",
       "42                             NaN                   Hispanic  \n",
       "43                         Overall                        NaN  \n",
       "...                            ...                        ...  \n",
       "7457                           NaN                   Hispanic  \n",
       "7458                           NaN        Black, non-Hispanic  \n",
       "7459                           NaN        White, non-Hispanic  \n",
       "7460                       Overall                        NaN  \n",
       "7461                           NaN  Multiracial, non-Hispanic  \n",
       "\n",
       "[1447 rows x 15 columns]"
      ]
     },
     "execution_count": 18,
     "metadata": {},
     "output_type": "execute_result"
    }
   ],
   "source": [
    "pt[pt.Question == 'At least 14 recent mentally unhealthy days among women aged 18-44 years']"
   ]
  },
  {
   "cell_type": "code",
   "execution_count": 19,
   "metadata": {
    "collapsed": false,
    "jupyter": {
     "outputs_hidden": false
    }
   },
   "outputs": [],
   "source": [
    "pt.loc[pt.Question == 'At least 14 recent mentally unhealthy days among women aged 18-44 years', 'GENDER'] = \"Female\""
   ]
  },
  {
   "cell_type": "code",
   "execution_count": 20,
   "metadata": {
    "collapsed": false,
    "jupyter": {
     "outputs_hidden": false
    }
   },
   "outputs": [
    {
     "data": {
      "text/html": [
       "<div>\n",
       "<style scoped>\n",
       "    .dataframe tbody tr th:only-of-type {\n",
       "        vertical-align: middle;\n",
       "    }\n",
       "\n",
       "    .dataframe tbody tr th {\n",
       "        vertical-align: top;\n",
       "    }\n",
       "\n",
       "    .dataframe thead th {\n",
       "        text-align: right;\n",
       "    }\n",
       "</style>\n",
       "<table border=\"1\" class=\"dataframe\">\n",
       "  <thead>\n",
       "    <tr style=\"text-align: right;\">\n",
       "      <th>StratificationCategoryID1</th>\n",
       "      <th>YearStart</th>\n",
       "      <th>YearEnd</th>\n",
       "      <th>LocationAbbr</th>\n",
       "      <th>LocationDesc</th>\n",
       "      <th>Question</th>\n",
       "      <th>DataValue</th>\n",
       "      <th>GeoLocation</th>\n",
       "      <th>LocationID</th>\n",
       "      <th>QuestionID</th>\n",
       "      <th>DataValueTypeID</th>\n",
       "      <th>LowConfidenceLimit</th>\n",
       "      <th>HighConfidenceLimit</th>\n",
       "      <th>GENDER</th>\n",
       "      <th>OVERALL</th>\n",
       "      <th>RACE</th>\n",
       "    </tr>\n",
       "  </thead>\n",
       "  <tbody>\n",
       "    <tr>\n",
       "      <th>23</th>\n",
       "      <td>2011</td>\n",
       "      <td>2011</td>\n",
       "      <td>AR</td>\n",
       "      <td>Arkansas</td>\n",
       "      <td>At least 14 recent mentally unhealthy days amo...</td>\n",
       "      <td>23.6</td>\n",
       "      <td>(34.74865012400045, -92.27449074299966)</td>\n",
       "      <td>5</td>\n",
       "      <td>MTH2_0</td>\n",
       "      <td>CRDPREV</td>\n",
       "      <td>19.1</td>\n",
       "      <td>28.7</td>\n",
       "      <td>Female</td>\n",
       "      <td>Overall</td>\n",
       "      <td>NaN</td>\n",
       "    </tr>\n",
       "    <tr>\n",
       "      <th>24</th>\n",
       "      <td>2011</td>\n",
       "      <td>2011</td>\n",
       "      <td>AR</td>\n",
       "      <td>Arkansas</td>\n",
       "      <td>At least 14 recent mentally unhealthy days amo...</td>\n",
       "      <td>23.8</td>\n",
       "      <td>(34.74865012400045, -92.27449074299966)</td>\n",
       "      <td>5</td>\n",
       "      <td>MTH2_0</td>\n",
       "      <td>CRDPREV</td>\n",
       "      <td>18.7</td>\n",
       "      <td>29.7</td>\n",
       "      <td>Female</td>\n",
       "      <td>NaN</td>\n",
       "      <td>White, non-Hispanic</td>\n",
       "    </tr>\n",
       "    <tr>\n",
       "      <th>25</th>\n",
       "      <td>2011</td>\n",
       "      <td>2011</td>\n",
       "      <td>AR</td>\n",
       "      <td>Arkansas</td>\n",
       "      <td>At least 14 recent mentally unhealthy days amo...</td>\n",
       "      <td>29.9</td>\n",
       "      <td>(34.74865012400045, -92.27449074299966)</td>\n",
       "      <td>5</td>\n",
       "      <td>MTH2_0</td>\n",
       "      <td>CRDPREV</td>\n",
       "      <td>18.1</td>\n",
       "      <td>45.1</td>\n",
       "      <td>Female</td>\n",
       "      <td>NaN</td>\n",
       "      <td>Black, non-Hispanic</td>\n",
       "    </tr>\n",
       "    <tr>\n",
       "      <th>26</th>\n",
       "      <td>2011</td>\n",
       "      <td>2011</td>\n",
       "      <td>AR</td>\n",
       "      <td>Arkansas</td>\n",
       "      <td>Recent mentally unhealthy days among adults ag...</td>\n",
       "      <td>3.7</td>\n",
       "      <td>(34.74865012400045, -92.27449074299966)</td>\n",
       "      <td>5</td>\n",
       "      <td>MTH1_0</td>\n",
       "      <td>AGEADJMEAN</td>\n",
       "      <td>1.9</td>\n",
       "      <td>5.5</td>\n",
       "      <td>NaN</td>\n",
       "      <td>NaN</td>\n",
       "      <td>Hispanic</td>\n",
       "    </tr>\n",
       "    <tr>\n",
       "      <th>27</th>\n",
       "      <td>2011</td>\n",
       "      <td>2011</td>\n",
       "      <td>AR</td>\n",
       "      <td>Arkansas</td>\n",
       "      <td>Recent mentally unhealthy days among adults ag...</td>\n",
       "      <td>3.9</td>\n",
       "      <td>(34.74865012400045, -92.27449074299966)</td>\n",
       "      <td>5</td>\n",
       "      <td>MTH1_0</td>\n",
       "      <td>MEAN</td>\n",
       "      <td>2.0</td>\n",
       "      <td>5.7</td>\n",
       "      <td>NaN</td>\n",
       "      <td>NaN</td>\n",
       "      <td>Hispanic</td>\n",
       "    </tr>\n",
       "    <tr>\n",
       "      <th>...</th>\n",
       "      <td>...</td>\n",
       "      <td>...</td>\n",
       "      <td>...</td>\n",
       "      <td>...</td>\n",
       "      <td>...</td>\n",
       "      <td>...</td>\n",
       "      <td>...</td>\n",
       "      <td>...</td>\n",
       "      <td>...</td>\n",
       "      <td>...</td>\n",
       "      <td>...</td>\n",
       "      <td>...</td>\n",
       "      <td>...</td>\n",
       "      <td>...</td>\n",
       "      <td>...</td>\n",
       "    </tr>\n",
       "    <tr>\n",
       "      <th>7473</th>\n",
       "      <td>2018</td>\n",
       "      <td>2018</td>\n",
       "      <td>VA</td>\n",
       "      <td>Virginia</td>\n",
       "      <td>Recent mentally unhealthy days among adults ag...</td>\n",
       "      <td>4.3</td>\n",
       "      <td>(37.54268067400045, -78.45789046299967)</td>\n",
       "      <td>51</td>\n",
       "      <td>MTH1_0</td>\n",
       "      <td>AGEADJMEAN</td>\n",
       "      <td>4.0</td>\n",
       "      <td>4.6</td>\n",
       "      <td>NaN</td>\n",
       "      <td>NaN</td>\n",
       "      <td>White, non-Hispanic</td>\n",
       "    </tr>\n",
       "    <tr>\n",
       "      <th>7474</th>\n",
       "      <td>2018</td>\n",
       "      <td>2018</td>\n",
       "      <td>VA</td>\n",
       "      <td>Virginia</td>\n",
       "      <td>Recent mentally unhealthy days among adults ag...</td>\n",
       "      <td>4.5</td>\n",
       "      <td>(37.54268067400045, -78.45789046299967)</td>\n",
       "      <td>51</td>\n",
       "      <td>MTH1_0</td>\n",
       "      <td>MEAN</td>\n",
       "      <td>4.2</td>\n",
       "      <td>4.8</td>\n",
       "      <td>Female</td>\n",
       "      <td>NaN</td>\n",
       "      <td>NaN</td>\n",
       "    </tr>\n",
       "    <tr>\n",
       "      <th>7475</th>\n",
       "      <td>2018</td>\n",
       "      <td>2018</td>\n",
       "      <td>VA</td>\n",
       "      <td>Virginia</td>\n",
       "      <td>Recent mentally unhealthy days among adults ag...</td>\n",
       "      <td>4.7</td>\n",
       "      <td>(37.54268067400045, -78.45789046299967)</td>\n",
       "      <td>51</td>\n",
       "      <td>MTH1_0</td>\n",
       "      <td>AGEADJMEAN</td>\n",
       "      <td>4.4</td>\n",
       "      <td>5.0</td>\n",
       "      <td>Female</td>\n",
       "      <td>NaN</td>\n",
       "      <td>NaN</td>\n",
       "    </tr>\n",
       "    <tr>\n",
       "      <th>7476</th>\n",
       "      <td>2018</td>\n",
       "      <td>2018</td>\n",
       "      <td>VA</td>\n",
       "      <td>Virginia</td>\n",
       "      <td>Recent mentally unhealthy days among adults ag...</td>\n",
       "      <td>6.8</td>\n",
       "      <td>(37.54268067400045, -78.45789046299967)</td>\n",
       "      <td>51</td>\n",
       "      <td>MTH1_0</td>\n",
       "      <td>AGEADJMEAN</td>\n",
       "      <td>4.8</td>\n",
       "      <td>8.9</td>\n",
       "      <td>NaN</td>\n",
       "      <td>NaN</td>\n",
       "      <td>Multiracial, non-Hispanic</td>\n",
       "    </tr>\n",
       "    <tr>\n",
       "      <th>7477</th>\n",
       "      <td>2018</td>\n",
       "      <td>2018</td>\n",
       "      <td>VA</td>\n",
       "      <td>Virginia</td>\n",
       "      <td>Recent mentally unhealthy days among adults ag...</td>\n",
       "      <td>8.3</td>\n",
       "      <td>(37.54268067400045, -78.45789046299967)</td>\n",
       "      <td>51</td>\n",
       "      <td>MTH1_0</td>\n",
       "      <td>MEAN</td>\n",
       "      <td>5.9</td>\n",
       "      <td>10.7</td>\n",
       "      <td>NaN</td>\n",
       "      <td>NaN</td>\n",
       "      <td>Multiracial, non-Hispanic</td>\n",
       "    </tr>\n",
       "  </tbody>\n",
       "</table>\n",
       "<p>7455 rows × 15 columns</p>\n",
       "</div>"
      ],
      "text/plain": [
       "StratificationCategoryID1  YearStart  YearEnd LocationAbbr LocationDesc  \\\n",
       "23                              2011     2011           AR     Arkansas   \n",
       "24                              2011     2011           AR     Arkansas   \n",
       "25                              2011     2011           AR     Arkansas   \n",
       "26                              2011     2011           AR     Arkansas   \n",
       "27                              2011     2011           AR     Arkansas   \n",
       "...                              ...      ...          ...          ...   \n",
       "7473                            2018     2018           VA     Virginia   \n",
       "7474                            2018     2018           VA     Virginia   \n",
       "7475                            2018     2018           VA     Virginia   \n",
       "7476                            2018     2018           VA     Virginia   \n",
       "7477                            2018     2018           VA     Virginia   \n",
       "\n",
       "StratificationCategoryID1                                           Question  \\\n",
       "23                         At least 14 recent mentally unhealthy days amo...   \n",
       "24                         At least 14 recent mentally unhealthy days amo...   \n",
       "25                         At least 14 recent mentally unhealthy days amo...   \n",
       "26                         Recent mentally unhealthy days among adults ag...   \n",
       "27                         Recent mentally unhealthy days among adults ag...   \n",
       "...                                                                      ...   \n",
       "7473                       Recent mentally unhealthy days among adults ag...   \n",
       "7474                       Recent mentally unhealthy days among adults ag...   \n",
       "7475                       Recent mentally unhealthy days among adults ag...   \n",
       "7476                       Recent mentally unhealthy days among adults ag...   \n",
       "7477                       Recent mentally unhealthy days among adults ag...   \n",
       "\n",
       "StratificationCategoryID1  DataValue                              GeoLocation  \\\n",
       "23                              23.6  (34.74865012400045, -92.27449074299966)   \n",
       "24                              23.8  (34.74865012400045, -92.27449074299966)   \n",
       "25                              29.9  (34.74865012400045, -92.27449074299966)   \n",
       "26                               3.7  (34.74865012400045, -92.27449074299966)   \n",
       "27                               3.9  (34.74865012400045, -92.27449074299966)   \n",
       "...                              ...                                      ...   \n",
       "7473                             4.3  (37.54268067400045, -78.45789046299967)   \n",
       "7474                             4.5  (37.54268067400045, -78.45789046299967)   \n",
       "7475                             4.7  (37.54268067400045, -78.45789046299967)   \n",
       "7476                             6.8  (37.54268067400045, -78.45789046299967)   \n",
       "7477                             8.3  (37.54268067400045, -78.45789046299967)   \n",
       "\n",
       "StratificationCategoryID1  LocationID QuestionID DataValueTypeID  \\\n",
       "23                                  5     MTH2_0         CRDPREV   \n",
       "24                                  5     MTH2_0         CRDPREV   \n",
       "25                                  5     MTH2_0         CRDPREV   \n",
       "26                                  5     MTH1_0      AGEADJMEAN   \n",
       "27                                  5     MTH1_0            MEAN   \n",
       "...                               ...        ...             ...   \n",
       "7473                               51     MTH1_0      AGEADJMEAN   \n",
       "7474                               51     MTH1_0            MEAN   \n",
       "7475                               51     MTH1_0      AGEADJMEAN   \n",
       "7476                               51     MTH1_0      AGEADJMEAN   \n",
       "7477                               51     MTH1_0            MEAN   \n",
       "\n",
       "StratificationCategoryID1  LowConfidenceLimit  HighConfidenceLimit  GENDER  \\\n",
       "23                                       19.1                 28.7  Female   \n",
       "24                                       18.7                 29.7  Female   \n",
       "25                                       18.1                 45.1  Female   \n",
       "26                                        1.9                  5.5     NaN   \n",
       "27                                        2.0                  5.7     NaN   \n",
       "...                                       ...                  ...     ...   \n",
       "7473                                      4.0                  4.6     NaN   \n",
       "7474                                      4.2                  4.8  Female   \n",
       "7475                                      4.4                  5.0  Female   \n",
       "7476                                      4.8                  8.9     NaN   \n",
       "7477                                      5.9                 10.7     NaN   \n",
       "\n",
       "StratificationCategoryID1  OVERALL                       RACE  \n",
       "23                         Overall                        NaN  \n",
       "24                             NaN        White, non-Hispanic  \n",
       "25                             NaN        Black, non-Hispanic  \n",
       "26                             NaN                   Hispanic  \n",
       "27                             NaN                   Hispanic  \n",
       "...                            ...                        ...  \n",
       "7473                           NaN        White, non-Hispanic  \n",
       "7474                           NaN                        NaN  \n",
       "7475                           NaN                        NaN  \n",
       "7476                           NaN  Multiracial, non-Hispanic  \n",
       "7477                           NaN  Multiracial, non-Hispanic  \n",
       "\n",
       "[7455 rows x 15 columns]"
      ]
     },
     "execution_count": 20,
     "metadata": {},
     "output_type": "execute_result"
    }
   ],
   "source": [
    "pt"
   ]
  },
  {
   "cell_type": "code",
   "execution_count": 21,
   "metadata": {
    "collapsed": false,
    "jupyter": {
     "outputs_hidden": false
    }
   },
   "outputs": [],
   "source": [
    "del pt['YearEnd']"
   ]
  },
  {
   "cell_type": "code",
   "execution_count": 22,
   "metadata": {
    "collapsed": false,
    "jupyter": {
     "outputs_hidden": false
    }
   },
   "outputs": [
    {
     "data": {
      "text/plain": [
       "array(['Female', nan, 'Male'], dtype=object)"
      ]
     },
     "execution_count": 22,
     "metadata": {},
     "output_type": "execute_result"
    }
   ],
   "source": [
    "pt['GENDER'].unique()"
   ]
  },
  {
   "cell_type": "code",
   "execution_count": 23,
   "metadata": {
    "collapsed": false,
    "jupyter": {
     "outputs_hidden": false
    }
   },
   "outputs": [],
   "source": [
    "pt = pt.sort_values(by=['YearStart', 'LocationDesc'], ascending= [True, True])"
   ]
  },
  {
   "cell_type": "markdown",
   "metadata": {},
   "source": [
    "**After exploring data for the second question, this question was realised to one, not have sufficient data collected over years; two, this question narrowed the age group for females and three, the third question had more data over years for all age demographics, categorized by gender and hence, this question was removed**"
   ]
  },
  {
   "cell_type": "code",
   "execution_count": 24,
   "metadata": {
    "collapsed": false,
    "jupyter": {
     "outputs_hidden": false
    }
   },
   "outputs": [],
   "source": [
    "pt = pt[pt.Question != 'At least 14 recent mentally unhealthy days among women aged 18-44 years']"
   ]
  },
  {
   "cell_type": "code",
   "execution_count": 25,
   "metadata": {
    "collapsed": false,
    "jupyter": {
     "outputs_hidden": false
    }
   },
   "outputs": [
    {
     "data": {
      "text/plain": [
       "array(['Alabama', 'Alaska', 'Arizona', 'Arkansas', 'California',\n",
       "       'Colorado', 'Connecticut', 'Delaware', 'District of Columbia',\n",
       "       'Florida', 'Georgia', 'Guam', 'Hawaii', 'Idaho', 'Illinois',\n",
       "       'Indiana', 'Iowa', 'Kansas', 'Kentucky', 'Louisiana', 'Maine',\n",
       "       'Maryland', 'Massachusetts', 'Michigan', 'Minnesota',\n",
       "       'Mississippi', 'Missouri', 'Montana', 'Nebraska', 'Nevada',\n",
       "       'New Hampshire', 'New Jersey', 'New Mexico', 'New York',\n",
       "       'North Carolina', 'North Dakota', 'Ohio', 'Oklahoma', 'Oregon',\n",
       "       'Pennsylvania', 'Puerto Rico', 'Rhode Island', 'South Carolina',\n",
       "       'South Dakota', 'Tennessee', 'Texas', 'Utah', 'Vermont',\n",
       "       'Virginia', 'Washington', 'West Virginia', 'Wisconsin', 'Wyoming',\n",
       "       'Virgin Islands'], dtype=object)"
      ]
     },
     "execution_count": 25,
     "metadata": {},
     "output_type": "execute_result"
    }
   ],
   "source": [
    "pt['LocationDesc'].unique()"
   ]
  },
  {
   "cell_type": "markdown",
   "metadata": {},
   "source": [
    "### Ensuring correct datatypes for selected columns"
   ]
  },
  {
   "cell_type": "code",
   "execution_count": 26,
   "metadata": {
    "collapsed": false,
    "jupyter": {
     "outputs_hidden": false
    }
   },
   "outputs": [
    {
     "data": {
      "text/plain": [
       "StratificationCategoryID1\n",
       "YearStart                int64\n",
       "LocationAbbr            object\n",
       "LocationDesc            object\n",
       "Question                object\n",
       "DataValue              float64\n",
       "GeoLocation             object\n",
       "LocationID               int64\n",
       "QuestionID              object\n",
       "DataValueTypeID         object\n",
       "LowConfidenceLimit     float64\n",
       "HighConfidenceLimit    float64\n",
       "GENDER                  object\n",
       "OVERALL                 object\n",
       "RACE                    object\n",
       "dtype: object"
      ]
     },
     "execution_count": 26,
     "metadata": {},
     "output_type": "execute_result"
    }
   ],
   "source": [
    "pt.dtypes"
   ]
  },
  {
   "cell_type": "code",
   "execution_count": 27,
   "metadata": {
    "collapsed": false,
    "jupyter": {
     "outputs_hidden": false
    }
   },
   "outputs": [
    {
     "data": {
      "text/html": [
       "<div>\n",
       "<style scoped>\n",
       "    .dataframe tbody tr th:only-of-type {\n",
       "        vertical-align: middle;\n",
       "    }\n",
       "\n",
       "    .dataframe tbody tr th {\n",
       "        vertical-align: top;\n",
       "    }\n",
       "\n",
       "    .dataframe thead th {\n",
       "        text-align: right;\n",
       "    }\n",
       "</style>\n",
       "<table border=\"1\" class=\"dataframe\">\n",
       "  <thead>\n",
       "    <tr style=\"text-align: right;\">\n",
       "      <th>StratificationCategoryID1</th>\n",
       "      <th>YearStart</th>\n",
       "      <th>LocationAbbr</th>\n",
       "      <th>LocationDesc</th>\n",
       "      <th>Question</th>\n",
       "      <th>DataValue</th>\n",
       "      <th>GeoLocation</th>\n",
       "      <th>LocationID</th>\n",
       "      <th>QuestionID</th>\n",
       "      <th>DataValueTypeID</th>\n",
       "      <th>LowConfidenceLimit</th>\n",
       "      <th>HighConfidenceLimit</th>\n",
       "      <th>GENDER</th>\n",
       "      <th>OVERALL</th>\n",
       "      <th>RACE</th>\n",
       "    </tr>\n",
       "  </thead>\n",
       "  <tbody>\n",
       "    <tr>\n",
       "      <th>460</th>\n",
       "      <td>2011</td>\n",
       "      <td>AL</td>\n",
       "      <td>Alabama</td>\n",
       "      <td>Recent mentally unhealthy days among adults ag...</td>\n",
       "      <td>4.1</td>\n",
       "      <td>(32.84057112200048, -86.63186076199969)</td>\n",
       "      <td>1</td>\n",
       "      <td>MTH1_0</td>\n",
       "      <td>AGEADJMEAN</td>\n",
       "      <td>3.7</td>\n",
       "      <td>4.6</td>\n",
       "      <td>Male</td>\n",
       "      <td>NaN</td>\n",
       "      <td>NaN</td>\n",
       "    </tr>\n",
       "    <tr>\n",
       "      <th>461</th>\n",
       "      <td>2011</td>\n",
       "      <td>AL</td>\n",
       "      <td>Alabama</td>\n",
       "      <td>Recent mentally unhealthy days among adults ag...</td>\n",
       "      <td>4.1</td>\n",
       "      <td>(32.84057112200048, -86.63186076199969)</td>\n",
       "      <td>1</td>\n",
       "      <td>MTH1_0</td>\n",
       "      <td>MEAN</td>\n",
       "      <td>3.6</td>\n",
       "      <td>4.6</td>\n",
       "      <td>Male</td>\n",
       "      <td>NaN</td>\n",
       "      <td>NaN</td>\n",
       "    </tr>\n",
       "    <tr>\n",
       "      <th>462</th>\n",
       "      <td>2011</td>\n",
       "      <td>AL</td>\n",
       "      <td>Alabama</td>\n",
       "      <td>Recent mentally unhealthy days among adults ag...</td>\n",
       "      <td>4.6</td>\n",
       "      <td>(32.84057112200048, -86.63186076199969)</td>\n",
       "      <td>1</td>\n",
       "      <td>MTH1_0</td>\n",
       "      <td>MEAN</td>\n",
       "      <td>4.3</td>\n",
       "      <td>5.0</td>\n",
       "      <td>NaN</td>\n",
       "      <td>NaN</td>\n",
       "      <td>White, non-Hispanic</td>\n",
       "    </tr>\n",
       "    <tr>\n",
       "      <th>463</th>\n",
       "      <td>2011</td>\n",
       "      <td>AL</td>\n",
       "      <td>Alabama</td>\n",
       "      <td>Recent mentally unhealthy days among adults ag...</td>\n",
       "      <td>4.8</td>\n",
       "      <td>(32.84057112200048, -86.63186076199969)</td>\n",
       "      <td>1</td>\n",
       "      <td>MTH1_0</td>\n",
       "      <td>AGEADJMEAN</td>\n",
       "      <td>4.4</td>\n",
       "      <td>5.2</td>\n",
       "      <td>NaN</td>\n",
       "      <td>NaN</td>\n",
       "      <td>White, non-Hispanic</td>\n",
       "    </tr>\n",
       "    <tr>\n",
       "      <th>464</th>\n",
       "      <td>2011</td>\n",
       "      <td>AL</td>\n",
       "      <td>Alabama</td>\n",
       "      <td>Recent mentally unhealthy days among adults ag...</td>\n",
       "      <td>4.8</td>\n",
       "      <td>(32.84057112200048, -86.63186076199969)</td>\n",
       "      <td>1</td>\n",
       "      <td>MTH1_0</td>\n",
       "      <td>MEAN</td>\n",
       "      <td>4.5</td>\n",
       "      <td>5.1</td>\n",
       "      <td>NaN</td>\n",
       "      <td>Overall</td>\n",
       "      <td>NaN</td>\n",
       "    </tr>\n",
       "    <tr>\n",
       "      <th>...</th>\n",
       "      <td>...</td>\n",
       "      <td>...</td>\n",
       "      <td>...</td>\n",
       "      <td>...</td>\n",
       "      <td>...</td>\n",
       "      <td>...</td>\n",
       "      <td>...</td>\n",
       "      <td>...</td>\n",
       "      <td>...</td>\n",
       "      <td>...</td>\n",
       "      <td>...</td>\n",
       "      <td>...</td>\n",
       "      <td>...</td>\n",
       "      <td>...</td>\n",
       "    </tr>\n",
       "    <tr>\n",
       "      <th>6923</th>\n",
       "      <td>2018</td>\n",
       "      <td>WY</td>\n",
       "      <td>Wyoming</td>\n",
       "      <td>Recent mentally unhealthy days among adults ag...</td>\n",
       "      <td>4.4</td>\n",
       "      <td>(43.23554134300048, -108.10983035299967)</td>\n",
       "      <td>56</td>\n",
       "      <td>MTH1_0</td>\n",
       "      <td>AGEADJMEAN</td>\n",
       "      <td>3.2</td>\n",
       "      <td>5.5</td>\n",
       "      <td>NaN</td>\n",
       "      <td>NaN</td>\n",
       "      <td>Hispanic</td>\n",
       "    </tr>\n",
       "    <tr>\n",
       "      <th>6924</th>\n",
       "      <td>2018</td>\n",
       "      <td>WY</td>\n",
       "      <td>Wyoming</td>\n",
       "      <td>Recent mentally unhealthy days among adults ag...</td>\n",
       "      <td>4.5</td>\n",
       "      <td>(43.23554134300048, -108.10983035299967)</td>\n",
       "      <td>56</td>\n",
       "      <td>MTH1_0</td>\n",
       "      <td>AGEADJMEAN</td>\n",
       "      <td>4.0</td>\n",
       "      <td>5.1</td>\n",
       "      <td>Female</td>\n",
       "      <td>NaN</td>\n",
       "      <td>NaN</td>\n",
       "    </tr>\n",
       "    <tr>\n",
       "      <th>6925</th>\n",
       "      <td>2018</td>\n",
       "      <td>WY</td>\n",
       "      <td>Wyoming</td>\n",
       "      <td>Recent mentally unhealthy days among adults ag...</td>\n",
       "      <td>4.9</td>\n",
       "      <td>(43.23554134300048, -108.10983035299967)</td>\n",
       "      <td>56</td>\n",
       "      <td>MTH1_0</td>\n",
       "      <td>MEAN</td>\n",
       "      <td>3.5</td>\n",
       "      <td>6.3</td>\n",
       "      <td>NaN</td>\n",
       "      <td>NaN</td>\n",
       "      <td>Hispanic</td>\n",
       "    </tr>\n",
       "    <tr>\n",
       "      <th>6926</th>\n",
       "      <td>2018</td>\n",
       "      <td>WY</td>\n",
       "      <td>Wyoming</td>\n",
       "      <td>Recent mentally unhealthy days among adults ag...</td>\n",
       "      <td>5.5</td>\n",
       "      <td>(43.23554134300048, -108.10983035299967)</td>\n",
       "      <td>56</td>\n",
       "      <td>MTH1_0</td>\n",
       "      <td>AGEADJMEAN</td>\n",
       "      <td>2.8</td>\n",
       "      <td>8.2</td>\n",
       "      <td>NaN</td>\n",
       "      <td>NaN</td>\n",
       "      <td>Multiracial, non-Hispanic</td>\n",
       "    </tr>\n",
       "    <tr>\n",
       "      <th>6927</th>\n",
       "      <td>2018</td>\n",
       "      <td>WY</td>\n",
       "      <td>Wyoming</td>\n",
       "      <td>Recent mentally unhealthy days among adults ag...</td>\n",
       "      <td>8.1</td>\n",
       "      <td>(43.23554134300048, -108.10983035299967)</td>\n",
       "      <td>56</td>\n",
       "      <td>MTH1_0</td>\n",
       "      <td>MEAN</td>\n",
       "      <td>3.8</td>\n",
       "      <td>12.5</td>\n",
       "      <td>NaN</td>\n",
       "      <td>NaN</td>\n",
       "      <td>Multiracial, non-Hispanic</td>\n",
       "    </tr>\n",
       "  </tbody>\n",
       "</table>\n",
       "<p>6008 rows × 14 columns</p>\n",
       "</div>"
      ],
      "text/plain": [
       "StratificationCategoryID1  YearStart LocationAbbr LocationDesc  \\\n",
       "460                             2011           AL      Alabama   \n",
       "461                             2011           AL      Alabama   \n",
       "462                             2011           AL      Alabama   \n",
       "463                             2011           AL      Alabama   \n",
       "464                             2011           AL      Alabama   \n",
       "...                              ...          ...          ...   \n",
       "6923                            2018           WY      Wyoming   \n",
       "6924                            2018           WY      Wyoming   \n",
       "6925                            2018           WY      Wyoming   \n",
       "6926                            2018           WY      Wyoming   \n",
       "6927                            2018           WY      Wyoming   \n",
       "\n",
       "StratificationCategoryID1                                           Question  \\\n",
       "460                        Recent mentally unhealthy days among adults ag...   \n",
       "461                        Recent mentally unhealthy days among adults ag...   \n",
       "462                        Recent mentally unhealthy days among adults ag...   \n",
       "463                        Recent mentally unhealthy days among adults ag...   \n",
       "464                        Recent mentally unhealthy days among adults ag...   \n",
       "...                                                                      ...   \n",
       "6923                       Recent mentally unhealthy days among adults ag...   \n",
       "6924                       Recent mentally unhealthy days among adults ag...   \n",
       "6925                       Recent mentally unhealthy days among adults ag...   \n",
       "6926                       Recent mentally unhealthy days among adults ag...   \n",
       "6927                       Recent mentally unhealthy days among adults ag...   \n",
       "\n",
       "StratificationCategoryID1  DataValue  \\\n",
       "460                              4.1   \n",
       "461                              4.1   \n",
       "462                              4.6   \n",
       "463                              4.8   \n",
       "464                              4.8   \n",
       "...                              ...   \n",
       "6923                             4.4   \n",
       "6924                             4.5   \n",
       "6925                             4.9   \n",
       "6926                             5.5   \n",
       "6927                             8.1   \n",
       "\n",
       "StratificationCategoryID1                               GeoLocation  \\\n",
       "460                         (32.84057112200048, -86.63186076199969)   \n",
       "461                         (32.84057112200048, -86.63186076199969)   \n",
       "462                         (32.84057112200048, -86.63186076199969)   \n",
       "463                         (32.84057112200048, -86.63186076199969)   \n",
       "464                         (32.84057112200048, -86.63186076199969)   \n",
       "...                                                             ...   \n",
       "6923                       (43.23554134300048, -108.10983035299967)   \n",
       "6924                       (43.23554134300048, -108.10983035299967)   \n",
       "6925                       (43.23554134300048, -108.10983035299967)   \n",
       "6926                       (43.23554134300048, -108.10983035299967)   \n",
       "6927                       (43.23554134300048, -108.10983035299967)   \n",
       "\n",
       "StratificationCategoryID1  LocationID QuestionID DataValueTypeID  \\\n",
       "460                                 1     MTH1_0      AGEADJMEAN   \n",
       "461                                 1     MTH1_0            MEAN   \n",
       "462                                 1     MTH1_0            MEAN   \n",
       "463                                 1     MTH1_0      AGEADJMEAN   \n",
       "464                                 1     MTH1_0            MEAN   \n",
       "...                               ...        ...             ...   \n",
       "6923                               56     MTH1_0      AGEADJMEAN   \n",
       "6924                               56     MTH1_0      AGEADJMEAN   \n",
       "6925                               56     MTH1_0            MEAN   \n",
       "6926                               56     MTH1_0      AGEADJMEAN   \n",
       "6927                               56     MTH1_0            MEAN   \n",
       "\n",
       "StratificationCategoryID1  LowConfidenceLimit  HighConfidenceLimit  GENDER  \\\n",
       "460                                       3.7                  4.6    Male   \n",
       "461                                       3.6                  4.6    Male   \n",
       "462                                       4.3                  5.0     NaN   \n",
       "463                                       4.4                  5.2     NaN   \n",
       "464                                       4.5                  5.1     NaN   \n",
       "...                                       ...                  ...     ...   \n",
       "6923                                      3.2                  5.5     NaN   \n",
       "6924                                      4.0                  5.1  Female   \n",
       "6925                                      3.5                  6.3     NaN   \n",
       "6926                                      2.8                  8.2     NaN   \n",
       "6927                                      3.8                 12.5     NaN   \n",
       "\n",
       "StratificationCategoryID1  OVERALL                       RACE  \n",
       "460                            NaN                        NaN  \n",
       "461                            NaN                        NaN  \n",
       "462                            NaN        White, non-Hispanic  \n",
       "463                            NaN        White, non-Hispanic  \n",
       "464                        Overall                        NaN  \n",
       "...                            ...                        ...  \n",
       "6923                           NaN                   Hispanic  \n",
       "6924                           NaN                        NaN  \n",
       "6925                           NaN                   Hispanic  \n",
       "6926                           NaN  Multiracial, non-Hispanic  \n",
       "6927                           NaN  Multiracial, non-Hispanic  \n",
       "\n",
       "[6008 rows x 14 columns]"
      ]
     },
     "execution_count": 27,
     "metadata": {},
     "output_type": "execute_result"
    }
   ],
   "source": [
    "pt"
   ]
  },
  {
   "cell_type": "markdown",
   "metadata": {},
   "source": [
    "**Our cleaned primary dataset has 6008 rows with 14 columns.**"
   ]
  },
  {
   "cell_type": "markdown",
   "metadata": {},
   "source": [
    "## Storing our preprocessed data as a CSV"
   ]
  },
  {
   "cell_type": "raw",
   "metadata": {},
   "source": [
    "pt.to_csv('Cleaned_MentalHealth_Data', sep='\\t', encoding='utf-8')\n",
    "pt.to_excel('Cleaned_MentalHealth_Data.xlsx', 'Sheet1', encoding = 'utf-8')"
   ]
  },
  {
   "cell_type": "markdown",
   "metadata": {},
   "source": [
    "## Preprocessing for Well-Being Index and Mental health America Ranking Data"
   ]
  },
  {
   "cell_type": "markdown",
   "metadata": {},
   "source": [
    "The data for Well-Being Index and Mental Health America is available for 2015-2018 but is in the form of PDF reports. In order to convert this tabular data from PDFs to data frames we used `tabula` a Python library that reads the PDF table on a specified page and creates a data frame for each table. Since the reports had different format for different years we had to set different options in `tabula` and then further processing was done in Excel to format them in same format so that a big data frame for Well-Being Index (2015-2018) and MHA (2015-2018) could be formed. The major option changes are `stream`=True and `lattice`=True. When `stream` is True, tabula reads the table assuming that there are no border and it tries to scan the table in such a way that it can fit table border and extract the text. When `lattice` is True , tabula reads tables with pre-defined border. We have included a sample for how `tabula` was used to convert one well-being index report and one MHA report. "
   ]
  },
  {
   "cell_type": "raw",
   "metadata": {},
   "source": [
    "import tabula #install tabula-py : !pip install tabula-py"
   ]
  },
  {
   "cell_type": "markdown",
   "metadata": {},
   "source": [
    "The sample code for creating CSV files for tables from Well-Being Index 2018 report across states: "
   ]
  },
  {
   "cell_type": "raw",
   "metadata": {},
   "source": [
    "# We have set this cell as Raw so that the errors can be avoided in case `tabula-py` is not installed also this is a sample code. \n",
    "tables= tabula.read_pdf(\"2018-WB.pdf\",pages=8,stream=True,pandas_options={\"header\":None})\n",
    "tables[0].to_csv(\"demo2018_0.csv\")\n",
    "tables[1].to_csv(\"demo2018_1.csv\")\n",
    "tables[2].to_csv(\"demo2018_2.csv\")\n"
   ]
  },
  {
   "cell_type": "markdown",
   "metadata": {},
   "source": [
    "The sample code for creating a CSV file for table from Mental Health America Ranking and People who did not get access to mental health care across states"
   ]
  },
  {
   "cell_type": "raw",
   "metadata": {},
   "source": [
    "# We have set this cell as Raw so that the errors can be avoided in case `tabula-py` is not installed also this is a sample code. \n",
    "tab= tabula.read_pdf(\"2018 The State of MH in America - FINAL.pdf\",stream=True,pages=28,pandas_options={\"header\":None})\n",
    "tab[0].to_csv(\"demo_mha2018.csv\")"
   ]
  },
  {
   "cell_type": "markdown",
   "metadata": {},
   "source": [
    "After some formatting in Excel to make the structure of all CSV files similar we created the Well-Being DataFrame and MHA DataFrame . We will be using these DataFrames for finding correlation between unhealthy mental days and the external state factors (third question in our proposal)"
   ]
  },
  {
   "cell_type": "markdown",
   "metadata": {},
   "source": [
    "### Well-Being Index DataFrame 2015-2018"
   ]
  },
  {
   "cell_type": "code",
   "execution_count": 28,
   "metadata": {
    "collapsed": false,
    "jupyter": {
     "outputs_hidden": false
    }
   },
   "outputs": [
    {
     "name": "stdout",
     "output_type": "stream",
     "text": [
      "There are 200 rows and 9 columns in the Final Well-Being Index DataFrame\n"
     ]
    },
    {
     "data": {
      "text/html": [
       "<div>\n",
       "<style scoped>\n",
       "    .dataframe tbody tr th:only-of-type {\n",
       "        vertical-align: middle;\n",
       "    }\n",
       "\n",
       "    .dataframe tbody tr th {\n",
       "        vertical-align: top;\n",
       "    }\n",
       "\n",
       "    .dataframe thead th {\n",
       "        text-align: right;\n",
       "    }\n",
       "</style>\n",
       "<table border=\"1\" class=\"dataframe\">\n",
       "  <thead>\n",
       "    <tr style=\"text-align: right;\">\n",
       "      <th></th>\n",
       "      <th>State_Num</th>\n",
       "      <th>State</th>\n",
       "      <th>Year</th>\n",
       "      <th>Well-Being Index</th>\n",
       "      <th>Purpose Rank</th>\n",
       "      <th>Social Rank</th>\n",
       "      <th>Financial Rank</th>\n",
       "      <th>Community Rank</th>\n",
       "      <th>Physical Rank</th>\n",
       "    </tr>\n",
       "  </thead>\n",
       "  <tbody>\n",
       "    <tr>\n",
       "      <th>0</th>\n",
       "      <td>1</td>\n",
       "      <td>Alabama</td>\n",
       "      <td>2015</td>\n",
       "      <td>61.8</td>\n",
       "      <td>13</td>\n",
       "      <td>12</td>\n",
       "      <td>42</td>\n",
       "      <td>21</td>\n",
       "      <td>41</td>\n",
       "    </tr>\n",
       "    <tr>\n",
       "      <th>1</th>\n",
       "      <td>2</td>\n",
       "      <td>Alaska</td>\n",
       "      <td>2015</td>\n",
       "      <td>64.1</td>\n",
       "      <td>5</td>\n",
       "      <td>5</td>\n",
       "      <td>1</td>\n",
       "      <td>7</td>\n",
       "      <td>6</td>\n",
       "    </tr>\n",
       "    <tr>\n",
       "      <th>2</th>\n",
       "      <td>3</td>\n",
       "      <td>Arizona</td>\n",
       "      <td>2015</td>\n",
       "      <td>63.0</td>\n",
       "      <td>6</td>\n",
       "      <td>7</td>\n",
       "      <td>23</td>\n",
       "      <td>16</td>\n",
       "      <td>8</td>\n",
       "    </tr>\n",
       "    <tr>\n",
       "      <th>3</th>\n",
       "      <td>4</td>\n",
       "      <td>Arkansas</td>\n",
       "      <td>2015</td>\n",
       "      <td>60.9</td>\n",
       "      <td>25</td>\n",
       "      <td>49</td>\n",
       "      <td>38</td>\n",
       "      <td>23</td>\n",
       "      <td>47</td>\n",
       "    </tr>\n",
       "    <tr>\n",
       "      <th>4</th>\n",
       "      <td>5</td>\n",
       "      <td>California</td>\n",
       "      <td>2015</td>\n",
       "      <td>62.7</td>\n",
       "      <td>10</td>\n",
       "      <td>18</td>\n",
       "      <td>21</td>\n",
       "      <td>29</td>\n",
       "      <td>3</td>\n",
       "    </tr>\n",
       "  </tbody>\n",
       "</table>\n",
       "</div>"
      ],
      "text/plain": [
       "   State_Num        State  Year  Well-Being Index  Purpose Rank  Social Rank  \\\n",
       "0          1     Alabama   2015              61.8            13           12   \n",
       "1          2      Alaska   2015              64.1             5            5   \n",
       "2          3     Arizona   2015              63.0             6            7   \n",
       "3          4    Arkansas   2015              60.9            25           49   \n",
       "4          5  California   2015              62.7            10           18   \n",
       "\n",
       "   Financial Rank  Community Rank  Physical Rank  \n",
       "0              42              21             41  \n",
       "1               1               7              6  \n",
       "2              23              16              8  \n",
       "3              38              23             47  \n",
       "4              21              29              3  "
      ]
     },
     "execution_count": 28,
     "metadata": {},
     "output_type": "execute_result"
    }
   ],
   "source": [
    "wb_df1= pd.read_csv(\"wb_2015.csv\")\n",
    "wb_df2= pd.read_csv(\"wb_2016.csv\")\n",
    "wb_df3= pd.read_csv(\"wb_2017.csv\")\n",
    "wb_df4= pd.read_csv(\"wb_2018.csv\")\n",
    "wb_df= pd.concat([wb_df1,wb_df2,wb_df3,wb_df4])\n",
    "print(\"There are %d rows and %d columns in the Final Well-Being Index DataFrame\"%(wb_df.shape[0],wb_df.shape[1]))\n",
    "wb_df.head()"
   ]
  },
  {
   "cell_type": "markdown",
   "metadata": {},
   "source": [
    "The Well-Being Index data is available for 50 states (All states except District of Columbia). While processing the only problem we found for this dataframe was that there was an extra space after every `State` string for the year 2018. To handle this we ran the following code:"
   ]
  },
  {
   "cell_type": "code",
   "execution_count": 29,
   "metadata": {
    "collapsed": false,
    "jupyter": {
     "outputs_hidden": false
    },
    "scrolled": true
   },
   "outputs": [
    {
     "data": {
      "text/plain": [
       "Ohio              4\n",
       "Oklahoma          4\n",
       "Hawaii            4\n",
       "Tennessee         4\n",
       "Virginia          4\n",
       "Maine             4\n",
       "New Jersey        4\n",
       "California        4\n",
       "South Dakota      4\n",
       "Alaska            4\n",
       "Colorado          4\n",
       "Wyoming           4\n",
       "Idaho             4\n",
       "West Virginia     4\n",
       "Illinois          4\n",
       "Louisiana         4\n",
       "Nebraska          4\n",
       "Pennsylvania      4\n",
       "Washington        4\n",
       "Wisconsin         4\n",
       "Texas             4\n",
       "Utah              4\n",
       "Iowa              4\n",
       "South Carolina    4\n",
       "New Hampshire     4\n",
       "Montana           4\n",
       "Kentucky          4\n",
       "North Dakota      4\n",
       "Oregon            4\n",
       "Massachusetts     4\n",
       "Nevada            4\n",
       "Alabama           4\n",
       "Michigan          4\n",
       "Kansas            4\n",
       "New Mexico        4\n",
       "Georgia           4\n",
       "New York          4\n",
       "North Carolina    4\n",
       "Florida           4\n",
       "Vermont           4\n",
       "Connecticut       4\n",
       "Missouri          4\n",
       "Arkansas          4\n",
       "Delaware          4\n",
       "Arizona           4\n",
       "Minnesota         4\n",
       "Indiana           4\n",
       "Mississippi       4\n",
       "Maryland          4\n",
       "Rhode Island      4\n",
       "Name: State, dtype: int64"
      ]
     },
     "execution_count": 29,
     "metadata": {},
     "output_type": "execute_result"
    }
   ],
   "source": [
    "wb_df['State']= wb_df['State'].apply(lambda x: x.rstrip(\" \"))\n",
    "wb_df['State'].value_counts()"
   ]
  },
  {
   "cell_type": "markdown",
   "metadata": {},
   "source": [
    "### Mental Health America Ranking DataFrame 2015-2018"
   ]
  },
  {
   "cell_type": "code",
   "execution_count": 30,
   "metadata": {
    "collapsed": false,
    "jupyter": {
     "outputs_hidden": false
    }
   },
   "outputs": [
    {
     "name": "stdout",
     "output_type": "stream",
     "text": [
      "There are 204 rows and 4 columns in the Final Well-Being Index DataFrame\n"
     ]
    },
    {
     "data": {
      "text/html": [
       "<div>\n",
       "<style scoped>\n",
       "    .dataframe tbody tr th:only-of-type {\n",
       "        vertical-align: middle;\n",
       "    }\n",
       "\n",
       "    .dataframe tbody tr th {\n",
       "        vertical-align: top;\n",
       "    }\n",
       "\n",
       "    .dataframe thead th {\n",
       "        text-align: right;\n",
       "    }\n",
       "</style>\n",
       "<table border=\"1\" class=\"dataframe\">\n",
       "  <thead>\n",
       "    <tr style=\"text-align: right;\">\n",
       "      <th></th>\n",
       "      <th>State</th>\n",
       "      <th>Year</th>\n",
       "      <th>Rank</th>\n",
       "      <th>%withnoacess</th>\n",
       "    </tr>\n",
       "  </thead>\n",
       "  <tbody>\n",
       "    <tr>\n",
       "      <th>0</th>\n",
       "      <td>Vermont</td>\n",
       "      <td>2015</td>\n",
       "      <td>1</td>\n",
       "      <td>42.9</td>\n",
       "    </tr>\n",
       "    <tr>\n",
       "      <th>1</th>\n",
       "      <td>Massachusetts</td>\n",
       "      <td>2015</td>\n",
       "      <td>2</td>\n",
       "      <td>47.3</td>\n",
       "    </tr>\n",
       "    <tr>\n",
       "      <th>2</th>\n",
       "      <td>Virginia</td>\n",
       "      <td>2015</td>\n",
       "      <td>3</td>\n",
       "      <td>48.7</td>\n",
       "    </tr>\n",
       "    <tr>\n",
       "      <th>3</th>\n",
       "      <td>Nebraska</td>\n",
       "      <td>2015</td>\n",
       "      <td>4</td>\n",
       "      <td>49.0</td>\n",
       "    </tr>\n",
       "    <tr>\n",
       "      <th>4</th>\n",
       "      <td>Maine</td>\n",
       "      <td>2015</td>\n",
       "      <td>5</td>\n",
       "      <td>49.9</td>\n",
       "    </tr>\n",
       "  </tbody>\n",
       "</table>\n",
       "</div>"
      ],
      "text/plain": [
       "           State  Year  Rank  %withnoacess\n",
       "0        Vermont  2015     1          42.9\n",
       "1  Massachusetts  2015     2          47.3\n",
       "2       Virginia  2015     3          48.7\n",
       "3       Nebraska  2015     4          49.0\n",
       "4          Maine  2015     5          49.9"
      ]
     },
     "execution_count": 30,
     "metadata": {},
     "output_type": "execute_result"
    }
   ],
   "source": [
    "mha_df1= pd.read_csv(\"mha_2015.csv\")\n",
    "mha_df2= pd.read_csv(\"mha_2016.csv\")\n",
    "mha_df3= pd.read_csv(\"mha_2017.csv\")\n",
    "mha_df4= pd.read_csv(\"mha_2018.csv\")\n",
    "mha_df= pd.concat([mha_df1,mha_df2,mha_df3,mha_df4])\n",
    "mha_df.dropna(axis=1,inplace=True)\n",
    "mha_df.rename(columns={'%':'%withnoacess'},inplace=True)\n",
    "print(\"There are %d rows and %d columns in the Final Well-Being Index DataFrame\"%(mha_df.shape[0],mha_df.shape[1]))\n",
    "mha_df.head()"
   ]
  },
  {
   "cell_type": "markdown",
   "metadata": {},
   "source": [
    "# Part 2: Initial Visualisation generated while exploring the primary dataset"
   ]
  },
  {
   "cell_type": "code",
   "execution_count": 31,
   "metadata": {
    "collapsed": false,
    "jupyter": {
     "outputs_hidden": false
    }
   },
   "outputs": [],
   "source": [
    "import plotly.graph_objects as go"
   ]
  },
  {
   "cell_type": "code",
   "execution_count": 32,
   "metadata": {},
   "outputs": [],
   "source": [
    "df = pt.copy()"
   ]
  },
  {
   "cell_type": "code",
   "execution_count": 33,
   "metadata": {
    "collapsed": false,
    "jupyter": {
     "outputs_hidden": false
    }
   },
   "outputs": [],
   "source": [
    "df = df[df.DataValueTypeID != 'AGEADJMEAN']"
   ]
  },
  {
   "cell_type": "code",
   "execution_count": 34,
   "metadata": {
    "collapsed": false,
    "jupyter": {
     "outputs_hidden": false
    }
   },
   "outputs": [
    {
     "data": {
      "text/html": [
       "<div>\n",
       "<style scoped>\n",
       "    .dataframe tbody tr th:only-of-type {\n",
       "        vertical-align: middle;\n",
       "    }\n",
       "\n",
       "    .dataframe tbody tr th {\n",
       "        vertical-align: top;\n",
       "    }\n",
       "\n",
       "    .dataframe thead th {\n",
       "        text-align: right;\n",
       "    }\n",
       "</style>\n",
       "<table border=\"1\" class=\"dataframe\">\n",
       "  <thead>\n",
       "    <tr style=\"text-align: right;\">\n",
       "      <th>StratificationCategoryID1</th>\n",
       "      <th>YearStart</th>\n",
       "      <th>LocationAbbr</th>\n",
       "      <th>LocationDesc</th>\n",
       "      <th>Question</th>\n",
       "      <th>DataValue</th>\n",
       "      <th>GeoLocation</th>\n",
       "      <th>LocationID</th>\n",
       "      <th>QuestionID</th>\n",
       "      <th>DataValueTypeID</th>\n",
       "      <th>LowConfidenceLimit</th>\n",
       "      <th>HighConfidenceLimit</th>\n",
       "      <th>GENDER</th>\n",
       "      <th>OVERALL</th>\n",
       "      <th>RACE</th>\n",
       "    </tr>\n",
       "  </thead>\n",
       "  <tbody>\n",
       "    <tr>\n",
       "      <th>461</th>\n",
       "      <td>2011</td>\n",
       "      <td>AL</td>\n",
       "      <td>Alabama</td>\n",
       "      <td>Recent mentally unhealthy days among adults ag...</td>\n",
       "      <td>4.1</td>\n",
       "      <td>(32.84057112200048, -86.63186076199969)</td>\n",
       "      <td>1</td>\n",
       "      <td>MTH1_0</td>\n",
       "      <td>MEAN</td>\n",
       "      <td>3.6</td>\n",
       "      <td>4.6</td>\n",
       "      <td>Male</td>\n",
       "      <td>NaN</td>\n",
       "      <td>NaN</td>\n",
       "    </tr>\n",
       "    <tr>\n",
       "      <th>462</th>\n",
       "      <td>2011</td>\n",
       "      <td>AL</td>\n",
       "      <td>Alabama</td>\n",
       "      <td>Recent mentally unhealthy days among adults ag...</td>\n",
       "      <td>4.6</td>\n",
       "      <td>(32.84057112200048, -86.63186076199969)</td>\n",
       "      <td>1</td>\n",
       "      <td>MTH1_0</td>\n",
       "      <td>MEAN</td>\n",
       "      <td>4.3</td>\n",
       "      <td>5.0</td>\n",
       "      <td>NaN</td>\n",
       "      <td>NaN</td>\n",
       "      <td>White, non-Hispanic</td>\n",
       "    </tr>\n",
       "    <tr>\n",
       "      <th>464</th>\n",
       "      <td>2011</td>\n",
       "      <td>AL</td>\n",
       "      <td>Alabama</td>\n",
       "      <td>Recent mentally unhealthy days among adults ag...</td>\n",
       "      <td>4.8</td>\n",
       "      <td>(32.84057112200048, -86.63186076199969)</td>\n",
       "      <td>1</td>\n",
       "      <td>MTH1_0</td>\n",
       "      <td>MEAN</td>\n",
       "      <td>4.5</td>\n",
       "      <td>5.1</td>\n",
       "      <td>NaN</td>\n",
       "      <td>Overall</td>\n",
       "      <td>NaN</td>\n",
       "    </tr>\n",
       "    <tr>\n",
       "      <th>467</th>\n",
       "      <td>2011</td>\n",
       "      <td>AL</td>\n",
       "      <td>Alabama</td>\n",
       "      <td>Recent mentally unhealthy days among adults ag...</td>\n",
       "      <td>5.0</td>\n",
       "      <td>(32.84057112200048, -86.63186076199969)</td>\n",
       "      <td>1</td>\n",
       "      <td>MTH1_0</td>\n",
       "      <td>MEAN</td>\n",
       "      <td>4.4</td>\n",
       "      <td>5.7</td>\n",
       "      <td>NaN</td>\n",
       "      <td>NaN</td>\n",
       "      <td>Black, non-Hispanic</td>\n",
       "    </tr>\n",
       "    <tr>\n",
       "      <th>468</th>\n",
       "      <td>2011</td>\n",
       "      <td>AL</td>\n",
       "      <td>Alabama</td>\n",
       "      <td>Recent mentally unhealthy days among adults ag...</td>\n",
       "      <td>5.5</td>\n",
       "      <td>(32.84057112200048, -86.63186076199969)</td>\n",
       "      <td>1</td>\n",
       "      <td>MTH1_0</td>\n",
       "      <td>MEAN</td>\n",
       "      <td>5.1</td>\n",
       "      <td>5.9</td>\n",
       "      <td>Female</td>\n",
       "      <td>NaN</td>\n",
       "      <td>NaN</td>\n",
       "    </tr>\n",
       "  </tbody>\n",
       "</table>\n",
       "</div>"
      ],
      "text/plain": [
       "StratificationCategoryID1  YearStart LocationAbbr LocationDesc  \\\n",
       "461                             2011           AL      Alabama   \n",
       "462                             2011           AL      Alabama   \n",
       "464                             2011           AL      Alabama   \n",
       "467                             2011           AL      Alabama   \n",
       "468                             2011           AL      Alabama   \n",
       "\n",
       "StratificationCategoryID1                                           Question  \\\n",
       "461                        Recent mentally unhealthy days among adults ag...   \n",
       "462                        Recent mentally unhealthy days among adults ag...   \n",
       "464                        Recent mentally unhealthy days among adults ag...   \n",
       "467                        Recent mentally unhealthy days among adults ag...   \n",
       "468                        Recent mentally unhealthy days among adults ag...   \n",
       "\n",
       "StratificationCategoryID1  DataValue                              GeoLocation  \\\n",
       "461                              4.1  (32.84057112200048, -86.63186076199969)   \n",
       "462                              4.6  (32.84057112200048, -86.63186076199969)   \n",
       "464                              4.8  (32.84057112200048, -86.63186076199969)   \n",
       "467                              5.0  (32.84057112200048, -86.63186076199969)   \n",
       "468                              5.5  (32.84057112200048, -86.63186076199969)   \n",
       "\n",
       "StratificationCategoryID1  LocationID QuestionID DataValueTypeID  \\\n",
       "461                                 1     MTH1_0            MEAN   \n",
       "462                                 1     MTH1_0            MEAN   \n",
       "464                                 1     MTH1_0            MEAN   \n",
       "467                                 1     MTH1_0            MEAN   \n",
       "468                                 1     MTH1_0            MEAN   \n",
       "\n",
       "StratificationCategoryID1  LowConfidenceLimit  HighConfidenceLimit  GENDER  \\\n",
       "461                                       3.6                  4.6    Male   \n",
       "462                                       4.3                  5.0     NaN   \n",
       "464                                       4.5                  5.1     NaN   \n",
       "467                                       4.4                  5.7     NaN   \n",
       "468                                       5.1                  5.9  Female   \n",
       "\n",
       "StratificationCategoryID1  OVERALL                 RACE  \n",
       "461                            NaN                  NaN  \n",
       "462                            NaN  White, non-Hispanic  \n",
       "464                        Overall                  NaN  \n",
       "467                            NaN  Black, non-Hispanic  \n",
       "468                            NaN                  NaN  "
      ]
     },
     "execution_count": 34,
     "metadata": {},
     "output_type": "execute_result"
    }
   ],
   "source": [
    "df.head()"
   ]
  },
  {
   "cell_type": "markdown",
   "metadata": {},
   "source": [
    "**Adding 'datavalue' rows - numerour rows of reported instances with each row having an average number of unhealthy days, over each year and by each state.**"
   ]
  },
  {
   "cell_type": "code",
   "execution_count": 35,
   "metadata": {
    "collapsed": false,
    "jupyter": {
     "outputs_hidden": false
    }
   },
   "outputs": [],
   "source": [
    "all_yrs = df.groupby(['YearStart','LocationDesc', 'LocationAbbr'])['DataValue'].sum()"
   ]
  },
  {
   "cell_type": "code",
   "execution_count": 36,
   "metadata": {
    "collapsed": false,
    "jupyter": {
     "outputs_hidden": false
    }
   },
   "outputs": [],
   "source": [
    "all_yrs = all_yrs.reset_index()"
   ]
  },
  {
   "cell_type": "code",
   "execution_count": 37,
   "metadata": {
    "collapsed": false,
    "jupyter": {
     "outputs_hidden": false
    }
   },
   "outputs": [
    {
     "data": {
      "text/html": [
       "<div>\n",
       "<style scoped>\n",
       "    .dataframe tbody tr th:only-of-type {\n",
       "        vertical-align: middle;\n",
       "    }\n",
       "\n",
       "    .dataframe tbody tr th {\n",
       "        vertical-align: top;\n",
       "    }\n",
       "\n",
       "    .dataframe thead th {\n",
       "        text-align: right;\n",
       "    }\n",
       "</style>\n",
       "<table border=\"1\" class=\"dataframe\">\n",
       "  <thead>\n",
       "    <tr style=\"text-align: right;\">\n",
       "      <th></th>\n",
       "      <th>YearStart</th>\n",
       "      <th>LocationDesc</th>\n",
       "      <th>LocationAbbr</th>\n",
       "      <th>DataValue</th>\n",
       "    </tr>\n",
       "  </thead>\n",
       "  <tbody>\n",
       "    <tr>\n",
       "      <th>0</th>\n",
       "      <td>2011</td>\n",
       "      <td>Alabama</td>\n",
       "      <td>AL</td>\n",
       "      <td>35.3</td>\n",
       "    </tr>\n",
       "    <tr>\n",
       "      <th>1</th>\n",
       "      <td>2011</td>\n",
       "      <td>Alaska</td>\n",
       "      <td>AK</td>\n",
       "      <td>24.7</td>\n",
       "    </tr>\n",
       "    <tr>\n",
       "      <th>2</th>\n",
       "      <td>2011</td>\n",
       "      <td>Arizona</td>\n",
       "      <td>AZ</td>\n",
       "      <td>28.3</td>\n",
       "    </tr>\n",
       "    <tr>\n",
       "      <th>3</th>\n",
       "      <td>2011</td>\n",
       "      <td>Arkansas</td>\n",
       "      <td>AR</td>\n",
       "      <td>43.9</td>\n",
       "    </tr>\n",
       "    <tr>\n",
       "      <th>4</th>\n",
       "      <td>2011</td>\n",
       "      <td>California</td>\n",
       "      <td>CA</td>\n",
       "      <td>33.6</td>\n",
       "    </tr>\n",
       "    <tr>\n",
       "      <th>...</th>\n",
       "      <td>...</td>\n",
       "      <td>...</td>\n",
       "      <td>...</td>\n",
       "      <td>...</td>\n",
       "    </tr>\n",
       "    <tr>\n",
       "      <th>420</th>\n",
       "      <td>2018</td>\n",
       "      <td>Virginia</td>\n",
       "      <td>VA</td>\n",
       "      <td>33.9</td>\n",
       "    </tr>\n",
       "    <tr>\n",
       "      <th>421</th>\n",
       "      <td>2018</td>\n",
       "      <td>Washington</td>\n",
       "      <td>WA</td>\n",
       "      <td>32.0</td>\n",
       "    </tr>\n",
       "    <tr>\n",
       "      <th>422</th>\n",
       "      <td>2018</td>\n",
       "      <td>West Virginia</td>\n",
       "      <td>WV</td>\n",
       "      <td>39.3</td>\n",
       "    </tr>\n",
       "    <tr>\n",
       "      <th>423</th>\n",
       "      <td>2018</td>\n",
       "      <td>Wisconsin</td>\n",
       "      <td>WI</td>\n",
       "      <td>37.8</td>\n",
       "    </tr>\n",
       "    <tr>\n",
       "      <th>424</th>\n",
       "      <td>2018</td>\n",
       "      <td>Wyoming</td>\n",
       "      <td>WY</td>\n",
       "      <td>30.9</td>\n",
       "    </tr>\n",
       "  </tbody>\n",
       "</table>\n",
       "<p>425 rows × 4 columns</p>\n",
       "</div>"
      ],
      "text/plain": [
       "     YearStart   LocationDesc LocationAbbr  DataValue\n",
       "0         2011        Alabama           AL       35.3\n",
       "1         2011         Alaska           AK       24.7\n",
       "2         2011        Arizona           AZ       28.3\n",
       "3         2011       Arkansas           AR       43.9\n",
       "4         2011     California           CA       33.6\n",
       "..         ...            ...          ...        ...\n",
       "420       2018       Virginia           VA       33.9\n",
       "421       2018     Washington           WA       32.0\n",
       "422       2018  West Virginia           WV       39.3\n",
       "423       2018      Wisconsin           WI       37.8\n",
       "424       2018        Wyoming           WY       30.9\n",
       "\n",
       "[425 rows x 4 columns]"
      ]
     },
     "execution_count": 37,
     "metadata": {},
     "output_type": "execute_result"
    }
   ],
   "source": [
    "all_yrs"
   ]
  },
  {
   "cell_type": "code",
   "execution_count": 38,
   "metadata": {
    "collapsed": false,
    "jupyter": {
     "outputs_hidden": false
    }
   },
   "outputs": [
    {
     "data": {
      "text/plain": [
       "array([35.3, 24.7, 28.3, 43.9, 33.6, 31.7, 33.9, 24.2, 25.7, 37.7, 31.5,\n",
       "       20.1, 21.8, 30.2, 33.7, 31.3, 25.7, 29.6, 36.4, 40.1, 32.1, 30.3,\n",
       "       28.2, 36.3, 33.5, 30.9, 33.7, 28.6, 28.5, 34.4, 22.7, 27.8, 32.3,\n",
       "       33. , 16.6, 26.8, 38.1, 27.7, 38.6, 14.9, 32.2, 37.6, 19.8, 19.2,\n",
       "       32.4, 22. , 26. , 30.2, 40.3, 19. , 15.5,  9.6, 12. , 14. , 11.5,\n",
       "       10.5, 10.8, 11. , 13.2,  8.7,  8.8, 11.4, 12.9,  9.1,  9.6, 14.8,\n",
       "       12.2, 10.4, 11.3, 12.3,  9.2, 13.1, 12.1, 11.1, 12.3,  9.9, 11.7,\n",
       "        8.3, 12.5, 12.6, 11.8, 10.9, 10.3, 13.4, 10.2, 28. , 22.8, 28.4,\n",
       "       37.4, 30.7, 27.9, 29.7, 30.5, 22.9, 34.9, 26.6, 24.1, 20.8, 28.7,\n",
       "       31.4, 35.7, 21.2, 27.8, 39.7, 27.2, 34.6, 31.2, 28.7, 25.5, 28.5,\n",
       "       28.8, 26.3, 32.5, 28.6, 31.4, 32.4, 29.8, 14.5, 32.6, 37.3, 31.9,\n",
       "       33.3, 17.7, 18.4, 27.6, 20.6, 38.3, 23.2, 37.8, 27.1, 25. , 25. ,\n",
       "       32.7, 23.9, 24.5, 20.1, 30.4, 33.2, 26.5, 35.8, 26.3, 25.3, 25.9,\n",
       "       37.3, 26.9, 21. , 31.8, 24.6, 16.4, 29.2, 30.6, 13.8, 38.8, 32.9,\n",
       "       31.1, 11.2, 34.5, 34.1, 13.5, 31.2, 21.4, 26.2, 34.8, 20.8, 29.3,\n",
       "       25.6, 35.1, 30. , 21.5, 23.3, 21.8, 23.1, 31. , 22.5, 36.4, 37.1,\n",
       "       30.8, 29.1, 35.9, 22.4, 36.8, 25.8, 22.6, 19.1, 26.2, 29.8, 17.6,\n",
       "       33.2, 39. , 11.3, 22.7, 22.4, 24.2, 31.5, 26.1, 33.5, 21.7, 38.4,\n",
       "       28.8, 24.8, 23.6, 31.1, 25.2, 23.5, 29.5, 33.1, 24.7, 42.1, 34.7,\n",
       "       30.8, 27.6, 36.6, 27.8, 36.1, 28.1, 38.5, 22.6, 27.2, 28.1, 35.9,\n",
       "       35.5, 31.9, 36.5, 14.1, 39.6, 36. , 13.7, 36.9, 17.9, 41.4, 32.9,\n",
       "       35.1, 25.6, 30.7, 31.2, 28.8, 39.2, 32. , 46.2, 39.2, 34. , 39.3,\n",
       "       30.9, 25.4, 31.3, 36.6, 39.6, 40.4, 38.7, 39.4, 17.1, 37.9, 38.1,\n",
       "       16.8, 34.2, 30.3, 31.3, 48.1, 32.1, 37.2, 27. , 23.4, 36.7, 41.6,\n",
       "       44.1, 40.9, 30.5, 40.4, 28.2, 36.8, 43.5, 37.5, 36.7, 16. , 42.9,\n",
       "       37.8])"
      ]
     },
     "execution_count": 38,
     "metadata": {},
     "output_type": "execute_result"
    }
   ],
   "source": [
    "all_yrs.DataValue.unique()"
   ]
  },
  {
   "cell_type": "code",
   "execution_count": 39,
   "metadata": {
    "collapsed": false,
    "jupyter": {
     "outputs_hidden": false
    }
   },
   "outputs": [
    {
     "data": {
      "text/plain": [
       "YearStart         int64\n",
       "LocationDesc     object\n",
       "LocationAbbr     object\n",
       "DataValue       float64\n",
       "dtype: object"
      ]
     },
     "execution_count": 39,
     "metadata": {},
     "output_type": "execute_result"
    }
   ],
   "source": [
    "all_yrs.dtypes"
   ]
  },
  {
   "cell_type": "markdown",
   "metadata": {},
   "source": [
    "**The code below was explored before the animation is introduced; our first step was to make a static map for one year.**"
   ]
  },
  {
   "cell_type": "code",
   "execution_count": 40,
   "metadata": {
    "collapsed": false,
    "jupyter": {
     "outputs_hidden": false
    }
   },
   "outputs": [],
   "source": [
    "pt = df[df.YearStart == 2011]"
   ]
  },
  {
   "cell_type": "code",
   "execution_count": 41,
   "metadata": {
    "collapsed": false,
    "jupyter": {
     "outputs_hidden": false
    }
   },
   "outputs": [
    {
     "data": {
      "text/html": [
       "<div>\n",
       "<style scoped>\n",
       "    .dataframe tbody tr th:only-of-type {\n",
       "        vertical-align: middle;\n",
       "    }\n",
       "\n",
       "    .dataframe tbody tr th {\n",
       "        vertical-align: top;\n",
       "    }\n",
       "\n",
       "    .dataframe thead th {\n",
       "        text-align: right;\n",
       "    }\n",
       "</style>\n",
       "<table border=\"1\" class=\"dataframe\">\n",
       "  <thead>\n",
       "    <tr style=\"text-align: right;\">\n",
       "      <th>StratificationCategoryID1</th>\n",
       "      <th>YearStart</th>\n",
       "      <th>LocationAbbr</th>\n",
       "      <th>LocationDesc</th>\n",
       "      <th>Question</th>\n",
       "      <th>DataValue</th>\n",
       "      <th>GeoLocation</th>\n",
       "      <th>LocationID</th>\n",
       "      <th>QuestionID</th>\n",
       "      <th>DataValueTypeID</th>\n",
       "      <th>LowConfidenceLimit</th>\n",
       "      <th>HighConfidenceLimit</th>\n",
       "      <th>GENDER</th>\n",
       "      <th>OVERALL</th>\n",
       "      <th>RACE</th>\n",
       "    </tr>\n",
       "  </thead>\n",
       "  <tbody>\n",
       "    <tr>\n",
       "      <th>461</th>\n",
       "      <td>2011</td>\n",
       "      <td>AL</td>\n",
       "      <td>Alabama</td>\n",
       "      <td>Recent mentally unhealthy days among adults ag...</td>\n",
       "      <td>4.1</td>\n",
       "      <td>(32.84057112200048, -86.63186076199969)</td>\n",
       "      <td>1</td>\n",
       "      <td>MTH1_0</td>\n",
       "      <td>MEAN</td>\n",
       "      <td>3.6</td>\n",
       "      <td>4.6</td>\n",
       "      <td>Male</td>\n",
       "      <td>NaN</td>\n",
       "      <td>NaN</td>\n",
       "    </tr>\n",
       "    <tr>\n",
       "      <th>462</th>\n",
       "      <td>2011</td>\n",
       "      <td>AL</td>\n",
       "      <td>Alabama</td>\n",
       "      <td>Recent mentally unhealthy days among adults ag...</td>\n",
       "      <td>4.6</td>\n",
       "      <td>(32.84057112200048, -86.63186076199969)</td>\n",
       "      <td>1</td>\n",
       "      <td>MTH1_0</td>\n",
       "      <td>MEAN</td>\n",
       "      <td>4.3</td>\n",
       "      <td>5.0</td>\n",
       "      <td>NaN</td>\n",
       "      <td>NaN</td>\n",
       "      <td>White, non-Hispanic</td>\n",
       "    </tr>\n",
       "    <tr>\n",
       "      <th>464</th>\n",
       "      <td>2011</td>\n",
       "      <td>AL</td>\n",
       "      <td>Alabama</td>\n",
       "      <td>Recent mentally unhealthy days among adults ag...</td>\n",
       "      <td>4.8</td>\n",
       "      <td>(32.84057112200048, -86.63186076199969)</td>\n",
       "      <td>1</td>\n",
       "      <td>MTH1_0</td>\n",
       "      <td>MEAN</td>\n",
       "      <td>4.5</td>\n",
       "      <td>5.1</td>\n",
       "      <td>NaN</td>\n",
       "      <td>Overall</td>\n",
       "      <td>NaN</td>\n",
       "    </tr>\n",
       "    <tr>\n",
       "      <th>467</th>\n",
       "      <td>2011</td>\n",
       "      <td>AL</td>\n",
       "      <td>Alabama</td>\n",
       "      <td>Recent mentally unhealthy days among adults ag...</td>\n",
       "      <td>5.0</td>\n",
       "      <td>(32.84057112200048, -86.63186076199969)</td>\n",
       "      <td>1</td>\n",
       "      <td>MTH1_0</td>\n",
       "      <td>MEAN</td>\n",
       "      <td>4.4</td>\n",
       "      <td>5.7</td>\n",
       "      <td>NaN</td>\n",
       "      <td>NaN</td>\n",
       "      <td>Black, non-Hispanic</td>\n",
       "    </tr>\n",
       "    <tr>\n",
       "      <th>468</th>\n",
       "      <td>2011</td>\n",
       "      <td>AL</td>\n",
       "      <td>Alabama</td>\n",
       "      <td>Recent mentally unhealthy days among adults ag...</td>\n",
       "      <td>5.5</td>\n",
       "      <td>(32.84057112200048, -86.63186076199969)</td>\n",
       "      <td>1</td>\n",
       "      <td>MTH1_0</td>\n",
       "      <td>MEAN</td>\n",
       "      <td>5.1</td>\n",
       "      <td>5.9</td>\n",
       "      <td>Female</td>\n",
       "      <td>NaN</td>\n",
       "      <td>NaN</td>\n",
       "    </tr>\n",
       "    <tr>\n",
       "      <th>...</th>\n",
       "      <td>...</td>\n",
       "      <td>...</td>\n",
       "      <td>...</td>\n",
       "      <td>...</td>\n",
       "      <td>...</td>\n",
       "      <td>...</td>\n",
       "      <td>...</td>\n",
       "      <td>...</td>\n",
       "      <td>...</td>\n",
       "      <td>...</td>\n",
       "      <td>...</td>\n",
       "      <td>...</td>\n",
       "      <td>...</td>\n",
       "      <td>...</td>\n",
       "    </tr>\n",
       "    <tr>\n",
       "      <th>431</th>\n",
       "      <td>2011</td>\n",
       "      <td>WY</td>\n",
       "      <td>Wyoming</td>\n",
       "      <td>Recent mentally unhealthy days among adults ag...</td>\n",
       "      <td>3.4</td>\n",
       "      <td>(43.23554134300048, -108.10983035299967)</td>\n",
       "      <td>56</td>\n",
       "      <td>MTH1_0</td>\n",
       "      <td>MEAN</td>\n",
       "      <td>3.1</td>\n",
       "      <td>3.7</td>\n",
       "      <td>NaN</td>\n",
       "      <td>NaN</td>\n",
       "      <td>White, non-Hispanic</td>\n",
       "    </tr>\n",
       "    <tr>\n",
       "      <th>433</th>\n",
       "      <td>2011</td>\n",
       "      <td>WY</td>\n",
       "      <td>Wyoming</td>\n",
       "      <td>Recent mentally unhealthy days among adults ag...</td>\n",
       "      <td>3.5</td>\n",
       "      <td>(43.23554134300048, -108.10983035299967)</td>\n",
       "      <td>56</td>\n",
       "      <td>MTH1_0</td>\n",
       "      <td>MEAN</td>\n",
       "      <td>3.2</td>\n",
       "      <td>3.8</td>\n",
       "      <td>NaN</td>\n",
       "      <td>Overall</td>\n",
       "      <td>NaN</td>\n",
       "    </tr>\n",
       "    <tr>\n",
       "      <th>436</th>\n",
       "      <td>2011</td>\n",
       "      <td>WY</td>\n",
       "      <td>Wyoming</td>\n",
       "      <td>Recent mentally unhealthy days among adults ag...</td>\n",
       "      <td>3.8</td>\n",
       "      <td>(43.23554134300048, -108.10983035299967)</td>\n",
       "      <td>56</td>\n",
       "      <td>MTH1_0</td>\n",
       "      <td>MEAN</td>\n",
       "      <td>2.8</td>\n",
       "      <td>4.9</td>\n",
       "      <td>NaN</td>\n",
       "      <td>NaN</td>\n",
       "      <td>Hispanic</td>\n",
       "    </tr>\n",
       "    <tr>\n",
       "      <th>437</th>\n",
       "      <td>2011</td>\n",
       "      <td>WY</td>\n",
       "      <td>Wyoming</td>\n",
       "      <td>Recent mentally unhealthy days among adults ag...</td>\n",
       "      <td>4.1</td>\n",
       "      <td>(43.23554134300048, -108.10983035299967)</td>\n",
       "      <td>56</td>\n",
       "      <td>MTH1_0</td>\n",
       "      <td>MEAN</td>\n",
       "      <td>1.9</td>\n",
       "      <td>6.4</td>\n",
       "      <td>NaN</td>\n",
       "      <td>NaN</td>\n",
       "      <td>Other, non-Hispanic</td>\n",
       "    </tr>\n",
       "    <tr>\n",
       "      <th>438</th>\n",
       "      <td>2011</td>\n",
       "      <td>WY</td>\n",
       "      <td>Wyoming</td>\n",
       "      <td>Recent mentally unhealthy days among adults ag...</td>\n",
       "      <td>4.2</td>\n",
       "      <td>(43.23554134300048, -108.10983035299967)</td>\n",
       "      <td>56</td>\n",
       "      <td>MTH1_0</td>\n",
       "      <td>MEAN</td>\n",
       "      <td>3.8</td>\n",
       "      <td>4.7</td>\n",
       "      <td>Female</td>\n",
       "      <td>NaN</td>\n",
       "      <td>NaN</td>\n",
       "    </tr>\n",
       "  </tbody>\n",
       "</table>\n",
       "<p>380 rows × 14 columns</p>\n",
       "</div>"
      ],
      "text/plain": [
       "StratificationCategoryID1  YearStart LocationAbbr LocationDesc  \\\n",
       "461                             2011           AL      Alabama   \n",
       "462                             2011           AL      Alabama   \n",
       "464                             2011           AL      Alabama   \n",
       "467                             2011           AL      Alabama   \n",
       "468                             2011           AL      Alabama   \n",
       "..                               ...          ...          ...   \n",
       "431                             2011           WY      Wyoming   \n",
       "433                             2011           WY      Wyoming   \n",
       "436                             2011           WY      Wyoming   \n",
       "437                             2011           WY      Wyoming   \n",
       "438                             2011           WY      Wyoming   \n",
       "\n",
       "StratificationCategoryID1                                           Question  \\\n",
       "461                        Recent mentally unhealthy days among adults ag...   \n",
       "462                        Recent mentally unhealthy days among adults ag...   \n",
       "464                        Recent mentally unhealthy days among adults ag...   \n",
       "467                        Recent mentally unhealthy days among adults ag...   \n",
       "468                        Recent mentally unhealthy days among adults ag...   \n",
       "..                                                                       ...   \n",
       "431                        Recent mentally unhealthy days among adults ag...   \n",
       "433                        Recent mentally unhealthy days among adults ag...   \n",
       "436                        Recent mentally unhealthy days among adults ag...   \n",
       "437                        Recent mentally unhealthy days among adults ag...   \n",
       "438                        Recent mentally unhealthy days among adults ag...   \n",
       "\n",
       "StratificationCategoryID1  DataValue  \\\n",
       "461                              4.1   \n",
       "462                              4.6   \n",
       "464                              4.8   \n",
       "467                              5.0   \n",
       "468                              5.5   \n",
       "..                               ...   \n",
       "431                              3.4   \n",
       "433                              3.5   \n",
       "436                              3.8   \n",
       "437                              4.1   \n",
       "438                              4.2   \n",
       "\n",
       "StratificationCategoryID1                               GeoLocation  \\\n",
       "461                         (32.84057112200048, -86.63186076199969)   \n",
       "462                         (32.84057112200048, -86.63186076199969)   \n",
       "464                         (32.84057112200048, -86.63186076199969)   \n",
       "467                         (32.84057112200048, -86.63186076199969)   \n",
       "468                         (32.84057112200048, -86.63186076199969)   \n",
       "..                                                              ...   \n",
       "431                        (43.23554134300048, -108.10983035299967)   \n",
       "433                        (43.23554134300048, -108.10983035299967)   \n",
       "436                        (43.23554134300048, -108.10983035299967)   \n",
       "437                        (43.23554134300048, -108.10983035299967)   \n",
       "438                        (43.23554134300048, -108.10983035299967)   \n",
       "\n",
       "StratificationCategoryID1  LocationID QuestionID DataValueTypeID  \\\n",
       "461                                 1     MTH1_0            MEAN   \n",
       "462                                 1     MTH1_0            MEAN   \n",
       "464                                 1     MTH1_0            MEAN   \n",
       "467                                 1     MTH1_0            MEAN   \n",
       "468                                 1     MTH1_0            MEAN   \n",
       "..                                ...        ...             ...   \n",
       "431                                56     MTH1_0            MEAN   \n",
       "433                                56     MTH1_0            MEAN   \n",
       "436                                56     MTH1_0            MEAN   \n",
       "437                                56     MTH1_0            MEAN   \n",
       "438                                56     MTH1_0            MEAN   \n",
       "\n",
       "StratificationCategoryID1  LowConfidenceLimit  HighConfidenceLimit  GENDER  \\\n",
       "461                                       3.6                  4.6    Male   \n",
       "462                                       4.3                  5.0     NaN   \n",
       "464                                       4.5                  5.1     NaN   \n",
       "467                                       4.4                  5.7     NaN   \n",
       "468                                       5.1                  5.9  Female   \n",
       "..                                        ...                  ...     ...   \n",
       "431                                       3.1                  3.7     NaN   \n",
       "433                                       3.2                  3.8     NaN   \n",
       "436                                       2.8                  4.9     NaN   \n",
       "437                                       1.9                  6.4     NaN   \n",
       "438                                       3.8                  4.7  Female   \n",
       "\n",
       "StratificationCategoryID1  OVERALL                 RACE  \n",
       "461                            NaN                  NaN  \n",
       "462                            NaN  White, non-Hispanic  \n",
       "464                        Overall                  NaN  \n",
       "467                            NaN  Black, non-Hispanic  \n",
       "468                            NaN                  NaN  \n",
       "..                             ...                  ...  \n",
       "431                            NaN  White, non-Hispanic  \n",
       "433                        Overall                  NaN  \n",
       "436                            NaN             Hispanic  \n",
       "437                            NaN  Other, non-Hispanic  \n",
       "438                            NaN                  NaN  \n",
       "\n",
       "[380 rows x 14 columns]"
      ]
     },
     "execution_count": 41,
     "metadata": {},
     "output_type": "execute_result"
    }
   ],
   "source": [
    "pt"
   ]
  },
  {
   "cell_type": "code",
   "execution_count": 42,
   "metadata": {
    "collapsed": false,
    "jupyter": {
     "outputs_hidden": false
    }
   },
   "outputs": [
    {
     "data": {
      "text/plain": [
       "LocationDesc          GeoLocation                                LocationAbbr\n",
       "Alabama               (32.84057112200048, -86.63186076199969)    AL              35.3\n",
       "Alaska                (64.84507995700051, -147.72205903599973)   AK              24.7\n",
       "Arizona               (34.865970280000454, -111.76381127699972)  AZ              28.3\n",
       "Arkansas              (34.74865012400045, -92.27449074299966)    AR              43.9\n",
       "California            (37.63864012300047, -120.99999953799971)   CA              33.6\n",
       "Colorado              (38.843840757000464, -106.13361092099967)  CO              31.7\n",
       "Connecticut           (41.56266102000046, -72.64984095199964)    CT              33.9\n",
       "Delaware              (39.008830667000495, -75.57774116799965)   DE              24.2\n",
       "District of Columbia  (38.907192, -77.036871)                    DC              25.7\n",
       "Florida               (28.932040377000476, -81.92896053899966)   FL              37.7\n",
       "Georgia               (32.83968109300048, -83.62758034599966)    GA              31.5\n",
       "Guam                  (13.444304, 144.793731)                    GU              20.1\n",
       "Hawaii                (21.304850435000446, -157.85774940299973)  HI              21.8\n",
       "Idaho                 (43.682630005000476, -114.3637300419997)   ID              30.2\n",
       "Illinois              (40.48501028300046, -88.99771017799969)    IL              33.7\n",
       "Indiana               (39.766910452000445, -86.14996019399968)   IN              31.3\n",
       "Iowa                  (42.46940091300047, -93.81649055599968)    IA              25.7\n",
       "Kansas                (38.34774030000045, -98.20078122699965)    KS              29.6\n",
       "Kentucky              (37.645970271000465, -84.77497104799966)   KY              36.4\n",
       "Louisiana             (31.31266064400046, -92.44568007099969)    LA              40.1\n",
       "Maine                 (45.254228894000505, -68.98503133599962)   ME              32.1\n",
       "Maryland              (39.29058096400047, -76.60926011099963)    MD              30.3\n",
       "Massachusetts         (42.27687047000046, -72.08269067499964)    MA              28.2\n",
       "Michigan              (44.6613195430005, -84.71439026999968)     MI              36.3\n",
       "Minnesota             (46.35564873600049, -94.79420050299967)    MN              33.5\n",
       "Mississippi           (32.745510099000455, -89.53803082499968)   MS              30.9\n",
       "Missouri              (38.635790776000476, -92.56630005299968)   MO              33.7\n",
       "Montana               (47.06652897200047, -109.42442064499971)   MT              28.6\n",
       "Nebraska              (41.6410409880005, -99.36572062299967)     NE              28.5\n",
       "Nevada                (39.493240390000494, -117.07184056399967)  NV              34.4\n",
       "New Hampshire         (43.65595011300047, -71.50036091999965)    NH              31.5\n",
       "New Jersey            (40.13057004800049, -74.27369128799967)    NJ              22.7\n",
       "New Mexico            (34.52088095200048, -106.24058098499967)   NM              27.8\n",
       "New York              (42.82700103200045, -75.54397042699964)    NY              32.3\n",
       "North Carolina        (35.466220975000454, -79.15925046299964)   NC              33.0\n",
       "North Dakota          (47.47531977900047, -100.11842104899966)   ND              16.6\n",
       "Ohio                  (40.06021014100048, -82.40426005599966)    OH              26.8\n",
       "Oklahoma              (35.47203135600046, -97.52107021399968)    OK              38.1\n",
       "Oregon                (44.56744942400047, -120.15503132599969)   OR              27.7\n",
       "Pennsylvania          (40.79373015200048, -77.86070029399963)    PA              38.6\n",
       "Puerto Rico           (18.220833, -66.590149)                    PR              14.9\n",
       "Rhode Island          (41.70828019300046, -71.52247031399963)    RI              32.2\n",
       "South Carolina        (33.998821303000454, -81.04537120699968)   SC              37.6\n",
       "South Dakota          (44.353130053000484, -100.3735306369997)   SD              19.8\n",
       "Tennessee             (35.68094058000048, -85.77449091399967)    TN              19.2\n",
       "Texas                 (31.827240407000488, -99.42677020599967)   TX              32.4\n",
       "Utah                  (39.360700171000474, -111.58713063499971)  UT              22.0\n",
       "Vermont               (43.62538123900049, -72.51764079099962)    VT              34.4\n",
       "Virginia              (37.54268067400045, -78.45789046299967)    VA              26.0\n",
       "Washington            (47.52227862900048, -120.47001078999972)   WA              30.2\n",
       "West Virginia         (38.66551020200046, -80.71264013499967)    WV              40.3\n",
       "Wisconsin             (44.39319117400049, -89.81637074199966)    WI              19.0\n",
       "Wyoming               (43.23554134300048, -108.10983035299967)   WY              21.8\n",
       "Name: DataValue, dtype: float64"
      ]
     },
     "execution_count": 42,
     "metadata": {},
     "output_type": "execute_result"
    }
   ],
   "source": [
    "pt.groupby(['LocationDesc', 'GeoLocation', 'LocationAbbr'])['DataValue'].sum()"
   ]
  },
  {
   "cell_type": "code",
   "execution_count": 43,
   "metadata": {
    "collapsed": false,
    "jupyter": {
     "outputs_hidden": false
    }
   },
   "outputs": [],
   "source": [
    "g1 = pt.groupby(['LocationDesc', 'GeoLocation', 'LocationAbbr'])['DataValue'].sum()"
   ]
  },
  {
   "cell_type": "code",
   "execution_count": 44,
   "metadata": {
    "collapsed": false,
    "jupyter": {
     "outputs_hidden": false
    }
   },
   "outputs": [],
   "source": [
    "g1 = g1.reset_index()"
   ]
  },
  {
   "cell_type": "code",
   "execution_count": 45,
   "metadata": {
    "collapsed": false,
    "jupyter": {
     "outputs_hidden": false
    }
   },
   "outputs": [
    {
     "data": {
      "text/html": [
       "<div>\n",
       "<style scoped>\n",
       "    .dataframe tbody tr th:only-of-type {\n",
       "        vertical-align: middle;\n",
       "    }\n",
       "\n",
       "    .dataframe tbody tr th {\n",
       "        vertical-align: top;\n",
       "    }\n",
       "\n",
       "    .dataframe thead th {\n",
       "        text-align: right;\n",
       "    }\n",
       "</style>\n",
       "<table border=\"1\" class=\"dataframe\">\n",
       "  <thead>\n",
       "    <tr style=\"text-align: right;\">\n",
       "      <th></th>\n",
       "      <th>LocationDesc</th>\n",
       "      <th>GeoLocation</th>\n",
       "      <th>LocationAbbr</th>\n",
       "      <th>DataValue</th>\n",
       "    </tr>\n",
       "  </thead>\n",
       "  <tbody>\n",
       "    <tr>\n",
       "      <th>0</th>\n",
       "      <td>Alabama</td>\n",
       "      <td>(32.84057112200048, -86.63186076199969)</td>\n",
       "      <td>AL</td>\n",
       "      <td>35.3</td>\n",
       "    </tr>\n",
       "    <tr>\n",
       "      <th>1</th>\n",
       "      <td>Alaska</td>\n",
       "      <td>(64.84507995700051, -147.72205903599973)</td>\n",
       "      <td>AK</td>\n",
       "      <td>24.7</td>\n",
       "    </tr>\n",
       "    <tr>\n",
       "      <th>2</th>\n",
       "      <td>Arizona</td>\n",
       "      <td>(34.865970280000454, -111.76381127699972)</td>\n",
       "      <td>AZ</td>\n",
       "      <td>28.3</td>\n",
       "    </tr>\n",
       "    <tr>\n",
       "      <th>3</th>\n",
       "      <td>Arkansas</td>\n",
       "      <td>(34.74865012400045, -92.27449074299966)</td>\n",
       "      <td>AR</td>\n",
       "      <td>43.9</td>\n",
       "    </tr>\n",
       "    <tr>\n",
       "      <th>4</th>\n",
       "      <td>California</td>\n",
       "      <td>(37.63864012300047, -120.99999953799971)</td>\n",
       "      <td>CA</td>\n",
       "      <td>33.6</td>\n",
       "    </tr>\n",
       "    <tr>\n",
       "      <th>5</th>\n",
       "      <td>Colorado</td>\n",
       "      <td>(38.843840757000464, -106.13361092099967)</td>\n",
       "      <td>CO</td>\n",
       "      <td>31.7</td>\n",
       "    </tr>\n",
       "    <tr>\n",
       "      <th>6</th>\n",
       "      <td>Connecticut</td>\n",
       "      <td>(41.56266102000046, -72.64984095199964)</td>\n",
       "      <td>CT</td>\n",
       "      <td>33.9</td>\n",
       "    </tr>\n",
       "    <tr>\n",
       "      <th>7</th>\n",
       "      <td>Delaware</td>\n",
       "      <td>(39.008830667000495, -75.57774116799965)</td>\n",
       "      <td>DE</td>\n",
       "      <td>24.2</td>\n",
       "    </tr>\n",
       "    <tr>\n",
       "      <th>8</th>\n",
       "      <td>District of Columbia</td>\n",
       "      <td>(38.907192, -77.036871)</td>\n",
       "      <td>DC</td>\n",
       "      <td>25.7</td>\n",
       "    </tr>\n",
       "    <tr>\n",
       "      <th>9</th>\n",
       "      <td>Florida</td>\n",
       "      <td>(28.932040377000476, -81.92896053899966)</td>\n",
       "      <td>FL</td>\n",
       "      <td>37.7</td>\n",
       "    </tr>\n",
       "    <tr>\n",
       "      <th>10</th>\n",
       "      <td>Georgia</td>\n",
       "      <td>(32.83968109300048, -83.62758034599966)</td>\n",
       "      <td>GA</td>\n",
       "      <td>31.5</td>\n",
       "    </tr>\n",
       "    <tr>\n",
       "      <th>11</th>\n",
       "      <td>Guam</td>\n",
       "      <td>(13.444304, 144.793731)</td>\n",
       "      <td>GU</td>\n",
       "      <td>20.1</td>\n",
       "    </tr>\n",
       "    <tr>\n",
       "      <th>12</th>\n",
       "      <td>Hawaii</td>\n",
       "      <td>(21.304850435000446, -157.85774940299973)</td>\n",
       "      <td>HI</td>\n",
       "      <td>21.8</td>\n",
       "    </tr>\n",
       "    <tr>\n",
       "      <th>13</th>\n",
       "      <td>Idaho</td>\n",
       "      <td>(43.682630005000476, -114.3637300419997)</td>\n",
       "      <td>ID</td>\n",
       "      <td>30.2</td>\n",
       "    </tr>\n",
       "    <tr>\n",
       "      <th>14</th>\n",
       "      <td>Illinois</td>\n",
       "      <td>(40.48501028300046, -88.99771017799969)</td>\n",
       "      <td>IL</td>\n",
       "      <td>33.7</td>\n",
       "    </tr>\n",
       "    <tr>\n",
       "      <th>15</th>\n",
       "      <td>Indiana</td>\n",
       "      <td>(39.766910452000445, -86.14996019399968)</td>\n",
       "      <td>IN</td>\n",
       "      <td>31.3</td>\n",
       "    </tr>\n",
       "    <tr>\n",
       "      <th>16</th>\n",
       "      <td>Iowa</td>\n",
       "      <td>(42.46940091300047, -93.81649055599968)</td>\n",
       "      <td>IA</td>\n",
       "      <td>25.7</td>\n",
       "    </tr>\n",
       "    <tr>\n",
       "      <th>17</th>\n",
       "      <td>Kansas</td>\n",
       "      <td>(38.34774030000045, -98.20078122699965)</td>\n",
       "      <td>KS</td>\n",
       "      <td>29.6</td>\n",
       "    </tr>\n",
       "    <tr>\n",
       "      <th>18</th>\n",
       "      <td>Kentucky</td>\n",
       "      <td>(37.645970271000465, -84.77497104799966)</td>\n",
       "      <td>KY</td>\n",
       "      <td>36.4</td>\n",
       "    </tr>\n",
       "    <tr>\n",
       "      <th>19</th>\n",
       "      <td>Louisiana</td>\n",
       "      <td>(31.31266064400046, -92.44568007099969)</td>\n",
       "      <td>LA</td>\n",
       "      <td>40.1</td>\n",
       "    </tr>\n",
       "    <tr>\n",
       "      <th>20</th>\n",
       "      <td>Maine</td>\n",
       "      <td>(45.254228894000505, -68.98503133599962)</td>\n",
       "      <td>ME</td>\n",
       "      <td>32.1</td>\n",
       "    </tr>\n",
       "    <tr>\n",
       "      <th>21</th>\n",
       "      <td>Maryland</td>\n",
       "      <td>(39.29058096400047, -76.60926011099963)</td>\n",
       "      <td>MD</td>\n",
       "      <td>30.3</td>\n",
       "    </tr>\n",
       "    <tr>\n",
       "      <th>22</th>\n",
       "      <td>Massachusetts</td>\n",
       "      <td>(42.27687047000046, -72.08269067499964)</td>\n",
       "      <td>MA</td>\n",
       "      <td>28.2</td>\n",
       "    </tr>\n",
       "    <tr>\n",
       "      <th>23</th>\n",
       "      <td>Michigan</td>\n",
       "      <td>(44.6613195430005, -84.71439026999968)</td>\n",
       "      <td>MI</td>\n",
       "      <td>36.3</td>\n",
       "    </tr>\n",
       "    <tr>\n",
       "      <th>24</th>\n",
       "      <td>Minnesota</td>\n",
       "      <td>(46.35564873600049, -94.79420050299967)</td>\n",
       "      <td>MN</td>\n",
       "      <td>33.5</td>\n",
       "    </tr>\n",
       "    <tr>\n",
       "      <th>25</th>\n",
       "      <td>Mississippi</td>\n",
       "      <td>(32.745510099000455, -89.53803082499968)</td>\n",
       "      <td>MS</td>\n",
       "      <td>30.9</td>\n",
       "    </tr>\n",
       "    <tr>\n",
       "      <th>26</th>\n",
       "      <td>Missouri</td>\n",
       "      <td>(38.635790776000476, -92.56630005299968)</td>\n",
       "      <td>MO</td>\n",
       "      <td>33.7</td>\n",
       "    </tr>\n",
       "    <tr>\n",
       "      <th>27</th>\n",
       "      <td>Montana</td>\n",
       "      <td>(47.06652897200047, -109.42442064499971)</td>\n",
       "      <td>MT</td>\n",
       "      <td>28.6</td>\n",
       "    </tr>\n",
       "    <tr>\n",
       "      <th>28</th>\n",
       "      <td>Nebraska</td>\n",
       "      <td>(41.6410409880005, -99.36572062299967)</td>\n",
       "      <td>NE</td>\n",
       "      <td>28.5</td>\n",
       "    </tr>\n",
       "    <tr>\n",
       "      <th>29</th>\n",
       "      <td>Nevada</td>\n",
       "      <td>(39.493240390000494, -117.07184056399967)</td>\n",
       "      <td>NV</td>\n",
       "      <td>34.4</td>\n",
       "    </tr>\n",
       "    <tr>\n",
       "      <th>30</th>\n",
       "      <td>New Hampshire</td>\n",
       "      <td>(43.65595011300047, -71.50036091999965)</td>\n",
       "      <td>NH</td>\n",
       "      <td>31.5</td>\n",
       "    </tr>\n",
       "    <tr>\n",
       "      <th>31</th>\n",
       "      <td>New Jersey</td>\n",
       "      <td>(40.13057004800049, -74.27369128799967)</td>\n",
       "      <td>NJ</td>\n",
       "      <td>22.7</td>\n",
       "    </tr>\n",
       "    <tr>\n",
       "      <th>32</th>\n",
       "      <td>New Mexico</td>\n",
       "      <td>(34.52088095200048, -106.24058098499967)</td>\n",
       "      <td>NM</td>\n",
       "      <td>27.8</td>\n",
       "    </tr>\n",
       "    <tr>\n",
       "      <th>33</th>\n",
       "      <td>New York</td>\n",
       "      <td>(42.82700103200045, -75.54397042699964)</td>\n",
       "      <td>NY</td>\n",
       "      <td>32.3</td>\n",
       "    </tr>\n",
       "    <tr>\n",
       "      <th>34</th>\n",
       "      <td>North Carolina</td>\n",
       "      <td>(35.466220975000454, -79.15925046299964)</td>\n",
       "      <td>NC</td>\n",
       "      <td>33.0</td>\n",
       "    </tr>\n",
       "    <tr>\n",
       "      <th>35</th>\n",
       "      <td>North Dakota</td>\n",
       "      <td>(47.47531977900047, -100.11842104899966)</td>\n",
       "      <td>ND</td>\n",
       "      <td>16.6</td>\n",
       "    </tr>\n",
       "    <tr>\n",
       "      <th>36</th>\n",
       "      <td>Ohio</td>\n",
       "      <td>(40.06021014100048, -82.40426005599966)</td>\n",
       "      <td>OH</td>\n",
       "      <td>26.8</td>\n",
       "    </tr>\n",
       "    <tr>\n",
       "      <th>37</th>\n",
       "      <td>Oklahoma</td>\n",
       "      <td>(35.47203135600046, -97.52107021399968)</td>\n",
       "      <td>OK</td>\n",
       "      <td>38.1</td>\n",
       "    </tr>\n",
       "    <tr>\n",
       "      <th>38</th>\n",
       "      <td>Oregon</td>\n",
       "      <td>(44.56744942400047, -120.15503132599969)</td>\n",
       "      <td>OR</td>\n",
       "      <td>27.7</td>\n",
       "    </tr>\n",
       "    <tr>\n",
       "      <th>39</th>\n",
       "      <td>Pennsylvania</td>\n",
       "      <td>(40.79373015200048, -77.86070029399963)</td>\n",
       "      <td>PA</td>\n",
       "      <td>38.6</td>\n",
       "    </tr>\n",
       "    <tr>\n",
       "      <th>40</th>\n",
       "      <td>Puerto Rico</td>\n",
       "      <td>(18.220833, -66.590149)</td>\n",
       "      <td>PR</td>\n",
       "      <td>14.9</td>\n",
       "    </tr>\n",
       "    <tr>\n",
       "      <th>41</th>\n",
       "      <td>Rhode Island</td>\n",
       "      <td>(41.70828019300046, -71.52247031399963)</td>\n",
       "      <td>RI</td>\n",
       "      <td>32.2</td>\n",
       "    </tr>\n",
       "    <tr>\n",
       "      <th>42</th>\n",
       "      <td>South Carolina</td>\n",
       "      <td>(33.998821303000454, -81.04537120699968)</td>\n",
       "      <td>SC</td>\n",
       "      <td>37.6</td>\n",
       "    </tr>\n",
       "    <tr>\n",
       "      <th>43</th>\n",
       "      <td>South Dakota</td>\n",
       "      <td>(44.353130053000484, -100.3735306369997)</td>\n",
       "      <td>SD</td>\n",
       "      <td>19.8</td>\n",
       "    </tr>\n",
       "    <tr>\n",
       "      <th>44</th>\n",
       "      <td>Tennessee</td>\n",
       "      <td>(35.68094058000048, -85.77449091399967)</td>\n",
       "      <td>TN</td>\n",
       "      <td>19.2</td>\n",
       "    </tr>\n",
       "    <tr>\n",
       "      <th>45</th>\n",
       "      <td>Texas</td>\n",
       "      <td>(31.827240407000488, -99.42677020599967)</td>\n",
       "      <td>TX</td>\n",
       "      <td>32.4</td>\n",
       "    </tr>\n",
       "    <tr>\n",
       "      <th>46</th>\n",
       "      <td>Utah</td>\n",
       "      <td>(39.360700171000474, -111.58713063499971)</td>\n",
       "      <td>UT</td>\n",
       "      <td>22.0</td>\n",
       "    </tr>\n",
       "    <tr>\n",
       "      <th>47</th>\n",
       "      <td>Vermont</td>\n",
       "      <td>(43.62538123900049, -72.51764079099962)</td>\n",
       "      <td>VT</td>\n",
       "      <td>34.4</td>\n",
       "    </tr>\n",
       "    <tr>\n",
       "      <th>48</th>\n",
       "      <td>Virginia</td>\n",
       "      <td>(37.54268067400045, -78.45789046299967)</td>\n",
       "      <td>VA</td>\n",
       "      <td>26.0</td>\n",
       "    </tr>\n",
       "    <tr>\n",
       "      <th>49</th>\n",
       "      <td>Washington</td>\n",
       "      <td>(47.52227862900048, -120.47001078999972)</td>\n",
       "      <td>WA</td>\n",
       "      <td>30.2</td>\n",
       "    </tr>\n",
       "    <tr>\n",
       "      <th>50</th>\n",
       "      <td>West Virginia</td>\n",
       "      <td>(38.66551020200046, -80.71264013499967)</td>\n",
       "      <td>WV</td>\n",
       "      <td>40.3</td>\n",
       "    </tr>\n",
       "    <tr>\n",
       "      <th>51</th>\n",
       "      <td>Wisconsin</td>\n",
       "      <td>(44.39319117400049, -89.81637074199966)</td>\n",
       "      <td>WI</td>\n",
       "      <td>19.0</td>\n",
       "    </tr>\n",
       "    <tr>\n",
       "      <th>52</th>\n",
       "      <td>Wyoming</td>\n",
       "      <td>(43.23554134300048, -108.10983035299967)</td>\n",
       "      <td>WY</td>\n",
       "      <td>21.8</td>\n",
       "    </tr>\n",
       "  </tbody>\n",
       "</table>\n",
       "</div>"
      ],
      "text/plain": [
       "            LocationDesc                                GeoLocation  \\\n",
       "0                Alabama    (32.84057112200048, -86.63186076199969)   \n",
       "1                 Alaska   (64.84507995700051, -147.72205903599973)   \n",
       "2                Arizona  (34.865970280000454, -111.76381127699972)   \n",
       "3               Arkansas    (34.74865012400045, -92.27449074299966)   \n",
       "4             California   (37.63864012300047, -120.99999953799971)   \n",
       "5               Colorado  (38.843840757000464, -106.13361092099967)   \n",
       "6            Connecticut    (41.56266102000046, -72.64984095199964)   \n",
       "7               Delaware   (39.008830667000495, -75.57774116799965)   \n",
       "8   District of Columbia                    (38.907192, -77.036871)   \n",
       "9                Florida   (28.932040377000476, -81.92896053899966)   \n",
       "10               Georgia    (32.83968109300048, -83.62758034599966)   \n",
       "11                  Guam                    (13.444304, 144.793731)   \n",
       "12                Hawaii  (21.304850435000446, -157.85774940299973)   \n",
       "13                 Idaho   (43.682630005000476, -114.3637300419997)   \n",
       "14              Illinois    (40.48501028300046, -88.99771017799969)   \n",
       "15               Indiana   (39.766910452000445, -86.14996019399968)   \n",
       "16                  Iowa    (42.46940091300047, -93.81649055599968)   \n",
       "17                Kansas    (38.34774030000045, -98.20078122699965)   \n",
       "18              Kentucky   (37.645970271000465, -84.77497104799966)   \n",
       "19             Louisiana    (31.31266064400046, -92.44568007099969)   \n",
       "20                 Maine   (45.254228894000505, -68.98503133599962)   \n",
       "21              Maryland    (39.29058096400047, -76.60926011099963)   \n",
       "22         Massachusetts    (42.27687047000046, -72.08269067499964)   \n",
       "23              Michigan     (44.6613195430005, -84.71439026999968)   \n",
       "24             Minnesota    (46.35564873600049, -94.79420050299967)   \n",
       "25           Mississippi   (32.745510099000455, -89.53803082499968)   \n",
       "26              Missouri   (38.635790776000476, -92.56630005299968)   \n",
       "27               Montana   (47.06652897200047, -109.42442064499971)   \n",
       "28              Nebraska     (41.6410409880005, -99.36572062299967)   \n",
       "29                Nevada  (39.493240390000494, -117.07184056399967)   \n",
       "30         New Hampshire    (43.65595011300047, -71.50036091999965)   \n",
       "31            New Jersey    (40.13057004800049, -74.27369128799967)   \n",
       "32            New Mexico   (34.52088095200048, -106.24058098499967)   \n",
       "33              New York    (42.82700103200045, -75.54397042699964)   \n",
       "34        North Carolina   (35.466220975000454, -79.15925046299964)   \n",
       "35          North Dakota   (47.47531977900047, -100.11842104899966)   \n",
       "36                  Ohio    (40.06021014100048, -82.40426005599966)   \n",
       "37              Oklahoma    (35.47203135600046, -97.52107021399968)   \n",
       "38                Oregon   (44.56744942400047, -120.15503132599969)   \n",
       "39          Pennsylvania    (40.79373015200048, -77.86070029399963)   \n",
       "40           Puerto Rico                    (18.220833, -66.590149)   \n",
       "41          Rhode Island    (41.70828019300046, -71.52247031399963)   \n",
       "42        South Carolina   (33.998821303000454, -81.04537120699968)   \n",
       "43          South Dakota   (44.353130053000484, -100.3735306369997)   \n",
       "44             Tennessee    (35.68094058000048, -85.77449091399967)   \n",
       "45                 Texas   (31.827240407000488, -99.42677020599967)   \n",
       "46                  Utah  (39.360700171000474, -111.58713063499971)   \n",
       "47               Vermont    (43.62538123900049, -72.51764079099962)   \n",
       "48              Virginia    (37.54268067400045, -78.45789046299967)   \n",
       "49            Washington   (47.52227862900048, -120.47001078999972)   \n",
       "50         West Virginia    (38.66551020200046, -80.71264013499967)   \n",
       "51             Wisconsin    (44.39319117400049, -89.81637074199966)   \n",
       "52               Wyoming   (43.23554134300048, -108.10983035299967)   \n",
       "\n",
       "   LocationAbbr  DataValue  \n",
       "0            AL       35.3  \n",
       "1            AK       24.7  \n",
       "2            AZ       28.3  \n",
       "3            AR       43.9  \n",
       "4            CA       33.6  \n",
       "5            CO       31.7  \n",
       "6            CT       33.9  \n",
       "7            DE       24.2  \n",
       "8            DC       25.7  \n",
       "9            FL       37.7  \n",
       "10           GA       31.5  \n",
       "11           GU       20.1  \n",
       "12           HI       21.8  \n",
       "13           ID       30.2  \n",
       "14           IL       33.7  \n",
       "15           IN       31.3  \n",
       "16           IA       25.7  \n",
       "17           KS       29.6  \n",
       "18           KY       36.4  \n",
       "19           LA       40.1  \n",
       "20           ME       32.1  \n",
       "21           MD       30.3  \n",
       "22           MA       28.2  \n",
       "23           MI       36.3  \n",
       "24           MN       33.5  \n",
       "25           MS       30.9  \n",
       "26           MO       33.7  \n",
       "27           MT       28.6  \n",
       "28           NE       28.5  \n",
       "29           NV       34.4  \n",
       "30           NH       31.5  \n",
       "31           NJ       22.7  \n",
       "32           NM       27.8  \n",
       "33           NY       32.3  \n",
       "34           NC       33.0  \n",
       "35           ND       16.6  \n",
       "36           OH       26.8  \n",
       "37           OK       38.1  \n",
       "38           OR       27.7  \n",
       "39           PA       38.6  \n",
       "40           PR       14.9  \n",
       "41           RI       32.2  \n",
       "42           SC       37.6  \n",
       "43           SD       19.8  \n",
       "44           TN       19.2  \n",
       "45           TX       32.4  \n",
       "46           UT       22.0  \n",
       "47           VT       34.4  \n",
       "48           VA       26.0  \n",
       "49           WA       30.2  \n",
       "50           WV       40.3  \n",
       "51           WI       19.0  \n",
       "52           WY       21.8  "
      ]
     },
     "execution_count": 45,
     "metadata": {},
     "output_type": "execute_result"
    }
   ],
   "source": [
    "g1"
   ]
  },
  {
   "cell_type": "code",
   "execution_count": 46,
   "metadata": {
    "collapsed": false,
    "jupyter": {
     "outputs_hidden": false
    }
   },
   "outputs": [
    {
     "data": {
      "text/plain": [
       "LocationDesc     object\n",
       "GeoLocation      object\n",
       "LocationAbbr     object\n",
       "DataValue       float64\n",
       "dtype: object"
      ]
     },
     "execution_count": 46,
     "metadata": {},
     "output_type": "execute_result"
    }
   ],
   "source": [
    "g1.dtypes"
   ]
  },
  {
   "cell_type": "code",
   "execution_count": 47,
   "metadata": {
    "collapsed": false,
    "jupyter": {
     "outputs_hidden": false
    }
   },
   "outputs": [],
   "source": [
    "import plotly.offline as pyo\n",
    "import plotly.io as pio\n",
    "pio.renderers.default='notebook'"
   ]
  },
  {
   "cell_type": "code",
   "execution_count": 50,
   "metadata": {
    "collapsed": false,
    "jupyter": {
     "outputs_hidden": false
    }
   },
   "outputs": [
    {
     "data": {
      "application/vnd.plotly.v1+json": {
       "config": {
        "plotlyServerURL": "https://plot.ly"
       },
       "data": [
        {
         "colorbar": {
          "title": {
           "text": "Average Unhealthy Days"
          }
         },
         "colorscale": [
          [
           0,
           "rgb(255,245,240)"
          ],
          [
           0.125,
           "rgb(254,224,210)"
          ],
          [
           0.25,
           "rgb(252,187,161)"
          ],
          [
           0.375,
           "rgb(252,146,114)"
          ],
          [
           0.5,
           "rgb(251,106,74)"
          ],
          [
           0.625,
           "rgb(239,59,44)"
          ],
          [
           0.75,
           "rgb(203,24,29)"
          ],
          [
           0.875,
           "rgb(165,15,21)"
          ],
          [
           1,
           "rgb(103,0,13)"
          ]
         ],
         "locationmode": "USA-states",
         "locations": [
          "AL",
          "AK",
          "AZ",
          "AR",
          "CA",
          "CO",
          "CT",
          "DE",
          "DC",
          "FL",
          "GA",
          "GU",
          "HI",
          "ID",
          "IL",
          "IN",
          "IA",
          "KS",
          "KY",
          "LA",
          "ME",
          "MD",
          "MA",
          "MI",
          "MN",
          "MS",
          "MO",
          "MT",
          "NE",
          "NV",
          "NH",
          "NJ",
          "NM",
          "NY",
          "NC",
          "ND",
          "OH",
          "OK",
          "OR",
          "PA",
          "PR",
          "RI",
          "SC",
          "SD",
          "TN",
          "TX",
          "UT",
          "VT",
          "VA",
          "WA",
          "WV",
          "WI",
          "WY"
         ],
         "type": "choropleth",
         "z": [
          35.300000000000004,
          24.700000000000003,
          28.3,
          43.9,
          33.599999999999994,
          31.7,
          33.9,
          24.200000000000003,
          25.7,
          37.7,
          31.5,
          20.1,
          21.8,
          30.2,
          33.7,
          31.3,
          25.700000000000003,
          29.6,
          36.4,
          40.1,
          32.1,
          30.3,
          28.200000000000003,
          36.3,
          33.5,
          30.900000000000002,
          33.699999999999996,
          28.6,
          28.5,
          34.4,
          31.5,
          22.7,
          27.800000000000004,
          32.3,
          33,
          16.6,
          26.8,
          38.099999999999994,
          27.7,
          38.6,
          14.9,
          32.2,
          37.599999999999994,
          19.799999999999997,
          19.2,
          32.4,
          22,
          34.4,
          26,
          30.199999999999996,
          40.3,
          19,
          21.8
         ]
        }
       ],
       "layout": {
        "autosize": true,
        "geo": {
         "scope": "usa"
        },
        "template": {
         "data": {
          "bar": [
           {
            "error_x": {
             "color": "#2a3f5f"
            },
            "error_y": {
             "color": "#2a3f5f"
            },
            "marker": {
             "line": {
              "color": "#E5ECF6",
              "width": 0.5
             }
            },
            "type": "bar"
           }
          ],
          "barpolar": [
           {
            "marker": {
             "line": {
              "color": "#E5ECF6",
              "width": 0.5
             }
            },
            "type": "barpolar"
           }
          ],
          "carpet": [
           {
            "aaxis": {
             "endlinecolor": "#2a3f5f",
             "gridcolor": "white",
             "linecolor": "white",
             "minorgridcolor": "white",
             "startlinecolor": "#2a3f5f"
            },
            "baxis": {
             "endlinecolor": "#2a3f5f",
             "gridcolor": "white",
             "linecolor": "white",
             "minorgridcolor": "white",
             "startlinecolor": "#2a3f5f"
            },
            "type": "carpet"
           }
          ],
          "choropleth": [
           {
            "colorbar": {
             "outlinewidth": 0,
             "ticks": ""
            },
            "type": "choropleth"
           }
          ],
          "contour": [
           {
            "colorbar": {
             "outlinewidth": 0,
             "ticks": ""
            },
            "colorscale": [
             [
              0,
              "#0d0887"
             ],
             [
              0.1111111111111111,
              "#46039f"
             ],
             [
              0.2222222222222222,
              "#7201a8"
             ],
             [
              0.3333333333333333,
              "#9c179e"
             ],
             [
              0.4444444444444444,
              "#bd3786"
             ],
             [
              0.5555555555555556,
              "#d8576b"
             ],
             [
              0.6666666666666666,
              "#ed7953"
             ],
             [
              0.7777777777777778,
              "#fb9f3a"
             ],
             [
              0.8888888888888888,
              "#fdca26"
             ],
             [
              1,
              "#f0f921"
             ]
            ],
            "type": "contour"
           }
          ],
          "contourcarpet": [
           {
            "colorbar": {
             "outlinewidth": 0,
             "ticks": ""
            },
            "type": "contourcarpet"
           }
          ],
          "heatmap": [
           {
            "colorbar": {
             "outlinewidth": 0,
             "ticks": ""
            },
            "colorscale": [
             [
              0,
              "#0d0887"
             ],
             [
              0.1111111111111111,
              "#46039f"
             ],
             [
              0.2222222222222222,
              "#7201a8"
             ],
             [
              0.3333333333333333,
              "#9c179e"
             ],
             [
              0.4444444444444444,
              "#bd3786"
             ],
             [
              0.5555555555555556,
              "#d8576b"
             ],
             [
              0.6666666666666666,
              "#ed7953"
             ],
             [
              0.7777777777777778,
              "#fb9f3a"
             ],
             [
              0.8888888888888888,
              "#fdca26"
             ],
             [
              1,
              "#f0f921"
             ]
            ],
            "type": "heatmap"
           }
          ],
          "heatmapgl": [
           {
            "colorbar": {
             "outlinewidth": 0,
             "ticks": ""
            },
            "colorscale": [
             [
              0,
              "#0d0887"
             ],
             [
              0.1111111111111111,
              "#46039f"
             ],
             [
              0.2222222222222222,
              "#7201a8"
             ],
             [
              0.3333333333333333,
              "#9c179e"
             ],
             [
              0.4444444444444444,
              "#bd3786"
             ],
             [
              0.5555555555555556,
              "#d8576b"
             ],
             [
              0.6666666666666666,
              "#ed7953"
             ],
             [
              0.7777777777777778,
              "#fb9f3a"
             ],
             [
              0.8888888888888888,
              "#fdca26"
             ],
             [
              1,
              "#f0f921"
             ]
            ],
            "type": "heatmapgl"
           }
          ],
          "histogram": [
           {
            "marker": {
             "colorbar": {
              "outlinewidth": 0,
              "ticks": ""
             }
            },
            "type": "histogram"
           }
          ],
          "histogram2d": [
           {
            "colorbar": {
             "outlinewidth": 0,
             "ticks": ""
            },
            "colorscale": [
             [
              0,
              "#0d0887"
             ],
             [
              0.1111111111111111,
              "#46039f"
             ],
             [
              0.2222222222222222,
              "#7201a8"
             ],
             [
              0.3333333333333333,
              "#9c179e"
             ],
             [
              0.4444444444444444,
              "#bd3786"
             ],
             [
              0.5555555555555556,
              "#d8576b"
             ],
             [
              0.6666666666666666,
              "#ed7953"
             ],
             [
              0.7777777777777778,
              "#fb9f3a"
             ],
             [
              0.8888888888888888,
              "#fdca26"
             ],
             [
              1,
              "#f0f921"
             ]
            ],
            "type": "histogram2d"
           }
          ],
          "histogram2dcontour": [
           {
            "colorbar": {
             "outlinewidth": 0,
             "ticks": ""
            },
            "colorscale": [
             [
              0,
              "#0d0887"
             ],
             [
              0.1111111111111111,
              "#46039f"
             ],
             [
              0.2222222222222222,
              "#7201a8"
             ],
             [
              0.3333333333333333,
              "#9c179e"
             ],
             [
              0.4444444444444444,
              "#bd3786"
             ],
             [
              0.5555555555555556,
              "#d8576b"
             ],
             [
              0.6666666666666666,
              "#ed7953"
             ],
             [
              0.7777777777777778,
              "#fb9f3a"
             ],
             [
              0.8888888888888888,
              "#fdca26"
             ],
             [
              1,
              "#f0f921"
             ]
            ],
            "type": "histogram2dcontour"
           }
          ],
          "mesh3d": [
           {
            "colorbar": {
             "outlinewidth": 0,
             "ticks": ""
            },
            "type": "mesh3d"
           }
          ],
          "parcoords": [
           {
            "line": {
             "colorbar": {
              "outlinewidth": 0,
              "ticks": ""
             }
            },
            "type": "parcoords"
           }
          ],
          "pie": [
           {
            "automargin": true,
            "type": "pie"
           }
          ],
          "scatter": [
           {
            "marker": {
             "colorbar": {
              "outlinewidth": 0,
              "ticks": ""
             }
            },
            "type": "scatter"
           }
          ],
          "scatter3d": [
           {
            "line": {
             "colorbar": {
              "outlinewidth": 0,
              "ticks": ""
             }
            },
            "marker": {
             "colorbar": {
              "outlinewidth": 0,
              "ticks": ""
             }
            },
            "type": "scatter3d"
           }
          ],
          "scattercarpet": [
           {
            "marker": {
             "colorbar": {
              "outlinewidth": 0,
              "ticks": ""
             }
            },
            "type": "scattercarpet"
           }
          ],
          "scattergeo": [
           {
            "marker": {
             "colorbar": {
              "outlinewidth": 0,
              "ticks": ""
             }
            },
            "type": "scattergeo"
           }
          ],
          "scattergl": [
           {
            "marker": {
             "colorbar": {
              "outlinewidth": 0,
              "ticks": ""
             }
            },
            "type": "scattergl"
           }
          ],
          "scattermapbox": [
           {
            "marker": {
             "colorbar": {
              "outlinewidth": 0,
              "ticks": ""
             }
            },
            "type": "scattermapbox"
           }
          ],
          "scatterpolar": [
           {
            "marker": {
             "colorbar": {
              "outlinewidth": 0,
              "ticks": ""
             }
            },
            "type": "scatterpolar"
           }
          ],
          "scatterpolargl": [
           {
            "marker": {
             "colorbar": {
              "outlinewidth": 0,
              "ticks": ""
             }
            },
            "type": "scatterpolargl"
           }
          ],
          "scatterternary": [
           {
            "marker": {
             "colorbar": {
              "outlinewidth": 0,
              "ticks": ""
             }
            },
            "type": "scatterternary"
           }
          ],
          "surface": [
           {
            "colorbar": {
             "outlinewidth": 0,
             "ticks": ""
            },
            "colorscale": [
             [
              0,
              "#0d0887"
             ],
             [
              0.1111111111111111,
              "#46039f"
             ],
             [
              0.2222222222222222,
              "#7201a8"
             ],
             [
              0.3333333333333333,
              "#9c179e"
             ],
             [
              0.4444444444444444,
              "#bd3786"
             ],
             [
              0.5555555555555556,
              "#d8576b"
             ],
             [
              0.6666666666666666,
              "#ed7953"
             ],
             [
              0.7777777777777778,
              "#fb9f3a"
             ],
             [
              0.8888888888888888,
              "#fdca26"
             ],
             [
              1,
              "#f0f921"
             ]
            ],
            "type": "surface"
           }
          ],
          "table": [
           {
            "cells": {
             "fill": {
              "color": "#EBF0F8"
             },
             "line": {
              "color": "white"
             }
            },
            "header": {
             "fill": {
              "color": "#C8D4E3"
             },
             "line": {
              "color": "white"
             }
            },
            "type": "table"
           }
          ]
         },
         "layout": {
          "annotationdefaults": {
           "arrowcolor": "#2a3f5f",
           "arrowhead": 0,
           "arrowwidth": 1
          },
          "coloraxis": {
           "colorbar": {
            "outlinewidth": 0,
            "ticks": ""
           }
          },
          "colorscale": {
           "diverging": [
            [
             0,
             "#8e0152"
            ],
            [
             0.1,
             "#c51b7d"
            ],
            [
             0.2,
             "#de77ae"
            ],
            [
             0.3,
             "#f1b6da"
            ],
            [
             0.4,
             "#fde0ef"
            ],
            [
             0.5,
             "#f7f7f7"
            ],
            [
             0.6,
             "#e6f5d0"
            ],
            [
             0.7,
             "#b8e186"
            ],
            [
             0.8,
             "#7fbc41"
            ],
            [
             0.9,
             "#4d9221"
            ],
            [
             1,
             "#276419"
            ]
           ],
           "sequential": [
            [
             0,
             "#0d0887"
            ],
            [
             0.1111111111111111,
             "#46039f"
            ],
            [
             0.2222222222222222,
             "#7201a8"
            ],
            [
             0.3333333333333333,
             "#9c179e"
            ],
            [
             0.4444444444444444,
             "#bd3786"
            ],
            [
             0.5555555555555556,
             "#d8576b"
            ],
            [
             0.6666666666666666,
             "#ed7953"
            ],
            [
             0.7777777777777778,
             "#fb9f3a"
            ],
            [
             0.8888888888888888,
             "#fdca26"
            ],
            [
             1,
             "#f0f921"
            ]
           ],
           "sequentialminus": [
            [
             0,
             "#0d0887"
            ],
            [
             0.1111111111111111,
             "#46039f"
            ],
            [
             0.2222222222222222,
             "#7201a8"
            ],
            [
             0.3333333333333333,
             "#9c179e"
            ],
            [
             0.4444444444444444,
             "#bd3786"
            ],
            [
             0.5555555555555556,
             "#d8576b"
            ],
            [
             0.6666666666666666,
             "#ed7953"
            ],
            [
             0.7777777777777778,
             "#fb9f3a"
            ],
            [
             0.8888888888888888,
             "#fdca26"
            ],
            [
             1,
             "#f0f921"
            ]
           ]
          },
          "colorway": [
           "#636efa",
           "#EF553B",
           "#00cc96",
           "#ab63fa",
           "#FFA15A",
           "#19d3f3",
           "#FF6692",
           "#B6E880",
           "#FF97FF",
           "#FECB52"
          ],
          "font": {
           "color": "#2a3f5f"
          },
          "geo": {
           "bgcolor": "white",
           "lakecolor": "white",
           "landcolor": "#E5ECF6",
           "showlakes": true,
           "showland": true,
           "subunitcolor": "white"
          },
          "hoverlabel": {
           "align": "left"
          },
          "hovermode": "closest",
          "mapbox": {
           "style": "light"
          },
          "paper_bgcolor": "white",
          "plot_bgcolor": "#E5ECF6",
          "polar": {
           "angularaxis": {
            "gridcolor": "white",
            "linecolor": "white",
            "ticks": ""
           },
           "bgcolor": "#E5ECF6",
           "radialaxis": {
            "gridcolor": "white",
            "linecolor": "white",
            "ticks": ""
           }
          },
          "scene": {
           "xaxis": {
            "backgroundcolor": "#E5ECF6",
            "gridcolor": "white",
            "gridwidth": 2,
            "linecolor": "white",
            "showbackground": true,
            "ticks": "",
            "zerolinecolor": "white"
           },
           "yaxis": {
            "backgroundcolor": "#E5ECF6",
            "gridcolor": "white",
            "gridwidth": 2,
            "linecolor": "white",
            "showbackground": true,
            "ticks": "",
            "zerolinecolor": "white"
           },
           "zaxis": {
            "backgroundcolor": "#E5ECF6",
            "gridcolor": "white",
            "gridwidth": 2,
            "linecolor": "white",
            "showbackground": true,
            "ticks": "",
            "zerolinecolor": "white"
           }
          },
          "shapedefaults": {
           "line": {
            "color": "#2a3f5f"
           }
          },
          "ternary": {
           "aaxis": {
            "gridcolor": "white",
            "linecolor": "white",
            "ticks": ""
           },
           "baxis": {
            "gridcolor": "white",
            "linecolor": "white",
            "ticks": ""
           },
           "bgcolor": "#E5ECF6",
           "caxis": {
            "gridcolor": "white",
            "linecolor": "white",
            "ticks": ""
           }
          },
          "title": {
           "x": 0.05
          },
          "xaxis": {
           "automargin": true,
           "gridcolor": "white",
           "linecolor": "white",
           "ticks": "",
           "title": {
            "standoff": 15
           },
           "zerolinecolor": "white",
           "zerolinewidth": 2
          },
          "yaxis": {
           "automargin": true,
           "gridcolor": "white",
           "linecolor": "white",
           "ticks": "",
           "title": {
            "standoff": 15
           },
           "zerolinecolor": "white",
           "zerolinewidth": 2
          }
         }
        },
        "title": {
         "text": "2011 Average Unhealthy days by State"
        }
       }
      },
      "image/png": "[encoded data removed]"
     },
     "metadata": {},
     "output_type": "display_data"
    }
   ],
   "source": [
    "fig = go.Figure(data=go.Choropleth(\n",
    "    locations= g1['LocationAbbr'], # Spatial coordinates\n",
    "    z = g1['DataValue'], # Data to be color-coded\n",
    "    locationmode = 'USA-states', # set of locations match entries in `locations`\n",
    "    colorscale = 'Reds',\n",
    "    colorbar_title = \"Average Unhealthy Days\",\n",
    "))\n",
    "\n",
    "fig.update_layout(\n",
    "    title_text = '2011 Average Unhealthy days by State',\n",
    "    geo_scope='usa', # limite map scope to USA\n",
    ")\n",
    "\n",
    "fig.show(renderer='jupyterlab')"
   ]
  },
  {
   "cell_type": "markdown",
   "metadata": {},
   "source": [
    "**Opens an animation depicting total number of average unhealthy mental days reported each year from 2011 to 2018 for 50 states. If the mouse is hovered over any state in any year, the total number of days are reported alongisde state name. It is interesting to note here that in 2012, the reported number of unhealthy mental healthy has been lower than any other year in our data, across the country. The team is currently exploring the reason for this: is it that data was not reported correctly for that particular year or did something happen that resulted in less number of unhealthy mental days.** "
   ]
  },
  {
   "cell_type": "code",
   "execution_count": 51,
   "metadata": {
    "collapsed": false,
    "jupyter": {
     "outputs_hidden": false
    }
   },
   "outputs": [
    {
     "data": {
      "application/vnd.plotly.v1+json": {
       "config": {
        "plotlyServerURL": "https://plot.ly"
       },
       "data": [
        {
         "coloraxis": "coloraxis",
         "geo": "geo",
         "hovertemplate": "YearStart=2011<br>LocationAbbr=%{location}<br>DataValue=%{z}<extra></extra>",
         "locationmode": "USA-states",
         "locations": [
          "AL",
          "AK",
          "AZ",
          "AR",
          "CA",
          "CO",
          "CT",
          "DE",
          "DC",
          "FL",
          "GA",
          "GU",
          "HI",
          "ID",
          "IL",
          "IN",
          "IA",
          "KS",
          "KY",
          "LA",
          "ME",
          "MD",
          "MA",
          "MI",
          "MN",
          "MS",
          "MO",
          "MT",
          "NE",
          "NV",
          "NH",
          "NJ",
          "NM",
          "NY",
          "NC",
          "ND",
          "OH",
          "OK",
          "OR",
          "PA",
          "PR",
          "RI",
          "SC",
          "SD",
          "TN",
          "TX",
          "UT",
          "VT",
          "VA",
          "WA",
          "WV",
          "WI",
          "WY"
         ],
         "name": "",
         "type": "choropleth",
         "z": [
          35.300000000000004,
          24.700000000000003,
          28.3,
          43.9,
          33.599999999999994,
          31.7,
          33.9,
          24.200000000000003,
          25.7,
          37.7,
          31.5,
          20.1,
          21.8,
          30.2,
          33.7,
          31.3,
          25.700000000000003,
          29.6,
          36.4,
          40.1,
          32.1,
          30.3,
          28.200000000000003,
          36.3,
          33.5,
          30.900000000000002,
          33.699999999999996,
          28.6,
          28.5,
          34.4,
          31.5,
          22.7,
          27.800000000000004,
          32.3,
          33,
          16.6,
          26.8,
          38.099999999999994,
          27.7,
          38.6,
          14.9,
          32.2,
          37.599999999999994,
          19.799999999999997,
          19.2,
          32.4,
          22,
          34.4,
          26,
          30.199999999999996,
          40.3,
          19,
          21.8
         ]
        }
       ],
       "frames": [
        {
         "data": [
          {
           "coloraxis": "coloraxis",
           "geo": "geo",
           "hovertemplate": "YearStart=2011<br>LocationAbbr=%{location}<br>DataValue=%{z}<extra></extra>",
           "locationmode": "USA-states",
           "locations": [
            "AL",
            "AK",
            "AZ",
            "AR",
            "CA",
            "CO",
            "CT",
            "DE",
            "DC",
            "FL",
            "GA",
            "GU",
            "HI",
            "ID",
            "IL",
            "IN",
            "IA",
            "KS",
            "KY",
            "LA",
            "ME",
            "MD",
            "MA",
            "MI",
            "MN",
            "MS",
            "MO",
            "MT",
            "NE",
            "NV",
            "NH",
            "NJ",
            "NM",
            "NY",
            "NC",
            "ND",
            "OH",
            "OK",
            "OR",
            "PA",
            "PR",
            "RI",
            "SC",
            "SD",
            "TN",
            "TX",
            "UT",
            "VT",
            "VA",
            "WA",
            "WV",
            "WI",
            "WY"
           ],
           "name": "",
           "type": "choropleth",
           "z": [
            35.300000000000004,
            24.700000000000003,
            28.3,
            43.9,
            33.599999999999994,
            31.7,
            33.9,
            24.200000000000003,
            25.7,
            37.7,
            31.5,
            20.1,
            21.8,
            30.2,
            33.7,
            31.3,
            25.700000000000003,
            29.6,
            36.4,
            40.1,
            32.1,
            30.3,
            28.200000000000003,
            36.3,
            33.5,
            30.900000000000002,
            33.699999999999996,
            28.6,
            28.5,
            34.4,
            31.5,
            22.7,
            27.800000000000004,
            32.3,
            33,
            16.6,
            26.8,
            38.099999999999994,
            27.7,
            38.6,
            14.9,
            32.2,
            37.599999999999994,
            19.799999999999997,
            19.2,
            32.4,
            22,
            34.4,
            26,
            30.199999999999996,
            40.3,
            19,
            21.8
           ]
          }
         ],
         "name": "2011"
        },
        {
         "data": [
          {
           "coloraxis": "coloraxis",
           "geo": "geo",
           "hovertemplate": "YearStart=2012<br>LocationAbbr=%{location}<br>DataValue=%{z}<extra></extra>",
           "locationmode": "USA-states",
           "locations": [
            "AL",
            "AK",
            "AZ",
            "AR",
            "CA",
            "CO",
            "CT",
            "DE",
            "DC",
            "FL",
            "GA",
            "GU",
            "HI",
            "ID",
            "IL",
            "IN",
            "IA",
            "KS",
            "KY",
            "LA",
            "ME",
            "MD",
            "MA",
            "MI",
            "MN",
            "MS",
            "MO",
            "MT",
            "NE",
            "NV",
            "NH",
            "NJ",
            "NM",
            "NY",
            "NC",
            "ND",
            "OH",
            "OK",
            "OR",
            "PA",
            "PR",
            "RI",
            "SC",
            "SD",
            "TN",
            "TX",
            "UT",
            "VT",
            "VA",
            "WA",
            "WV",
            "WI",
            "WY"
           ],
           "name": "",
           "type": "choropleth",
           "z": [
            15.500000000000002,
            9.6,
            12,
            14,
            11.5,
            10.5,
            10.8,
            11,
            11.5,
            13.2,
            10.8,
            8.7,
            8.8,
            11.4,
            10.5,
            12.899999999999999,
            9.1,
            9.600000000000001,
            14.799999999999999,
            12.2,
            12,
            10.4,
            11.3,
            12.3,
            9.2,
            13.1,
            12.1,
            11.100000000000001,
            9.1,
            12.299999999999999,
            11.4,
            9.899999999999999,
            12,
            12.2,
            11.7,
            8.3,
            12.2,
            12.5,
            13.2,
            11.4,
            10.4,
            12.2,
            12.600000000000001,
            8.7,
            11.8,
            10.9,
            10.3,
            11.4,
            10.5,
            11.7,
            13.399999999999999,
            11.100000000000001,
            10.2
           ]
          }
         ],
         "name": "2012"
        },
        {
         "data": [
          {
           "coloraxis": "coloraxis",
           "geo": "geo",
           "hovertemplate": "YearStart=2013<br>LocationAbbr=%{location}<br>DataValue=%{z}<extra></extra>",
           "locationmode": "USA-states",
           "locations": [
            "AL",
            "AK",
            "AZ",
            "AR",
            "CA",
            "CO",
            "CT",
            "DE",
            "DC",
            "FL",
            "GA",
            "GU",
            "HI",
            "ID",
            "IL",
            "IN",
            "IA",
            "KS",
            "KY",
            "LA",
            "ME",
            "MD",
            "MA",
            "MI",
            "MN",
            "MS",
            "MO",
            "MT",
            "NE",
            "NV",
            "NH",
            "NJ",
            "NM",
            "NY",
            "NC",
            "ND",
            "OH",
            "OK",
            "OR",
            "PA",
            "PR",
            "RI",
            "SC",
            "SD",
            "TN",
            "TX",
            "UT",
            "VT",
            "VA",
            "WA",
            "WV",
            "WI",
            "WY"
           ],
           "name": "",
           "type": "choropleth",
           "z": [
            28,
            22.8,
            28.4,
            37.4,
            30.700000000000003,
            27.9,
            29.7,
            30.5,
            22.9,
            34.9,
            26.6,
            24.099999999999998,
            20.8,
            28.7,
            31.4,
            35.7,
            21.2,
            27.8,
            39.7,
            25.700000000000003,
            27.200000000000003,
            26.6,
            34.6,
            31.2,
            28.700000000000003,
            25.5,
            28.500000000000004,
            28.8,
            26.299999999999997,
            32.5,
            27.9,
            28.599999999999998,
            31.400000000000006,
            32.400000000000006,
            29.8,
            14.5,
            32.6,
            37.3,
            31.9,
            35.7,
            12.2,
            31.7,
            33.3,
            17.700000000000003,
            18.4,
            27.6,
            26.8,
            16.6,
            29.6,
            32.5,
            27.200000000000003,
            28,
            20.6
           ]
          }
         ],
         "name": "2013"
        },
        {
         "data": [
          {
           "coloraxis": "coloraxis",
           "geo": "geo",
           "hovertemplate": "YearStart=2014<br>LocationAbbr=%{location}<br>DataValue=%{z}<extra></extra>",
           "locationmode": "USA-states",
           "locations": [
            "AL",
            "AK",
            "AZ",
            "AR",
            "CA",
            "CO",
            "CT",
            "DE",
            "DC",
            "FL",
            "GA",
            "GU",
            "HI",
            "ID",
            "IL",
            "IN",
            "IA",
            "KS",
            "KY",
            "LA",
            "ME",
            "MD",
            "MA",
            "MI",
            "MN",
            "MS",
            "MO",
            "MT",
            "NE",
            "NV",
            "NH",
            "NJ",
            "NM",
            "NY",
            "NC",
            "ND",
            "OH",
            "OK",
            "OR",
            "PA",
            "PR",
            "RI",
            "SC",
            "SD",
            "TN",
            "TX",
            "UT",
            "VT",
            "VA",
            "WA",
            "WV",
            "WI",
            "WY"
           ],
           "name": "",
           "type": "choropleth",
           "z": [
            38.300000000000004,
            23.200000000000003,
            31.3,
            37.800000000000004,
            31.3,
            27.099999999999998,
            31.4,
            25,
            25.000000000000004,
            32.7,
            33,
            23.900000000000002,
            24.5,
            20.099999999999998,
            30.4,
            33.2,
            26.5,
            28.700000000000003,
            35.8,
            26.3,
            25.3,
            25.9,
            33,
            37.300000000000004,
            26.9,
            21,
            31.8,
            26.5,
            26,
            24.6,
            16.4,
            29.2,
            26.8,
            30.599999999999998,
            31.9,
            13.8,
            38.800000000000004,
            32.900000000000006,
            31.1,
            33.9,
            11.2,
            34.5,
            34.1,
            13.5,
            31.200000000000003,
            25.5,
            32.2,
            21.400000000000002,
            26.200000000000003,
            31.1,
            32.3,
            34.8,
            20.799999999999997
           ]
          }
         ],
         "name": "2014"
        },
        {
         "data": [
          {
           "coloraxis": "coloraxis",
           "geo": "geo",
           "hovertemplate": "YearStart=2015<br>LocationAbbr=%{location}<br>DataValue=%{z}<extra></extra>",
           "locationmode": "USA-states",
           "locations": [
            "AL",
            "AK",
            "AZ",
            "AR",
            "CA",
            "CO",
            "CT",
            "DE",
            "DC",
            "FL",
            "GA",
            "GU",
            "HI",
            "ID",
            "IL",
            "IN",
            "IA",
            "KS",
            "KY",
            "LA",
            "ME",
            "MD",
            "MA",
            "MI",
            "MN",
            "MS",
            "MO",
            "MT",
            "NE",
            "NV",
            "NH",
            "NJ",
            "NM",
            "NY",
            "NC",
            "ND",
            "OH",
            "OK",
            "OR",
            "PA",
            "PR",
            "RI",
            "SC",
            "SD",
            "TN",
            "TX",
            "UT",
            "VT",
            "VA",
            "WA",
            "WV",
            "WI",
            "WY"
           ],
           "name": "",
           "type": "choropleth",
           "z": [
            29.3,
            25.6,
            35.1,
            36.4,
            29.999999999999996,
            30.4,
            32.2,
            21.5,
            23.299999999999997,
            34.6,
            32.2,
            21.2,
            21.800000000000004,
            23.1,
            29.2,
            31,
            22.5,
            29.999999999999996,
            36.400000000000006,
            37.1,
            30.799999999999997,
            29.1,
            32.4,
            35.900000000000006,
            25.6,
            22.4,
            36.800000000000004,
            22.5,
            25.800000000000004,
            22.6,
            19.1,
            28.6,
            26.199999999999996,
            31.5,
            29.799999999999997,
            17.6,
            33.7,
            33.199999999999996,
            39,
            33.699999999999996,
            11.299999999999999,
            34.5,
            37.4,
            22.700000000000003,
            28,
            22.400000000000002,
            24.199999999999996,
            31.499999999999996,
            26.1,
            31.5,
            34.6,
            33.50000000000001,
            21.7
           ]
          }
         ],
         "name": "2015"
        },
        {
         "data": [
          {
           "coloraxis": "coloraxis",
           "geo": "geo",
           "hovertemplate": "YearStart=2016<br>LocationAbbr=%{location}<br>DataValue=%{z}<extra></extra>",
           "locationmode": "USA-states",
           "locations": [
            "AL",
            "AK",
            "AZ",
            "AR",
            "CA",
            "CO",
            "CT",
            "DE",
            "DC",
            "FL",
            "GA",
            "GU",
            "HI",
            "ID",
            "IL",
            "IN",
            "IA",
            "KS",
            "KY",
            "LA",
            "ME",
            "MD",
            "MA",
            "MI",
            "MN",
            "MS",
            "MO",
            "MT",
            "NE",
            "NV",
            "NH",
            "NJ",
            "NM",
            "NY",
            "NC",
            "ND",
            "OH",
            "OK",
            "OR",
            "PA",
            "PR",
            "RI",
            "SC",
            "SD",
            "TN",
            "TX",
            "UT",
            "VT",
            "VI",
            "VA",
            "WA",
            "WV",
            "WI",
            "WY"
           ],
           "name": "",
           "type": "choropleth",
           "z": [
            38.4,
            26.3,
            28.799999999999997,
            35.7,
            31.9,
            30.4,
            32.4,
            24.799999999999997,
            23.6,
            31.099999999999998,
            25.2,
            24.099999999999998,
            23.5,
            29.5,
            26.299999999999997,
            33.1,
            24.7,
            28.799999999999997,
            42.1,
            34.7,
            30.8,
            27.599999999999994,
            35.8,
            36.6,
            27.799999999999997,
            28.8,
            36.1,
            28.1,
            29.8,
            38.5,
            31.9,
            22.599999999999998,
            27.2,
            28.099999999999998,
            33.3,
            22.7,
            35.9,
            35.5,
            31.900000000000002,
            36.5,
            11.299999999999999,
            39.7,
            35.5,
            14.1,
            39.6,
            22.700000000000003,
            25.9,
            36,
            13.7,
            27.6,
            28.3,
            36.9,
            28,
            17.9
           ]
          }
         ],
         "name": "2016"
        },
        {
         "data": [
          {
           "coloraxis": "coloraxis",
           "geo": "geo",
           "hovertemplate": "YearStart=2017<br>LocationAbbr=%{location}<br>DataValue=%{z}<extra></extra>",
           "locationmode": "USA-states",
           "locations": [
            "AL",
            "AK",
            "AZ",
            "AR",
            "CA",
            "CO",
            "CT",
            "DE",
            "DC",
            "FL",
            "GA",
            "GU",
            "HI",
            "ID",
            "IL",
            "IN",
            "IA",
            "KS",
            "KY",
            "LA",
            "ME",
            "MD",
            "MA",
            "MI",
            "MN",
            "MS",
            "MO",
            "MT",
            "NE",
            "NV",
            "NH",
            "NJ",
            "NM",
            "NY",
            "NC",
            "ND",
            "OH",
            "OK",
            "OR",
            "PA",
            "PR",
            "RI",
            "SC",
            "SD",
            "TN",
            "TX",
            "UT",
            "VT",
            "VA",
            "WA",
            "WV",
            "WI",
            "WY"
           ],
           "name": "",
           "type": "choropleth",
           "z": [
            41.4,
            22.9,
            32.9,
            35.099999999999994,
            25.599999999999994,
            32.1,
            30.7,
            26.8,
            28.4,
            31.199999999999996,
            30.199999999999996,
            28.800000000000004,
            23.6,
            22.7,
            26.9,
            39.199999999999996,
            29.8,
            32,
            37.3,
            46.2,
            39.2,
            29.8,
            34,
            37.4,
            28.599999999999998,
            39.3,
            36.800000000000004,
            24.6,
            30.9,
            32,
            25.4,
            32,
            31.299999999999997,
            33.2,
            32.2,
            36.599999999999994,
            39.599999999999994,
            40.39999999999999,
            38.7,
            39.400000000000006,
            17.1,
            37.9,
            38.1,
            16.799999999999997,
            35.9,
            34.1,
            29.5,
            35.099999999999994,
            31.3,
            34.2,
            37.9,
            34.9,
            28.4
           ]
          }
         ],
         "name": "2017"
        },
        {
         "data": [
          {
           "coloraxis": "coloraxis",
           "geo": "geo",
           "hovertemplate": "YearStart=2018<br>LocationAbbr=%{location}<br>DataValue=%{z}<extra></extra>",
           "locationmode": "USA-states",
           "locations": [
            "AL",
            "AK",
            "AZ",
            "AR",
            "CA",
            "CO",
            "CT",
            "DE",
            "DC",
            "FL",
            "GA",
            "GU",
            "HI",
            "ID",
            "IL",
            "IN",
            "IA",
            "KS",
            "KY",
            "LA",
            "ME",
            "MD",
            "MA",
            "MI",
            "MN",
            "MS",
            "MO",
            "MT",
            "NE",
            "NV",
            "NH",
            "NJ",
            "NM",
            "NY",
            "NC",
            "ND",
            "OH",
            "OK",
            "OR",
            "PA",
            "PR",
            "RI",
            "SC",
            "SD",
            "TN",
            "TX",
            "UT",
            "VT",
            "VA",
            "WA",
            "WV",
            "WI",
            "WY"
           ],
           "name": "",
           "type": "choropleth",
           "z": [
            34.8,
            30.299999999999997,
            31.300000000000004,
            48.10000000000001,
            31.9,
            32.099999999999994,
            31.5,
            33.599999999999994,
            37.199999999999996,
            31.4,
            31.8,
            17.9,
            27,
            23.4,
            31.9,
            36.7,
            33.5,
            33.599999999999994,
            41.599999999999994,
            44.1,
            40.9,
            30.500000000000004,
            33.1,
            40.400000000000006,
            30.9,
            30.5,
            40.1,
            28.4,
            27.7,
            33.9,
            36.9,
            25.7,
            36.6,
            26.8,
            28.199999999999996,
            36.8,
            43.49999999999999,
            37.5,
            39.6,
            36.4,
            12,
            36.699999999999996,
            38.7,
            16,
            42.89999999999999,
            30.7,
            30.7,
            32.9,
            33.9,
            32,
            39.3,
            37.8,
            30.9
           ]
          }
         ],
         "name": "2018"
        }
       ],
       "layout": {
        "autosize": true,
        "coloraxis": {
         "cmax": 50,
         "cmin": 5,
         "colorbar": {
          "title": {
           "text": "DataValue"
          }
         },
         "colorscale": [
          [
           0,
           "#0d0887"
          ],
          [
           0.1111111111111111,
           "#46039f"
          ],
          [
           0.2222222222222222,
           "#7201a8"
          ],
          [
           0.3333333333333333,
           "#9c179e"
          ],
          [
           0.4444444444444444,
           "#bd3786"
          ],
          [
           0.5555555555555556,
           "#d8576b"
          ],
          [
           0.6666666666666666,
           "#ed7953"
          ],
          [
           0.7777777777777778,
           "#fb9f3a"
          ],
          [
           0.8888888888888888,
           "#fdca26"
          ],
          [
           1,
           "#f0f921"
          ]
         ]
        },
        "geo": {
         "center": {
          "lat": 38.5713631962021,
          "lon": -94.96856364619194
         },
         "domain": {
          "x": [
           0,
           1
          ],
          "y": [
           0,
           1
          ]
         },
         "projection": {
          "scale": 0.9999999999999999
         },
         "scope": "usa"
        },
        "legend": {
         "tracegroupgap": 0
        },
        "sliders": [
         {
          "active": 0,
          "currentvalue": {
           "prefix": "YearStart="
          },
          "len": 0.9,
          "pad": {
           "b": 10,
           "t": 60
          },
          "steps": [
           {
            "args": [
             [
              "2011"
             ],
             {
              "frame": {
               "duration": 0,
               "redraw": true
              },
              "fromcurrent": true,
              "mode": "immediate",
              "transition": {
               "duration": 0,
               "easing": "linear"
              }
             }
            ],
            "label": "2011",
            "method": "animate"
           },
           {
            "args": [
             [
              "2012"
             ],
             {
              "frame": {
               "duration": 0,
               "redraw": true
              },
              "fromcurrent": true,
              "mode": "immediate",
              "transition": {
               "duration": 0,
               "easing": "linear"
              }
             }
            ],
            "label": "2012",
            "method": "animate"
           },
           {
            "args": [
             [
              "2013"
             ],
             {
              "frame": {
               "duration": 0,
               "redraw": true
              },
              "fromcurrent": true,
              "mode": "immediate",
              "transition": {
               "duration": 0,
               "easing": "linear"
              }
             }
            ],
            "label": "2013",
            "method": "animate"
           },
           {
            "args": [
             [
              "2014"
             ],
             {
              "frame": {
               "duration": 0,
               "redraw": true
              },
              "fromcurrent": true,
              "mode": "immediate",
              "transition": {
               "duration": 0,
               "easing": "linear"
              }
             }
            ],
            "label": "2014",
            "method": "animate"
           },
           {
            "args": [
             [
              "2015"
             ],
             {
              "frame": {
               "duration": 0,
               "redraw": true
              },
              "fromcurrent": true,
              "mode": "immediate",
              "transition": {
               "duration": 0,
               "easing": "linear"
              }
             }
            ],
            "label": "2015",
            "method": "animate"
           },
           {
            "args": [
             [
              "2016"
             ],
             {
              "frame": {
               "duration": 0,
               "redraw": true
              },
              "fromcurrent": true,
              "mode": "immediate",
              "transition": {
               "duration": 0,
               "easing": "linear"
              }
             }
            ],
            "label": "2016",
            "method": "animate"
           },
           {
            "args": [
             [
              "2017"
             ],
             {
              "frame": {
               "duration": 0,
               "redraw": true
              },
              "fromcurrent": true,
              "mode": "immediate",
              "transition": {
               "duration": 0,
               "easing": "linear"
              }
             }
            ],
            "label": "2017",
            "method": "animate"
           },
           {
            "args": [
             [
              "2018"
             ],
             {
              "frame": {
               "duration": 0,
               "redraw": true
              },
              "fromcurrent": true,
              "mode": "immediate",
              "transition": {
               "duration": 0,
               "easing": "linear"
              }
             }
            ],
            "label": "2018",
            "method": "animate"
           }
          ],
          "x": 0.1,
          "xanchor": "left",
          "y": 0,
          "yanchor": "top"
         }
        ],
        "template": {
         "data": {
          "bar": [
           {
            "error_x": {
             "color": "#2a3f5f"
            },
            "error_y": {
             "color": "#2a3f5f"
            },
            "marker": {
             "line": {
              "color": "#E5ECF6",
              "width": 0.5
             }
            },
            "type": "bar"
           }
          ],
          "barpolar": [
           {
            "marker": {
             "line": {
              "color": "#E5ECF6",
              "width": 0.5
             }
            },
            "type": "barpolar"
           }
          ],
          "carpet": [
           {
            "aaxis": {
             "endlinecolor": "#2a3f5f",
             "gridcolor": "white",
             "linecolor": "white",
             "minorgridcolor": "white",
             "startlinecolor": "#2a3f5f"
            },
            "baxis": {
             "endlinecolor": "#2a3f5f",
             "gridcolor": "white",
             "linecolor": "white",
             "minorgridcolor": "white",
             "startlinecolor": "#2a3f5f"
            },
            "type": "carpet"
           }
          ],
          "choropleth": [
           {
            "colorbar": {
             "outlinewidth": 0,
             "ticks": ""
            },
            "type": "choropleth"
           }
          ],
          "contour": [
           {
            "colorbar": {
             "outlinewidth": 0,
             "ticks": ""
            },
            "colorscale": [
             [
              0,
              "#0d0887"
             ],
             [
              0.1111111111111111,
              "#46039f"
             ],
             [
              0.2222222222222222,
              "#7201a8"
             ],
             [
              0.3333333333333333,
              "#9c179e"
             ],
             [
              0.4444444444444444,
              "#bd3786"
             ],
             [
              0.5555555555555556,
              "#d8576b"
             ],
             [
              0.6666666666666666,
              "#ed7953"
             ],
             [
              0.7777777777777778,
              "#fb9f3a"
             ],
             [
              0.8888888888888888,
              "#fdca26"
             ],
             [
              1,
              "#f0f921"
             ]
            ],
            "type": "contour"
           }
          ],
          "contourcarpet": [
           {
            "colorbar": {
             "outlinewidth": 0,
             "ticks": ""
            },
            "type": "contourcarpet"
           }
          ],
          "heatmap": [
           {
            "colorbar": {
             "outlinewidth": 0,
             "ticks": ""
            },
            "colorscale": [
             [
              0,
              "#0d0887"
             ],
             [
              0.1111111111111111,
              "#46039f"
             ],
             [
              0.2222222222222222,
              "#7201a8"
             ],
             [
              0.3333333333333333,
              "#9c179e"
             ],
             [
              0.4444444444444444,
              "#bd3786"
             ],
             [
              0.5555555555555556,
              "#d8576b"
             ],
             [
              0.6666666666666666,
              "#ed7953"
             ],
             [
              0.7777777777777778,
              "#fb9f3a"
             ],
             [
              0.8888888888888888,
              "#fdca26"
             ],
             [
              1,
              "#f0f921"
             ]
            ],
            "type": "heatmap"
           }
          ],
          "heatmapgl": [
           {
            "colorbar": {
             "outlinewidth": 0,
             "ticks": ""
            },
            "colorscale": [
             [
              0,
              "#0d0887"
             ],
             [
              0.1111111111111111,
              "#46039f"
             ],
             [
              0.2222222222222222,
              "#7201a8"
             ],
             [
              0.3333333333333333,
              "#9c179e"
             ],
             [
              0.4444444444444444,
              "#bd3786"
             ],
             [
              0.5555555555555556,
              "#d8576b"
             ],
             [
              0.6666666666666666,
              "#ed7953"
             ],
             [
              0.7777777777777778,
              "#fb9f3a"
             ],
             [
              0.8888888888888888,
              "#fdca26"
             ],
             [
              1,
              "#f0f921"
             ]
            ],
            "type": "heatmapgl"
           }
          ],
          "histogram": [
           {
            "marker": {
             "colorbar": {
              "outlinewidth": 0,
              "ticks": ""
             }
            },
            "type": "histogram"
           }
          ],
          "histogram2d": [
           {
            "colorbar": {
             "outlinewidth": 0,
             "ticks": ""
            },
            "colorscale": [
             [
              0,
              "#0d0887"
             ],
             [
              0.1111111111111111,
              "#46039f"
             ],
             [
              0.2222222222222222,
              "#7201a8"
             ],
             [
              0.3333333333333333,
              "#9c179e"
             ],
             [
              0.4444444444444444,
              "#bd3786"
             ],
             [
              0.5555555555555556,
              "#d8576b"
             ],
             [
              0.6666666666666666,
              "#ed7953"
             ],
             [
              0.7777777777777778,
              "#fb9f3a"
             ],
             [
              0.8888888888888888,
              "#fdca26"
             ],
             [
              1,
              "#f0f921"
             ]
            ],
            "type": "histogram2d"
           }
          ],
          "histogram2dcontour": [
           {
            "colorbar": {
             "outlinewidth": 0,
             "ticks": ""
            },
            "colorscale": [
             [
              0,
              "#0d0887"
             ],
             [
              0.1111111111111111,
              "#46039f"
             ],
             [
              0.2222222222222222,
              "#7201a8"
             ],
             [
              0.3333333333333333,
              "#9c179e"
             ],
             [
              0.4444444444444444,
              "#bd3786"
             ],
             [
              0.5555555555555556,
              "#d8576b"
             ],
             [
              0.6666666666666666,
              "#ed7953"
             ],
             [
              0.7777777777777778,
              "#fb9f3a"
             ],
             [
              0.8888888888888888,
              "#fdca26"
             ],
             [
              1,
              "#f0f921"
             ]
            ],
            "type": "histogram2dcontour"
           }
          ],
          "mesh3d": [
           {
            "colorbar": {
             "outlinewidth": 0,
             "ticks": ""
            },
            "type": "mesh3d"
           }
          ],
          "parcoords": [
           {
            "line": {
             "colorbar": {
              "outlinewidth": 0,
              "ticks": ""
             }
            },
            "type": "parcoords"
           }
          ],
          "pie": [
           {
            "automargin": true,
            "type": "pie"
           }
          ],
          "scatter": [
           {
            "marker": {
             "colorbar": {
              "outlinewidth": 0,
              "ticks": ""
             }
            },
            "type": "scatter"
           }
          ],
          "scatter3d": [
           {
            "line": {
             "colorbar": {
              "outlinewidth": 0,
              "ticks": ""
             }
            },
            "marker": {
             "colorbar": {
              "outlinewidth": 0,
              "ticks": ""
             }
            },
            "type": "scatter3d"
           }
          ],
          "scattercarpet": [
           {
            "marker": {
             "colorbar": {
              "outlinewidth": 0,
              "ticks": ""
             }
            },
            "type": "scattercarpet"
           }
          ],
          "scattergeo": [
           {
            "marker": {
             "colorbar": {
              "outlinewidth": 0,
              "ticks": ""
             }
            },
            "type": "scattergeo"
           }
          ],
          "scattergl": [
           {
            "marker": {
             "colorbar": {
              "outlinewidth": 0,
              "ticks": ""
             }
            },
            "type": "scattergl"
           }
          ],
          "scattermapbox": [
           {
            "marker": {
             "colorbar": {
              "outlinewidth": 0,
              "ticks": ""
             }
            },
            "type": "scattermapbox"
           }
          ],
          "scatterpolar": [
           {
            "marker": {
             "colorbar": {
              "outlinewidth": 0,
              "ticks": ""
             }
            },
            "type": "scatterpolar"
           }
          ],
          "scatterpolargl": [
           {
            "marker": {
             "colorbar": {
              "outlinewidth": 0,
              "ticks": ""
             }
            },
            "type": "scatterpolargl"
           }
          ],
          "scatterternary": [
           {
            "marker": {
             "colorbar": {
              "outlinewidth": 0,
              "ticks": ""
             }
            },
            "type": "scatterternary"
           }
          ],
          "surface": [
           {
            "colorbar": {
             "outlinewidth": 0,
             "ticks": ""
            },
            "colorscale": [
             [
              0,
              "#0d0887"
             ],
             [
              0.1111111111111111,
              "#46039f"
             ],
             [
              0.2222222222222222,
              "#7201a8"
             ],
             [
              0.3333333333333333,
              "#9c179e"
             ],
             [
              0.4444444444444444,
              "#bd3786"
             ],
             [
              0.5555555555555556,
              "#d8576b"
             ],
             [
              0.6666666666666666,
              "#ed7953"
             ],
             [
              0.7777777777777778,
              "#fb9f3a"
             ],
             [
              0.8888888888888888,
              "#fdca26"
             ],
             [
              1,
              "#f0f921"
             ]
            ],
            "type": "surface"
           }
          ],
          "table": [
           {
            "cells": {
             "fill": {
              "color": "#EBF0F8"
             },
             "line": {
              "color": "white"
             }
            },
            "header": {
             "fill": {
              "color": "#C8D4E3"
             },
             "line": {
              "color": "white"
             }
            },
            "type": "table"
           }
          ]
         },
         "layout": {
          "annotationdefaults": {
           "arrowcolor": "#2a3f5f",
           "arrowhead": 0,
           "arrowwidth": 1
          },
          "coloraxis": {
           "colorbar": {
            "outlinewidth": 0,
            "ticks": ""
           }
          },
          "colorscale": {
           "diverging": [
            [
             0,
             "#8e0152"
            ],
            [
             0.1,
             "#c51b7d"
            ],
            [
             0.2,
             "#de77ae"
            ],
            [
             0.3,
             "#f1b6da"
            ],
            [
             0.4,
             "#fde0ef"
            ],
            [
             0.5,
             "#f7f7f7"
            ],
            [
             0.6,
             "#e6f5d0"
            ],
            [
             0.7,
             "#b8e186"
            ],
            [
             0.8,
             "#7fbc41"
            ],
            [
             0.9,
             "#4d9221"
            ],
            [
             1,
             "#276419"
            ]
           ],
           "sequential": [
            [
             0,
             "#0d0887"
            ],
            [
             0.1111111111111111,
             "#46039f"
            ],
            [
             0.2222222222222222,
             "#7201a8"
            ],
            [
             0.3333333333333333,
             "#9c179e"
            ],
            [
             0.4444444444444444,
             "#bd3786"
            ],
            [
             0.5555555555555556,
             "#d8576b"
            ],
            [
             0.6666666666666666,
             "#ed7953"
            ],
            [
             0.7777777777777778,
             "#fb9f3a"
            ],
            [
             0.8888888888888888,
             "#fdca26"
            ],
            [
             1,
             "#f0f921"
            ]
           ],
           "sequentialminus": [
            [
             0,
             "#0d0887"
            ],
            [
             0.1111111111111111,
             "#46039f"
            ],
            [
             0.2222222222222222,
             "#7201a8"
            ],
            [
             0.3333333333333333,
             "#9c179e"
            ],
            [
             0.4444444444444444,
             "#bd3786"
            ],
            [
             0.5555555555555556,
             "#d8576b"
            ],
            [
             0.6666666666666666,
             "#ed7953"
            ],
            [
             0.7777777777777778,
             "#fb9f3a"
            ],
            [
             0.8888888888888888,
             "#fdca26"
            ],
            [
             1,
             "#f0f921"
            ]
           ]
          },
          "colorway": [
           "#636efa",
           "#EF553B",
           "#00cc96",
           "#ab63fa",
           "#FFA15A",
           "#19d3f3",
           "#FF6692",
           "#B6E880",
           "#FF97FF",
           "#FECB52"
          ],
          "font": {
           "color": "#2a3f5f"
          },
          "geo": {
           "bgcolor": "white",
           "lakecolor": "white",
           "landcolor": "#E5ECF6",
           "showlakes": true,
           "showland": true,
           "subunitcolor": "white"
          },
          "hoverlabel": {
           "align": "left"
          },
          "hovermode": "closest",
          "mapbox": {
           "style": "light"
          },
          "paper_bgcolor": "white",
          "plot_bgcolor": "#E5ECF6",
          "polar": {
           "angularaxis": {
            "gridcolor": "white",
            "linecolor": "white",
            "ticks": ""
           },
           "bgcolor": "#E5ECF6",
           "radialaxis": {
            "gridcolor": "white",
            "linecolor": "white",
            "ticks": ""
           }
          },
          "scene": {
           "xaxis": {
            "backgroundcolor": "#E5ECF6",
            "gridcolor": "white",
            "gridwidth": 2,
            "linecolor": "white",
            "showbackground": true,
            "ticks": "",
            "zerolinecolor": "white"
           },
           "yaxis": {
            "backgroundcolor": "#E5ECF6",
            "gridcolor": "white",
            "gridwidth": 2,
            "linecolor": "white",
            "showbackground": true,
            "ticks": "",
            "zerolinecolor": "white"
           },
           "zaxis": {
            "backgroundcolor": "#E5ECF6",
            "gridcolor": "white",
            "gridwidth": 2,
            "linecolor": "white",
            "showbackground": true,
            "ticks": "",
            "zerolinecolor": "white"
           }
          },
          "shapedefaults": {
           "line": {
            "color": "#2a3f5f"
           }
          },
          "ternary": {
           "aaxis": {
            "gridcolor": "white",
            "linecolor": "white",
            "ticks": ""
           },
           "baxis": {
            "gridcolor": "white",
            "linecolor": "white",
            "ticks": ""
           },
           "bgcolor": "#E5ECF6",
           "caxis": {
            "gridcolor": "white",
            "linecolor": "white",
            "ticks": ""
           }
          },
          "title": {
           "x": 0.05
          },
          "xaxis": {
           "automargin": true,
           "gridcolor": "white",
           "linecolor": "white",
           "ticks": "",
           "title": {
            "standoff": 15
           },
           "zerolinecolor": "white",
           "zerolinewidth": 2
          },
          "yaxis": {
           "automargin": true,
           "gridcolor": "white",
           "linecolor": "white",
           "ticks": "",
           "title": {
            "standoff": 15
           },
           "zerolinecolor": "white",
           "zerolinewidth": 2
          }
         }
        },
        "title": {
         "text": "Average No of unhealthy days per state over years"
        },
        "updatemenus": [
         {
          "buttons": [
           {
            "args": [
             null,
             {
              "frame": {
               "duration": 500,
               "redraw": true
              },
              "fromcurrent": true,
              "mode": "immediate",
              "transition": {
               "duration": 500,
               "easing": "linear"
              }
             }
            ],
            "label": "&#9654;",
            "method": "animate"
           },
           {
            "args": [
             [
              null
             ],
             {
              "frame": {
               "duration": 0,
               "redraw": true
              },
              "fromcurrent": true,
              "mode": "immediate",
              "transition": {
               "duration": 0,
               "easing": "linear"
              }
             }
            ],
            "label": "&#9724;",
            "method": "animate"
           }
          ],
          "direction": "left",
          "pad": {
           "r": 10,
           "t": 70
          },
          "showactive": false,
          "type": "buttons",
          "x": 0.1,
          "xanchor": "right",
          "y": 0,
          "yanchor": "top"
         }
        ]
       }
      },
      "image/png": "[encoded data removed]"
     },
     "metadata": {},
     "output_type": "display_data"
    }
   ],
   "source": [
    "import plotly.express as px\n",
    "fig = px.choropleth(all_yrs, \n",
    "              locations = 'LocationAbbr',\n",
    "              color=\"DataValue\", \n",
    "              animation_frame=\"YearStart\",\n",
    "              color_continuous_scale=\"Plasma\",\n",
    "              locationmode='USA-states',\n",
    "              scope=\"usa\",\n",
    "              range_color=(5, 50),\n",
    "              title='Average No of unhealthy days per state over years',\n",
    "              height=600\n",
    "             )\n",
    "fig.show(renderer = 'jupyterlab')\n",
    "#The animation might not work as it requires plotly widget and plotly extension for jupyter lab"
   ]
  }
 ],
 "metadata": {
  "kernelspec": {
   "display_name": "Python 3",
   "language": "python",
   "name": "python3"
  },
  "language_info": {
   "codemirror_mode": {
    "name": "ipython",
    "version": 3
   },
   "file_extension": ".py",
   "mimetype": "text/x-python",
   "name": "python",
   "nbconvert_exporter": "python",
   "pygments_lexer": "ipython3",
   "version": "3.8.3"
  }
 },
 "nbformat": 4,
 "nbformat_minor": 4
}
